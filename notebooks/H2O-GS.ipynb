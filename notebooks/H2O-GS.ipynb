{
 "cells": [
  {
   "cell_type": "markdown",
   "metadata": {},
   "source": [
    "# Airbnb New User Bookings - Gradient Boosting with H2O"
   ]
  },
  {
   "cell_type": "markdown",
   "metadata": {},
   "source": [
    "Load the required libraries"
   ]
  },
  {
   "cell_type": "code",
   "execution_count": null,
   "metadata": {
    "collapsed": false
   },
   "outputs": [],
   "source": [
    "import h2o\n",
    "import pandas as pd\n",
    "import numpy as np"
   ]
  },
  {
   "cell_type": "markdown",
   "metadata": {},
   "source": [
    "Initialize H2O cluster:"
   ]
  },
  {
   "cell_type": "code",
   "execution_count": null,
   "metadata": {
    "collapsed": false
   },
   "outputs": [],
   "source": [
    "h2o.init()\n",
    "h2o.remove_all() "
   ]
  },
  {
   "cell_type": "markdown",
   "metadata": {},
   "source": [
    "## Data Loading"
   ]
  },
  {
   "cell_type": "code",
   "execution_count": null,
   "metadata": {
    "collapsed": false
   },
   "outputs": [],
   "source": [
    "train_users = h2o.import_file(\"../datasets/processed/preprocessed.csv\")"
   ]
  },
  {
   "cell_type": "markdown",
   "metadata": {},
   "source": [
    "Remove train users's ID's since we don't need them to train our classifier"
   ]
  },
  {
   "cell_type": "code",
   "execution_count": null,
   "metadata": {
    "collapsed": true
   },
   "outputs": [],
   "source": [
    "train_users = train_users.drop('id')"
   ]
  },
  {
   "cell_type": "code",
   "execution_count": null,
   "metadata": {
    "collapsed": false
   },
   "outputs": [],
   "source": [
    "train_users = train_users.drop('C1')"
   ]
  },
  {
   "cell_type": "code",
   "execution_count": null,
   "metadata": {
    "collapsed": false
   },
   "outputs": [],
   "source": [
    "train_users.nrow"
   ]
  },
  {
   "cell_type": "code",
   "execution_count": null,
   "metadata": {
    "collapsed": false
   },
   "outputs": [],
   "source": [
    "X = train_users.columns\n",
    "del X[train_users.columns.index('country_destination')]"
   ]
  },
  {
   "cell_type": "code",
   "execution_count": null,
   "metadata": {
    "collapsed": true
   },
   "outputs": [],
   "source": [
    "# X =[\n",
    "#     u'date_account_created',\n",
    "#     u'timestamp_first_active',\n",
    "#     u'gender',\n",
    "#     u'age',\n",
    "#     u'signup_method',\n",
    "#     u'signup_flow',\n",
    "#     u'language',\n",
    "#     u'affiliate_channel',\n",
    "#     u'affiliate_provider',\n",
    "#     u'first_affiliate_tracked',\n",
    "#     u'signup_app',\n",
    "#     u'first_device_type',\n",
    "#     u'first_browser',\n",
    "# #     u'country_destination'\n",
    "# ]\n",
    "\n",
    "y = u'country_destination'"
   ]
  },
  {
   "cell_type": "code",
   "execution_count": null,
   "metadata": {
    "collapsed": true
   },
   "outputs": [],
   "source": [
    "from h2o.grid.grid_search import H2OGridSearch\n",
    "from h2o.estimators.gbm import H2OGradientBoostingEstimator\n",
    "\n",
    "gbe = H2OGradientBoostingEstimator(\n",
    "    distribution='multinomial', \n",
    "#     min_rows=None, \n",
    "#     nbins=None,\n",
    "#     sample_rate=None, \n",
    "#     col_sample_rate=None, \n",
    "#     nbins_top_level=None, \n",
    "#     nbins_cats=None, \n",
    "#     balance_classes=None,\n",
    "#     max_after_balance_size=None, \n",
    "#     seed=None, \n",
    "#     build_tree_one_node=None,\n",
    "    nfolds=10, \n",
    "#     fold_assignment=None, \n",
    "#     keep_cross_validation_predictions=None,\n",
    "#     stopping_rounds=None, \n",
    "#     stopping_metric=None, \n",
    "#     stopping_tolerance=None,\n",
    "#     score_each_iteration=None, \n",
    "#     checkpoint=None\n",
    ")\n",
    "\n",
    "hyper_parameters = {\n",
    "    \"ntrees\": [1], \n",
    "    \"max_depth\": [1], \n",
    "    \"learn_rate\": [0.1], \n",
    "}\n",
    "\n",
    "gs = H2OGridSearch(gbe, hyper_params=hyper_parameters)"
   ]
  },
  {
   "cell_type": "code",
   "execution_count": null,
   "metadata": {
    "collapsed": false
   },
   "outputs": [],
   "source": [
    "gs.train(X, y, training_frame=train_users)"
   ]
  },
  {
   "cell_type": "code",
   "execution_count": null,
   "metadata": {
    "collapsed": false
   },
   "outputs": [],
   "source": [
    "gs.r2()"
   ]
  },
  {
   "cell_type": "markdown",
   "metadata": {},
   "source": [
    "### Predictions"
   ]
  },
  {
   "cell_type": "code",
   "execution_count": null,
   "metadata": {
    "collapsed": false
   },
   "outputs": [],
   "source": [
    "test_users = h2o.import_file(\"../data/raw/test_users.csv\")"
   ]
  },
  {
   "cell_type": "code",
   "execution_count": null,
   "metadata": {
    "collapsed": false
   },
   "outputs": [],
   "source": [
    "predictions = dl.predict(test_users.drop('id'))"
   ]
  },
  {
   "cell_type": "markdown",
   "metadata": {},
   "source": [
    "### Make CSV for submission"
   ]
  },
  {
   "cell_type": "code",
   "execution_count": null,
   "metadata": {
    "collapsed": true
   },
   "outputs": [],
   "source": [
    "# Load the predictions into a DataFrame\n",
    "country_predictions = predictions.as_data_frame()\n",
    "country_predictions = pd.DataFrame(country_predictions).transpose()\n",
    "\n",
    "# Use first row as column names\n",
    "country_predictions.columns = country_predictions.iloc[0]\n",
    "country_predictions = country_predictions.reindex(country_predictions.index.drop(0))\n",
    "\n",
    "# Drop labeled prediction\n",
    "country_predictions.drop('predict', axis=1, inplace=True)"
   ]
  },
  {
   "cell_type": "code",
   "execution_count": null,
   "metadata": {
    "collapsed": true
   },
   "outputs": [],
   "source": [
    "# Load the test users into a DataFrame\n",
    "test_users = pd.DataFrame(test_users.as_data_frame()).transpose()\n",
    "\n",
    "# Use first row as column names\n",
    "test_users.columns = test_users.iloc[0]\n",
    "test_users = test_users.reindex(test_users.index.drop(0))"
   ]
  },
  {
   "cell_type": "code",
   "execution_count": null,
   "metadata": {
    "collapsed": false
   },
   "outputs": [],
   "source": [
    "submission = []\n",
    "number_of_users = country_predictions.shape[0]\n",
    "\n",
    "# Iterate over each user\n",
    "for user in range(number_of_users):\n",
    "    # Get the 5 most provable destination countries\n",
    "    user_prediction = country_predictions.iloc[user].astype(float)\n",
    "    \n",
    "    # Sort in descending order\n",
    "    user_prediction = user_prediction.sort_values(ascending=False)\n",
    "    \n",
    "    # Append the 5 with higher provability\n",
    "    for country in range(5):\n",
    "        user_id = test_users.iloc[user]['id']\n",
    "        destination = list(user_prediction.index[0:5])[country]\n",
    "        submission.append([user_id, destination])"
   ]
  },
  {
   "cell_type": "code",
   "execution_count": null,
   "metadata": {
    "collapsed": false
   },
   "outputs": [],
   "source": [
    "sub_file = pd.DataFrame(submission, columns = ['id', 'country'])"
   ]
  },
  {
   "cell_type": "markdown",
   "metadata": {},
   "source": [
    "Write CSV file:"
   ]
  },
  {
   "cell_type": "code",
   "execution_count": null,
   "metadata": {
    "collapsed": false
   },
   "outputs": [],
   "source": [
    "sub_file.to_csv('../data/submissions/h2o-gb.csv', index=False)"
   ]
  },
  {
   "cell_type": "code",
   "execution_count": null,
   "metadata": {
    "collapsed": false
   },
   "outputs": [],
   "source": [
    "h2o.shutdown()"
   ]
  }
 ],
 "metadata": {
  "kernelspec": {
   "display_name": "Python 2",
   "language": "python",
   "name": "python2"
  },
  "language_info": {
   "codemirror_mode": {
    "name": "ipython",
    "version": 2
   },
   "file_extension": ".py",
   "mimetype": "text/x-python",
   "name": "python",
   "nbconvert_exporter": "python",
   "pygments_lexer": "ipython2",
   "version": "2.7.6"
  }
 },
 "nbformat": 4,
 "nbformat_minor": 0
}
