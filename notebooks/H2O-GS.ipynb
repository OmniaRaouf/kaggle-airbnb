{
 "cells": [
  {
   "cell_type": "markdown",
   "metadata": {},
   "source": [
    "# Airbnb New User Bookings - Gradient Boosting with H2O"
   ]
  },
  {
   "cell_type": "markdown",
   "metadata": {},
   "source": [
    "Load the required libraries"
   ]
  },
  {
   "cell_type": "code",
   "execution_count": 38,
   "metadata": {
    "collapsed": false
   },
   "outputs": [],
   "source": [
    "import h2o\n",
    "import pandas as pd\n",
    "import numpy as np"
   ]
  },
  {
   "cell_type": "markdown",
   "metadata": {},
   "source": [
    "Initialize H2O cluster:"
   ]
  },
  {
   "cell_type": "code",
   "execution_count": 39,
   "metadata": {
    "collapsed": false
   },
   "outputs": [
    {
     "data": {
      "text/html": [
       "<div style=\"overflow:auto\"><table style=\"width:50%\"><tr><td>H2O cluster uptime: </td>\n",
       "<td>9 minutes 34 seconds 314 milliseconds </td></tr>\n",
       "<tr><td>H2O cluster version: </td>\n",
       "<td>3.6.0.3</td></tr>\n",
       "<tr><td>H2O cluster name: </td>\n",
       "<td>H2O_started_from_python</td></tr>\n",
       "<tr><td>H2O cluster total nodes: </td>\n",
       "<td>1</td></tr>\n",
       "<tr><td>H2O cluster total memory: </td>\n",
       "<td>1.72 GB</td></tr>\n",
       "<tr><td>H2O cluster total cores: </td>\n",
       "<td>4</td></tr>\n",
       "<tr><td>H2O cluster allowed cores: </td>\n",
       "<td>4</td></tr>\n",
       "<tr><td>H2O cluster healthy: </td>\n",
       "<td>True</td></tr>\n",
       "<tr><td>H2O Connection ip: </td>\n",
       "<td>127.0.0.1</td></tr>\n",
       "<tr><td>H2O Connection port: </td>\n",
       "<td>54321</td></tr></table></div>"
      ],
      "text/plain": [
       "--------------------------  -------------------------------------\n",
       "H2O cluster uptime:         9 minutes 34 seconds 314 milliseconds\n",
       "H2O cluster version:        3.6.0.3\n",
       "H2O cluster name:           H2O_started_from_python\n",
       "H2O cluster total nodes:    1\n",
       "H2O cluster total memory:   1.72 GB\n",
       "H2O cluster total cores:    4\n",
       "H2O cluster allowed cores:  4\n",
       "H2O cluster healthy:        True\n",
       "H2O Connection ip:          127.0.0.1\n",
       "H2O Connection port:        54321\n",
       "--------------------------  -------------------------------------"
      ]
     },
     "metadata": {},
     "output_type": "display_data"
    }
   ],
   "source": [
    "h2o.init()\n",
    "h2o.remove_all() "
   ]
  },
  {
   "cell_type": "markdown",
   "metadata": {},
   "source": [
    "## Data Loading"
   ]
  },
  {
   "cell_type": "code",
   "execution_count": 40,
   "metadata": {
    "collapsed": false
   },
   "outputs": [
    {
     "name": "stdout",
     "output_type": "stream",
     "text": [
      "\n",
      "Parse Progress: [##################################################] 100%\n"
     ]
    }
   ],
   "source": [
    "train_users = h2o.import_file(\"../data/raw/train_users.csv\")"
   ]
  },
  {
   "cell_type": "markdown",
   "metadata": {},
   "source": [
    "Remove train users's ID's since we don't need them to train our classifier"
   ]
  },
  {
   "cell_type": "code",
   "execution_count": 41,
   "metadata": {
    "collapsed": true
   },
   "outputs": [],
   "source": [
    "train_users = train_users.drop('id')"
   ]
  },
  {
   "cell_type": "code",
   "execution_count": 42,
   "metadata": {
    "collapsed": true
   },
   "outputs": [],
   "source": [
    "X = train_users.col_names[:-1]\n",
    "del X[2]\n",
    "\n",
    "y = train_users.col_names[-1]"
   ]
  },
  {
   "cell_type": "code",
   "execution_count": null,
   "metadata": {
    "collapsed": false
   },
   "outputs": [],
   "source": [
    "# from h2o.grid.grid_search import H2OGridSearch\n",
    "\n",
    "# ntrees_opt = 1\n",
    "# max_depth_opt = [2]\n",
    "# learn_rate_opt = [0.1,0.2]\n",
    "# hyper_parameters = {\"ntrees\": ntrees_opt, \"max_depth\":max_depth_opt, \n",
    "#                     \"learn_rate\":learn_rate_opt, \"distribution\":\"multinomial\"}\n",
    "\n",
    "# gs = H2OGridSearch(H2OGradientBoostingEstimator, hyper_params=hyper_parameters, )\n",
    "\n",
    "# gs.train(X, y, training_frame=df)\n",
    "# print \"R2:\", dl.r2()"
   ]
  },
  {
   "cell_type": "markdown",
   "metadata": {},
   "source": [
    "### Deep Learning Model"
   ]
  },
  {
   "cell_type": "code",
   "execution_count": 43,
   "metadata": {
    "collapsed": false
   },
   "outputs": [],
   "source": [
    "from h2o.estimators.gbm import H2OGradientBoostingEstimator\n",
    "\n",
    "gbe = H2OGradientBoostingEstimator(ntrees=43,\n",
    "                                  max_depth=6, \n",
    "                                  distribution='multinomial',\n",
    "                                  stopping_metric=\"logloss\",\n",
    "                                  learn_rate=0.25,\n",
    "                                  sample_rate=0.6,\n",
    "                                  balance_classes=True, \n",
    "                                  nfolds=0)"
   ]
  },
  {
   "cell_type": "code",
   "execution_count": 44,
   "metadata": {
    "collapsed": false
   },
   "outputs": [
    {
     "name": "stdout",
     "output_type": "stream",
     "text": [
      "\n",
      "gbm Model Build Progress: [##################################################] 100%\n"
     ]
    }
   ],
   "source": [
    "gbe.train(X, y, training_frame=train_users)"
   ]
  },
  {
   "cell_type": "code",
   "execution_count": 50,
   "metadata": {
    "collapsed": false
   },
   "outputs": [
    {
     "name": "stdout",
     "output_type": "stream",
     "text": [
      "R2: 0.931637120468\n"
     ]
    }
   ],
   "source": [
    "print \"R2:\", gbe.r2()"
   ]
  },
  {
   "cell_type": "markdown",
   "metadata": {},
   "source": [
    "### Predictions"
   ]
  },
  {
   "cell_type": "code",
   "execution_count": 61,
   "metadata": {
    "collapsed": false
   },
   "outputs": [
    {
     "name": "stdout",
     "output_type": "stream",
     "text": [
      "\n",
      "Parse Progress: [##################################################] 100%\n"
     ]
    }
   ],
   "source": [
    "test_users = h2o.import_file(\"../data/raw/test_users.csv\")"
   ]
  },
  {
   "cell_type": "code",
   "execution_count": 74,
   "metadata": {
    "collapsed": false
   },
   "outputs": [],
   "source": [
    "predictions = dl.predict(test_users.drop('id'))"
   ]
  },
  {
   "cell_type": "markdown",
   "metadata": {},
   "source": [
    "### Make CSV for submission"
   ]
  },
  {
   "cell_type": "code",
   "execution_count": 78,
   "metadata": {
    "collapsed": true
   },
   "outputs": [],
   "source": [
    "# Load the predictions into a DataFrame\n",
    "country_predictions = predictions.as_data_frame()\n",
    "country_predictions = pd.DataFrame(country_predictions).transpose()\n",
    "\n",
    "# Use first row as column names\n",
    "country_predictions.columns = country_predictions.iloc[0]\n",
    "country_predictions = country_predictions.reindex(country_predictions.index.drop(0))\n",
    "\n",
    "# Drop labeled prediction\n",
    "country_predictions.drop('predict', axis=1, inplace=True)"
   ]
  },
  {
   "cell_type": "code",
   "execution_count": 79,
   "metadata": {
    "collapsed": true
   },
   "outputs": [],
   "source": [
    "# Load the test users into a DataFrame\n",
    "test_users = pd.DataFrame(test_users.as_data_frame()).transpose()\n",
    "\n",
    "# Use first row as column names\n",
    "test_users.columns = test_users.iloc[0]\n",
    "test_users = test_users.reindex(test_users.index.drop(0))"
   ]
  },
  {
   "cell_type": "code",
   "execution_count": 83,
   "metadata": {
    "collapsed": false
   },
   "outputs": [],
   "source": [
    "submission = []\n",
    "number_of_users = country_predictions.shape[0]\n",
    "\n",
    "# Iterate over each user\n",
    "for user in range(number_of_users):\n",
    "    # Get the 5 most provable destination countries\n",
    "    user_prediction = country_predictions.iloc[user].astype(float)\n",
    "    \n",
    "    # Sort in descending order\n",
    "    user_prediction = user_prediction.sort_values(ascending=False)\n",
    "    \n",
    "    # Append the 5 with higher provability\n",
    "    for country in range(5):\n",
    "        user_id = test_users.iloc[user]['id']\n",
    "        destination = list(user_prediction.index[0:5])[country]\n",
    "        submission.append([user_id, destination])"
   ]
  },
  {
   "cell_type": "code",
   "execution_count": 84,
   "metadata": {
    "collapsed": false
   },
   "outputs": [],
   "source": [
    "sub_file = pd.DataFrame(submission, columns = ['id', 'country'])"
   ]
  },
  {
   "cell_type": "markdown",
   "metadata": {},
   "source": [
    "Write CSV file:"
   ]
  },
  {
   "cell_type": "code",
   "execution_count": 77,
   "metadata": {
    "collapsed": false
   },
   "outputs": [],
   "source": [
    "sub_file.to_csv('../data/submissions/h2o-gb.csv', index=False)"
   ]
  },
  {
   "cell_type": "code",
   "execution_count": null,
   "metadata": {
    "collapsed": false
   },
   "outputs": [],
   "source": [
    "h2o.shutdown()"
   ]
  }
 ],
 "metadata": {
  "kernelspec": {
   "display_name": "Python 2",
   "language": "python",
   "name": "python2"
  },
  "language_info": {
   "codemirror_mode": {
    "name": "ipython",
    "version": 2
   },
   "file_extension": ".py",
   "mimetype": "text/x-python",
   "name": "python",
   "nbconvert_exporter": "python",
   "pygments_lexer": "ipython2",
   "version": "2.7.6"
  }
 },
 "nbformat": 4,
 "nbformat_minor": 0
}
