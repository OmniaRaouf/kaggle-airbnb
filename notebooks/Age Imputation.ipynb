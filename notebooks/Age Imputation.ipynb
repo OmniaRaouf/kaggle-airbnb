{
    "cells": [
        {
            "cell_type": "code",
            "execution_count": 43,
            "metadata": {
                "collapsed": true,
                "id": "6889e27b-656a-4512-bb38-7d3d5e51a8c9",
                "focus": false
            },
            "outputs": [],
            "source": "from sklearn.preprocessing import LabelEncoder\nfrom sklearn.ensemble import RandomForestRegressor, ExtraTreesRegressor\nfrom sklearn.neighbors import KNeighborsRegressor\nfrom sklearn.cross_validation import cross_val_score, cross_val_predict\nfrom sklearn.cross_validation import KFold"
        },
        {
            "cell_type": "code",
            "execution_count": 31,
            "metadata": {
                "collapsed": false,
                "id": "580f3a14-07b4-4269-97c5-64951a1c3125",
                "focus": true
            },
            "outputs": [],
            "source": ""
        },
        {
            "cell_type": "code",
            "execution_count": 35,
            "metadata": {
                "collapsed": false,
                "id": "ec6df0f5-48a5-4d94-abda-ea15b76f58e3",
                "focus": false
            },
            "outputs": [],
            "source": "train_users = pd.read_csv('train_users.csv5')\ntest_users = pd.read_csv('test_users.csv5')\ntrain_users.drop(['country_destination', 'id'], axis=1, inplace=True)"
        },
        {
            "cell_type": "code",
            "execution_count": 36,
            "metadata": {
                "collapsed": false,
                "id": "411f4a1f-3beb-404c-835c-b6830247d1cd",
                "focus": false
            },
            "outputs": [],
            "source": [
                "train_users = train_users.loc[train_users['age'].notnull()]\n",
                "y_train = train_users['age']\n",
                "train_users.drop('age', axis=1, inplace=True)"
            ]
        },
        {
            "cell_type": "code",
            "execution_count": 37,
            "metadata": {
                "collapsed": true,
                "id": "debf28fb-e399-4e23-9e45-84f23a41481d",
                "focus": false
            },
            "outputs": [],
            "source": [
                "train_users = train_users.fillna(-1)\n",
                "x_train = train_users.values"
            ]
        },
        {
            "cell_type": "code",
            "execution_count": 40,
            "metadata": {
                "collapsed": false,
                "id": "b66e8255-d6d7-4d62-bdea-7bda97ad24fe",
                "focus": false
            },
            "outputs": [],
            "source": [
                "knn = KNeighborsRegressor(n_neighbors=10, n_jobs=-1)\n",
                "et = ExtraTreesRegressor(n_estimators=50, n_jobs=-1)\n",
                "rf = RandomForestRegressor(n_estimators=200, n_jobs=-1)"
            ]
        },
        {
            "cell_type": "code",
            "execution_count": 39,
            "metadata": {
                "collapsed": false,
                "id": "a49fcb6d-ba20-47bb-bc53-f6033b51778a",
                "focus": false
            },
            "outputs": [
                {
                    "name": "stdout",
                    "output_type": "stream",
                    "text": [
                        "-0.0574731617459\n",
                        "-0.166212337732\n",
                        "-0.0186782224195\n"
                    ]
                }
            ],
            "source": [
                "for clf in [knn, et, rf]:\n",
                "    print cross_val_score(clf, x_train, y_train, cv=10).mean()"
            ]
        },
        {
            "cell_type": "code",
            "execution_count": 42,
            "metadata": {
                "collapsed": false,
                "id": "1f94effe-c60c-4aed-a34b-398d7752f417",
                "focus": false
            },
            "outputs": [
                {
                    "data": {
                        "text/plain": [
                            "-8.9858700939908651"
                        ]
                    },
                    "execution_count": 42,
                    "metadata": {},
                    "output_type": "execute_result"
                }
            ],
            "source": [
                "cross_val_score(rf, x_train, y_train, cv=10, scoring='mean_absolute_error').mean()"
            ]
        },
        {
            "cell_type": "code",
            "execution_count": 44,
            "metadata": {
                "collapsed": true,
                "id": "0ead76b5-cff7-4179-afcd-e05a7c468d61",
                "focus": false
            },
            "outputs": [],
            "source": [
                "y = cross_val_predict(rf, x_train, y_train, cv=10)"
            ]
        }
    ],
    "metadata": {
        "kernelspec": {
            "display_name": "Python 2",
            "language": "python",
            "name": "python2"
        },
        "language_info": {
            "codemirror_mode": {
                "name": "ipython",
                "version": 2
            },
            "file_extension": ".py",
            "mimetype": "text/x-python",
            "name": "python",
            "nbconvert_exporter": "python",
            "pygments_lexer": "ipython2",
            "version": "2.7.6"
        }
    },
    "nbformat": 4,
    "nbformat_minor": 0
}