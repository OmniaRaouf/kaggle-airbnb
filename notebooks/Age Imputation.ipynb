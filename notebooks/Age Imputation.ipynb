{
 "cells": [
  {
   "cell_type": "code",
   "execution_count": 1,
   "metadata": {
    "collapsed": true
   },
   "outputs": [],
   "source": [
    "import sys\n",
    "import numpy as np\n",
    "import pandas as pd\n",
    "\n",
    "sys.path.append('..')"
   ]
  },
  {
   "cell_type": "code",
   "execution_count": 2,
   "metadata": {
    "collapsed": true
   },
   "outputs": [],
   "source": [
    "from utils.data_loading import load_users_data\n",
    "\n",
    "train_users, test_users = load_users_data()\n",
    "\n",
    "train_users = train_users.drop(['country_destination'], axis=1)\n",
    "id_test = test_users['id']\n",
    "\n",
    "users = pd.concat((train_users, test_users), axis=0, ignore_index=True)\n",
    "users = users.drop(['id', 'date_first_booking'], axis=1)\n",
    "\n",
    "users['gender'].replace('-unknown-', np.nan, inplace=True)\n",
    "users['language'].replace('-unknown-', np.nan, inplace=True)"
   ]
  },
  {
   "cell_type": "code",
   "execution_count": 3,
   "metadata": {
    "collapsed": false
   },
   "outputs": [],
   "source": [
    "import datetime\n",
    "users['date_account_created'] = pd.to_datetime(users['date_account_created'])\n",
    "users['year_account_created'] = pd.DatetimeIndex(users['date_account_created']).year\n",
    "users['month_account_created'] = pd.DatetimeIndex(users['date_account_created']).month\n",
    "users['day_account_created'] = pd.DatetimeIndex(users['date_account_created']).day\n",
    "users = users.drop(['date_account_created'], axis=1)\n",
    "\n",
    "users['timestamp_first_active'] = pd.to_datetime(users['timestamp_first_active'], format='%Y%m%d%H%M%S')\n",
    "users['year_first_active'] = pd.DatetimeIndex(users['timestamp_first_active']).year\n",
    "users['month_first_active'] = pd.DatetimeIndex(users['timestamp_first_active']).month\n",
    "users['day_first_active'] = pd.DatetimeIndex(users['timestamp_first_active']).day\n",
    "users = users.drop(['timestamp_first_active'], axis=1)"
   ]
  },
  {
   "cell_type": "code",
   "execution_count": 4,
   "metadata": {
    "collapsed": true
   },
   "outputs": [],
   "source": [
    "from utils.preprocessing import one_hot_encoding\n",
    "\n",
    "categorical_features = [\n",
    "    'gender', 'signup_method', 'signup_flow', 'language', 'affiliate_channel',\n",
    "    'affiliate_provider', 'first_affiliate_tracked', 'signup_app',\n",
    "    'first_device_type', 'first_browser'\n",
    "]\n",
    "\n",
    "users = one_hot_encoding(users, categorical_features)"
   ]
  },
  {
   "cell_type": "code",
   "execution_count": 5,
   "metadata": {
    "collapsed": true
   },
   "outputs": [],
   "source": [
    "# Age\n",
    "age_values = users.age.values\n",
    "users['age'] = np.where(np.logical_or(age_values < 14, age_values > 100), np.nan, age_values)"
   ]
  },
  {
   "cell_type": "code",
   "execution_count": 6,
   "metadata": {
    "collapsed": true
   },
   "outputs": [],
   "source": [
    "null_values = users['age'].isnull()"
   ]
  },
  {
   "cell_type": "code",
   "execution_count": 7,
   "metadata": {
    "collapsed": true
   },
   "outputs": [],
   "source": [
    "X = users.columns.tolist()\n",
    "X.remove('age')"
   ]
  },
  {
   "cell_type": "code",
   "execution_count": 8,
   "metadata": {
    "collapsed": false
   },
   "outputs": [],
   "source": [
    "from sklearn.preprocessing import StandardScaler\n",
    "users[X] = StandardScaler().fit_transform(users[X])"
   ]
  },
  {
   "cell_type": "code",
   "execution_count": 9,
   "metadata": {
    "collapsed": false
   },
   "outputs": [],
   "source": [
    "processed_users = users"
   ]
  },
  {
   "cell_type": "code",
   "execution_count": 10,
   "metadata": {
    "collapsed": false
   },
   "outputs": [],
   "source": [
    "users_with_age = users[~null_values]"
   ]
  },
  {
   "cell_type": "code",
   "execution_count": 12,
   "metadata": {
    "collapsed": true
   },
   "outputs": [],
   "source": [
    "from sklearn.svm import SVR\n",
    "from sklearn import grid_search\n",
    "\n",
    "parameters = {'kernel':['linear'], 'C':[1]}\n",
    "\n",
    "svr = SVR()\n",
    "clf = grid_search.GridSearchCV(svr, parameters, n_jobs=-1, scoring='r2', cv=5)"
   ]
  },
  {
   "cell_type": "code",
   "execution_count": null,
   "metadata": {
    "collapsed": false
   },
   "outputs": [],
   "source": [
    "clf.fit(\n",
    "    users_with_age.drop('age', axis=1),\n",
    "    users_with_age['age']\n",
    ")"
   ]
  },
  {
   "cell_type": "code",
   "execution_count": 19,
   "metadata": {
    "collapsed": false
   },
   "outputs": [
    {
     "data": {
      "text/plain": [
       "<function sklearn.metrics.scorer._passthrough_scorer>"
      ]
     },
     "execution_count": 19,
     "metadata": {},
     "output_type": "execute_result"
    }
   ],
   "source": [
    "print clf.best_score_, 'with', clf.best_params_"
   ]
  }
 ],
 "metadata": {
  "kernelspec": {
   "display_name": "Python 2",
   "language": "python",
   "name": "python2"
  },
  "language_info": {
   "codemirror_mode": {
    "name": "ipython",
    "version": 2
   },
   "file_extension": ".py",
   "mimetype": "text/x-python",
   "name": "python",
   "nbconvert_exporter": "python",
   "pygments_lexer": "ipython2",
   "version": "2.7.6"
  }
 },
 "nbformat": 4,
 "nbformat_minor": 0
}
