{
 "cells": [
  {
   "cell_type": "code",
   "execution_count": 1,
   "metadata": {
    "collapsed": true
   },
   "outputs": [],
   "source": [
    "import pandas as pd\n",
    "import numpy as np\n",
    "from sklearn.preprocessing import LabelEncoder\n",
    "from sklearn.cross_validation import cross_val_score\n",
    "from sklearn.cross_validation import KFold\n",
    "import xgboost"
   ]
  },
  {
   "cell_type": "code",
   "execution_count": 2,
   "metadata": {
    "collapsed": false
   },
   "outputs": [],
   "source": [
    "train_users = pd.read_csv('../cache/train_users.csv')"
   ]
  },
  {
   "cell_type": "code",
   "execution_count": 3,
   "metadata": {
    "collapsed": false
   },
   "outputs": [],
   "source": [
    "train_users.fillna(-1, inplace=True)\n",
    "\n",
    "y_train = train_users['country_destination']\n",
    "train_users.drop(['country_destination', 'id'], axis=1, inplace=True)\n",
    "x_train = train_users.values\n",
    "\n",
    "label_encoder = LabelEncoder()\n",
    "encoded_y_train = label_encoder.fit_transform(y_train)"
   ]
  },
  {
   "cell_type": "code",
   "execution_count": 4,
   "metadata": {
    "collapsed": false
   },
   "outputs": [],
   "source": [
    "train_data = xgboost.DMatrix(x_train, encoded_y_train)"
   ]
  },
  {
   "cell_type": "code",
   "execution_count": 5,
   "metadata": {
    "collapsed": true
   },
   "outputs": [],
   "source": [
    "def ndcg5(preds, dtrain, k=5):\n",
    "    y_true = dtrain.get_label()\n",
    "    n = len(y_true)\n",
    "    num_class = preds.shape[1]\n",
    "    index = np.argsort(preds, axis=1)\n",
    "    top = index[:, -k:][:,::-1]\n",
    "    rel = (np.reshape(y_true, (n, 1))==top).astype(int)\n",
    "    cal_dcg = lambda y: sum((2**y - 1)/np.log2(range(2, k+2)))\n",
    "    ndcg = np.mean((np.apply_along_axis(cal_dcg, 1, rel)))\n",
    "    return 'ndcg5', -ndcg"
   ]
  },
  {
   "cell_type": "code",
   "execution_count": 6,
   "metadata": {
    "collapsed": true
   },
   "outputs": [],
   "source": [
    "def customized_eval(preds, dtrain):\n",
    "    labels = dtrain.get_label()\n",
    "    top = []\n",
    "    for i in range(preds.shape[0]):\n",
    "        top.append(np.argsort(preds[i])[::-1][:5])\n",
    "    mat = np.reshape(np.repeat(labels,np.shape(top)[1]) == np.array(top).ravel(),np.array(top).shape).astype(int)\n",
    "    score = np.mean(np.sum(mat/np.log2(np.arange(2, mat.shape[1] + 2)),axis = 1))\n",
    "    return 'ndcg5', score"
   ]
  },
  {
   "cell_type": "code",
   "execution_count": 7,
   "metadata": {
    "collapsed": false
   },
   "outputs": [
    {
     "data": {
      "text/html": [
       "<div>\n",
       "<table border=\"1\" class=\"dataframe\">\n",
       "  <thead>\n",
       "    <tr style=\"text-align: right;\">\n",
       "      <th></th>\n",
       "      <th>test-ndcg5-mean</th>\n",
       "      <th>test-ndcg5-std</th>\n",
       "      <th>train-ndcg5-mean</th>\n",
       "      <th>train-ndcg5-std</th>\n",
       "    </tr>\n",
       "  </thead>\n",
       "  <tbody>\n",
       "    <tr>\n",
       "      <th>0</th>\n",
       "      <td>0.521822</td>\n",
       "      <td>0.03086</td>\n",
       "      <td>0.845562</td>\n",
       "      <td>0.044428</td>\n",
       "    </tr>\n",
       "    <tr>\n",
       "      <th>1</th>\n",
       "      <td>0.521822</td>\n",
       "      <td>0.03086</td>\n",
       "      <td>0.845562</td>\n",
       "      <td>0.044428</td>\n",
       "    </tr>\n",
       "    <tr>\n",
       "      <th>2</th>\n",
       "      <td>0.521822</td>\n",
       "      <td>0.03086</td>\n",
       "      <td>0.845562</td>\n",
       "      <td>0.044428</td>\n",
       "    </tr>\n",
       "    <tr>\n",
       "      <th>3</th>\n",
       "      <td>0.521822</td>\n",
       "      <td>0.03086</td>\n",
       "      <td>0.845562</td>\n",
       "      <td>0.044428</td>\n",
       "    </tr>\n",
       "    <tr>\n",
       "      <th>4</th>\n",
       "      <td>0.521822</td>\n",
       "      <td>0.03086</td>\n",
       "      <td>0.845562</td>\n",
       "      <td>0.044428</td>\n",
       "    </tr>\n",
       "    <tr>\n",
       "      <th>5</th>\n",
       "      <td>0.521822</td>\n",
       "      <td>0.03086</td>\n",
       "      <td>0.845562</td>\n",
       "      <td>0.044428</td>\n",
       "    </tr>\n",
       "    <tr>\n",
       "      <th>6</th>\n",
       "      <td>0.521822</td>\n",
       "      <td>0.03086</td>\n",
       "      <td>0.845562</td>\n",
       "      <td>0.044428</td>\n",
       "    </tr>\n",
       "    <tr>\n",
       "      <th>7</th>\n",
       "      <td>0.521822</td>\n",
       "      <td>0.03086</td>\n",
       "      <td>0.845562</td>\n",
       "      <td>0.044428</td>\n",
       "    </tr>\n",
       "    <tr>\n",
       "      <th>8</th>\n",
       "      <td>0.521822</td>\n",
       "      <td>0.03086</td>\n",
       "      <td>0.845562</td>\n",
       "      <td>0.044428</td>\n",
       "    </tr>\n",
       "    <tr>\n",
       "      <th>9</th>\n",
       "      <td>0.521822</td>\n",
       "      <td>0.03086</td>\n",
       "      <td>0.845562</td>\n",
       "      <td>0.044428</td>\n",
       "    </tr>\n",
       "  </tbody>\n",
       "</table>\n",
       "</div>"
      ],
      "text/plain": [
       "   test-ndcg5-mean  test-ndcg5-std  train-ndcg5-mean  train-ndcg5-std\n",
       "0         0.521822         0.03086          0.845562         0.044428\n",
       "1         0.521822         0.03086          0.845562         0.044428\n",
       "2         0.521822         0.03086          0.845562         0.044428\n",
       "3         0.521822         0.03086          0.845562         0.044428\n",
       "4         0.521822         0.03086          0.845562         0.044428\n",
       "5         0.521822         0.03086          0.845562         0.044428\n",
       "6         0.521822         0.03086          0.845562         0.044428\n",
       "7         0.521822         0.03086          0.845562         0.044428\n",
       "8         0.521822         0.03086          0.845562         0.044428\n",
       "9         0.521822         0.03086          0.845562         0.044428"
      ]
     },
     "execution_count": 7,
     "metadata": {},
     "output_type": "execute_result"
    }
   ],
   "source": [
    "param = {\n",
    "    'max_depth': 10,\n",
    "    'learning_rate': 10,\n",
    "    'n_estimators': 10,\n",
    "    'objective': 'multi:softprob',\n",
    "    'num_class': 3,\n",
    "    'gamma': 0,\n",
    "    'min_child_weight': 1,\n",
    "    'max_delta_step': 0,\n",
    "    'subsample': 1,\n",
    "    'colsample_bytree': 1,\n",
    "    'colsample_bylevel': 1,\n",
    "    'reg_alpha': 0,\n",
    "    'reg_lambda': 1,\n",
    "    'scale_pos_weight': 1,\n",
    "    'base_score': 0.5,\n",
    "    'missing': None,\n",
    "    'silent': True,\n",
    "    'nthread': -1,\n",
    "    'seed': 42\n",
    "}\n",
    "\n",
    "num_round = 10\n",
    "xgboost.cv(param, train_data, num_boost_round=num_round, metrics=['mlogloss'], feval=customized_eval)"
   ]
  }
 ],
 "metadata": {
  "kernelspec": {
   "display_name": "Python 3",
   "language": "python",
   "name": "python3"
  },
  "language_info": {
   "codemirror_mode": {
    "name": "ipython",
    "version": 3
   },
   "file_extension": ".py",
   "mimetype": "text/x-python",
   "name": "python",
   "nbconvert_exporter": "python",
   "pygments_lexer": "ipython3",
   "version": "3.4.3"
  }
 },
 "nbformat": 4,
 "nbformat_minor": 0
}
