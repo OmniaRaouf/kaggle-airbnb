{
 "cells": [
  {
   "cell_type": "code",
   "execution_count": 1,
   "metadata": {
    "collapsed": true
   },
   "outputs": [],
   "source": [
    "import sys\n",
    "import numpy as np\n",
    "import pandas as pd\n",
    "\n",
    "sys.path.append('..')"
   ]
  },
  {
   "cell_type": "code",
   "execution_count": 2,
   "metadata": {
    "collapsed": true
   },
   "outputs": [],
   "source": [
    "from utils.data_loading import load_users_data\n",
    "\n",
    "train_users, test_users = load_users_data()\n",
    "\n",
    "labels = train_users['country_destination'].values\n",
    "train_users = train_users.drop(['country_destination'], axis=1)\n",
    "\n",
    "id_test = test_users['id']\n",
    "piv_train = train_users.shape[0]\n",
    "\n",
    "users = pd.concat((train_users, test_users), axis=0, ignore_index=True)\n",
    "users = users.drop(['id', 'date_first_booking'], axis=1)\n",
    "\n",
    "users['gender'].replace('-unknown-', np.nan, inplace=True)\n",
    "users['language'].replace('-unknown-', np.nan, inplace=True)"
   ]
  },
  {
   "cell_type": "code",
   "execution_count": 3,
   "metadata": {
    "collapsed": true
   },
   "outputs": [],
   "source": [
    "import datetime\n",
    "users['date_account_created'] = pd.to_datetime(users['date_account_created'])\n",
    "users['year_account_created'] = pd.DatetimeIndex(users['date_account_created']).year\n",
    "users['month_account_created'] = pd.DatetimeIndex(users['date_account_created']).month\n",
    "users['day_account_created'] = pd.DatetimeIndex(users['date_account_created']).day\n",
    "users = users.drop(['date_account_created'], axis=1)\n",
    "\n",
    "users['timestamp_first_active'] = pd.to_datetime(users['timestamp_first_active'], format='%Y%m%d%H%M%S')\n",
    "users['year_first_active'] = pd.DatetimeIndex(users['timestamp_first_active']).year\n",
    "users['month_first_active'] = pd.DatetimeIndex(users['timestamp_first_active']).month\n",
    "users['day_first_active'] = pd.DatetimeIndex(users['timestamp_first_active']).day\n",
    "users = users.drop(['timestamp_first_active'], axis=1)"
   ]
  },
  {
   "cell_type": "code",
   "execution_count": 4,
   "metadata": {
    "collapsed": false
   },
   "outputs": [],
   "source": [
    "from utils.preprocessing import one_hot_encoding\n",
    "\n",
    "categorical_features = [\n",
    "    'gender', 'signup_method', 'signup_flow', 'language', 'affiliate_channel',\n",
    "    'affiliate_provider', 'first_affiliate_tracked', 'signup_app',\n",
    "    'first_device_type', 'first_browser'\n",
    "]\n",
    "\n",
    "users = one_hot_encoding(users, categorical_features)"
   ]
  },
  {
   "cell_type": "code",
   "execution_count": 5,
   "metadata": {
    "collapsed": false
   },
   "outputs": [],
   "source": [
    "# Age\n",
    "age_values = users.age.values\n",
    "users['age'] = np.where(np.logical_or(age_values < 14, age_values > 100), np.nan, age_values)"
   ]
  },
  {
   "cell_type": "code",
   "execution_count": null,
   "metadata": {
    "collapsed": false
   },
   "outputs": [],
   "source": [
    "from utils.preprocessing import input_missing_values\n",
    "\n",
    "users = input_missing_values(users, 'age')"
   ]
  },
  {
   "cell_type": "code",
   "execution_count": null,
   "metadata": {
    "collapsed": true
   },
   "outputs": [],
   "source": [
    "age_mask = users['age'].isnull()"
   ]
  },
  {
   "cell_type": "code",
   "execution_count": null,
   "metadata": {
    "collapsed": false
   },
   "outputs": [],
   "source": [
    "from sklearn.svm import SVR\n",
    "clf = SVR()\n",
    "\n",
    "clf.fit(\n",
    "    users[~age_mask].drop('age', axis=1), \n",
    "    users[~age_mask]['age']\n",
    ")"
   ]
  },
  {
   "cell_type": "code",
   "execution_count": null,
   "metadata": {
    "collapsed": false
   },
   "outputs": [],
   "source": [
    "predicted_age = clf.predict(users[age_mask].drop('age', axis=1))\n",
    "users.loc[age_mask, 'age'] = np.around(predicted_age)"
   ]
  },
  {
   "cell_type": "code",
   "execution_count": null,
   "metadata": {
    "collapsed": false
   },
   "outputs": [],
   "source": [
    "from sklearn.svm import SVC\n",
    "clf = SVC()\n",
    "\n",
    "clf.fit(\n",
    "    users[~users.gender.isnull()].drop('gender', axis=1).head(5), \n",
    "    users[~users.gender.isnull()]['gender'].head(5)\n",
    ")"
   ]
  },
  {
   "cell_type": "code",
   "execution_count": null,
   "metadata": {
    "collapsed": true
   },
   "outputs": [],
   "source": [
    "b = clf.predict(users[users.gender.isnull()].drop('gender', axis=1))"
   ]
  },
  {
   "cell_type": "code",
   "execution_count": null,
   "metadata": {
    "collapsed": true
   },
   "outputs": [],
   "source": [
    "users.loc[users.gender.isnull(), 'gender'] = b"
   ]
  },
  {
   "cell_type": "code",
   "execution_count": null,
   "metadata": {
    "collapsed": true
   },
   "outputs": [],
   "source": [
    "users_dummy = pd.get_dummies(users['gender'], prefix='gender')\n",
    "users = users.drop(['gender'], axis=1)\n",
    "users = pd.concat((users, users_dummy), axis=1)"
   ]
  },
  {
   "cell_type": "code",
   "execution_count": null,
   "metadata": {
    "collapsed": false
   },
   "outputs": [],
   "source": [
    "# Data loading\n",
    "train_users = pd.read_csv('../datasets/raw/train_users.csv')\n",
    "test_users = pd.read_csv('../datasets/raw/test_users.csv')\n",
    "labels = train_users['country_destination'].values\n",
    "train_users = train_users.drop(['country_destination'], axis=1)\n",
    "id_test = test_users['id']\n",
    "piv_train = train_users.shape[0]"
   ]
  },
  {
   "cell_type": "code",
   "execution_count": null,
   "metadata": {
    "collapsed": false
   },
   "outputs": [],
   "source": [
    "from sklearn.preprocessing import LabelEncoder\n",
    "from xgboost.sklearn import XGBClassifier\n",
    "\n",
    "# Splitting train and test\n",
    "values = users.values\n",
    "X = values[:piv_train]\n",
    "le = LabelEncoder()\n",
    "y = le.fit_transform(labels)\n",
    "X_test = values[piv_train:]\n",
    "\n",
    "# Classifier\n",
    "xgb = XGBClassifier(\n",
    "    max_depth=10,\n",
    "    learning_rate=0.22,\n",
    "    n_estimators=100,\n",
    "    objective=\"multi:softprob\",\n",
    "    nthread=-1,\n",
    "    gamma=0,\n",
    "    min_child_weight=1,\n",
    "    max_delta_step=0,\n",
    "    subsample=0.6,\n",
    "    colsample_bytree=0.6,\n",
    "    colsample_bylevel=1,\n",
    "    reg_alpha=0.1,\n",
    "    reg_lambda=0.9,\n",
    "    scale_pos_weight=1,\n",
    "    base_score=0.5,\n",
    "    seed=42\n",
    ")\n",
    "\n",
    "xgb.fit(X, y)\n",
    "y_pred = xgb.predict_proba(X_test)\n",
    "\n",
    "# Taking the 5 classes with highest probabilities\n",
    "ids = []\n",
    "cts = []\n",
    "for i in range(len(id_test)):\n",
    "    idx = id_test[i]\n",
    "    ids += [idx] * 5\n",
    "    cts += le.inverse_transform(np.argsort(y_pred[i])[::-1])[:5].tolist()\n",
    "\n",
    "# Generate Submission\n",
    "sub = pd.DataFrame(np.column_stack((ids, cts)), columns=['id', 'country'])\n",
    "sub.to_csv('xgboost.csv',index=False)"
   ]
  },
  {
   "cell_type": "code",
   "execution_count": null,
   "metadata": {
    "collapsed": false
   },
   "outputs": [],
   "source": [
    "xgb.score(X, y)"
   ]
  }
 ],
 "metadata": {
  "kernelspec": {
   "display_name": "Python 2",
   "language": "python",
   "name": "python2"
  },
  "language_info": {
   "codemirror_mode": {
    "name": "ipython",
    "version": 2
   },
   "file_extension": ".py",
   "mimetype": "text/x-python",
   "name": "python",
   "nbconvert_exporter": "python",
   "pygments_lexer": "ipython2",
   "version": "2.7.6"
  }
 },
 "nbformat": 4,
 "nbformat_minor": 0
}
