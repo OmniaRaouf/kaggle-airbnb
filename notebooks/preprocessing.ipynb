{
 "cells": [
  {
   "cell_type": "code",
   "execution_count": 36,
   "metadata": {
    "collapsed": false
   },
   "outputs": [],
   "source": [
    "import numpy as np\n",
    "import pandas as pd\n",
    "import multiprocessing\n",
    "from multiprocessing import Pool\n",
    "\n",
    "from utils.preprocessing import one_hot_encoding\n",
    "from utils.preprocessing import get_weekday"
   ]
  },
  {
   "cell_type": "code",
   "execution_count": 37,
   "metadata": {
    "collapsed": true
   },
   "outputs": [],
   "source": [
    "raw_data_path = '../data/raw/'\n",
    "processed_data_path = '../data/processed/'"
   ]
  },
  {
   "cell_type": "code",
   "execution_count": 38,
   "metadata": {
    "collapsed": true
   },
   "outputs": [],
   "source": [
    "global sessions"
   ]
  },
  {
   "cell_type": "code",
   "execution_count": 39,
   "metadata": {
    "collapsed": true
   },
   "outputs": [],
   "source": [
    "# Load raw data\n",
    "train_users = pd.read_csv(raw_data_path + 'train_users.csv')\n",
    "test_users = pd.read_csv(raw_data_path + 'test_users.csv')\n",
    "sessions = pd.read_csv(raw_data_path + 'sessions.csv', nrows=1000000)"
   ]
  },
  {
   "cell_type": "code",
   "execution_count": 40,
   "metadata": {
    "collapsed": false
   },
   "outputs": [],
   "source": [
    "# Join users\n",
    "users = pd.concat((train_users, test_users), axis=0, ignore_index=True)"
   ]
  },
  {
   "cell_type": "code",
   "execution_count": 41,
   "metadata": {
    "collapsed": true
   },
   "outputs": [],
   "source": [
    "# Drop date_first_booking column (empty since competition's restart)\n",
    "users = users.drop('date_first_booking', axis=1)"
   ]
  },
  {
   "cell_type": "code",
   "execution_count": 42,
   "metadata": {
    "collapsed": true
   },
   "outputs": [],
   "source": [
    "# Replace NaNs\n",
    "users['gender'].replace('-unknown-', np.nan, inplace=True)\n",
    "users['language'].replace('-unknown-', np.nan, inplace=True)\n",
    "sessions.replace('-unknown-', np.nan, inplace=True)"
   ]
  },
  {
   "cell_type": "code",
   "execution_count": 43,
   "metadata": {
    "collapsed": true
   },
   "outputs": [],
   "source": [
    "# Remove weird age values\n",
    "users.loc[users['age'] > 100, 'age'] = np.nan\n",
    "users.loc[users['age'] < 14, 'age'] = np.nan"
   ]
  },
  {
   "cell_type": "code",
   "execution_count": 44,
   "metadata": {
    "collapsed": true
   },
   "outputs": [],
   "source": [
    "# Change type to date\n",
    "users['date_account_created'] = pd.to_datetime(users['date_account_created'])\n",
    "users['date_first_active'] = pd.to_datetime(users['timestamp_first_active'],\n",
    "                                            format='%Y%m%d%H%M%S')\n",
    "\n",
    "users['weekday_account_created'] = users[\n",
    "    'date_account_created'].apply(get_weekday)\n",
    "users['weekday_first_active'] = users['date_first_active'].apply(get_weekday)"
   ]
  },
  {
   "cell_type": "code",
   "execution_count": 45,
   "metadata": {
    "collapsed": false
   },
   "outputs": [],
   "source": [
    "# Split dates into day, month, year\n",
    "year_account_created = pd.DatetimeIndex(users['date_account_created']).year\n",
    "users['year_account_created'] = year_account_created\n",
    "month_account_created = pd.DatetimeIndex(users['date_account_created']).month\n",
    "users['month_account_created'] = month_account_created\n",
    "day_account_created = pd.DatetimeIndex(users['date_account_created']).day\n",
    "users['day_account_created'] = day_account_created\n",
    "year_first_active = pd.DatetimeIndex(users['date_first_active']).year\n",
    "users['year_first_active'] = year_first_active\n",
    "month_first_active = pd.DatetimeIndex(users['date_first_active']).month\n",
    "users['month_first_active'] = month_first_active\n",
    "day_first_active = pd.DatetimeIndex(users['date_first_active']).day\n",
    "users['day_first_active'] = day_first_active"
   ]
  },
  {
   "cell_type": "code",
   "execution_count": 46,
   "metadata": {
    "collapsed": true
   },
   "outputs": [],
   "source": [
    "def process_user_session(user):\n",
    "    user_session = sessions.loc[sessions['user_id'] == user]\n",
    "    # Get the user session\n",
    "    user_session_data = pd.Series()\n",
    "\n",
    "    # Length of the session\n",
    "    user_session_data['session_lenght'] = len(user_session)\n",
    "    user_session_data['id'] = user\n",
    "\n",
    "    suffix = '_secs_elapsed'\n",
    "\n",
    "    for column in ['action', 'action_type', 'action_detail', 'device_type']:\n",
    "        column_data = user_session.groupby(column).secs_elapsed.sum()\n",
    "        column_data.rename(lambda x: x + suffix, inplace=True)\n",
    "        user_session_data = user_session_data.append(column_data)\n",
    "\n",
    "    # Get the most used device\n",
    "    user_session_data['most_used_device'] = user_session['device_type'].max()\n",
    "\n",
    "    return user_session_data.groupby(level=0).sum()"
   ]
  },
  {
   "cell_type": "code",
   "execution_count": 30,
   "metadata": {
    "collapsed": false
   },
   "outputs": [
    {
     "name": "stdout",
     "output_type": "stream",
     "text": [
      "CPU times: user 160 ms, sys: 20 ms, total: 180 ms\n",
      "Wall time: 4.54 s\n"
     ]
    }
   ],
   "source": [
    "p = Pool(multiprocessing.cpu_count())\n",
    "%time processed_sessions = p.map(process_user_session, sessions['user_id'].unique())\n",
    "user_sessions = pd.DataFrame(processed_sessions).set_index('id')"
   ]
  },
  {
   "cell_type": "code",
   "execution_count": 47,
   "metadata": {
    "collapsed": false
   },
   "outputs": [],
   "source": [
    "# Joint the processed data with each user\n",
    "users = users.set_index('id')\n",
    "users = pd.concat([users, user_sessions], axis=1)"
   ]
  },
  {
   "cell_type": "code",
   "execution_count": 48,
   "metadata": {
    "collapsed": true
   },
   "outputs": [],
   "source": [
    "# TODO: Classify by dispositive"
   ]
  },
  {
   "cell_type": "code",
   "execution_count": 49,
   "metadata": {
    "collapsed": true
   },
   "outputs": [],
   "source": [
    "# Get the count of general session information\n",
    "user_sessions = sessions.groupby('user_id').count()\n",
    "user_sessions.rename(columns=lambda x: x + '_count', inplace=True)\n",
    "users = pd.concat([users, user_sessions], axis=1)"
   ]
  },
  {
   "cell_type": "code",
   "execution_count": 50,
   "metadata": {
    "collapsed": false
   },
   "outputs": [],
   "source": [
    "def process_user_secs_elapsed(user):\n",
    "\n",
    "    user_secs = sessions.loc[sessions['user_id'] == user, 'secs_elapsed']\n",
    "    user_processed_secs = pd.Series()\n",
    "    user_processed_secs['id'] = user\n",
    "\n",
    "    user_processed_secs['secs_elapsed_sum'] = user_secs.sum()\n",
    "    user_processed_secs['secs_elapsed_mean'] = user_secs.mean()\n",
    "    user_processed_secs['secs_elapsed_min'] = user_secs.min()\n",
    "    user_processed_secs['secs_elapsed_max'] = user_secs.max()\n",
    "    user_processed_secs['secs_elapsed_quantile_1'] = user_secs.quantile(0.25)\n",
    "    user_processed_secs['secs_elapsed_quantile_3'] = user_secs.quantile(0.75)\n",
    "    user_processed_secs['secs_elapsed_median'] = user_secs.median()\n",
    "    user_processed_secs['secs_elapsed_std'] = user_secs.std()\n",
    "    user_processed_secs['secs_elapsed_var'] = user_secs.var()\n",
    "    user_processed_secs['secs_elapsed_skew'] = user_secs.skew()\n",
    "\n",
    "    return user_processed_secs"
   ]
  },
  {
   "cell_type": "code",
   "execution_count": 51,
   "metadata": {
    "collapsed": false
   },
   "outputs": [
    {
     "name": "stdout",
     "output_type": "stream",
     "text": [
      "CPU times: user 1.9 s, sys: 184 ms, total: 2.08 s\n",
      "Wall time: 2min 3s\n"
     ]
    }
   ],
   "source": [
    "p = Pool(multiprocessing.cpu_count())\n",
    "%time processed_secs_elapsed = p.map(process_user_secs_elapsed, sessions['user_id'].unique())\n",
    "processed_secs_elapsed = pd.DataFrame(processed_secs_elapsed).set_index('id')"
   ]
  },
  {
   "cell_type": "code",
   "execution_count": null,
   "metadata": {
    "collapsed": true
   },
   "outputs": [],
   "source": [
    "users = pd.concat([users, processed_secs_elapsed], axis=1)"
   ]
  },
  {
   "cell_type": "code",
   "execution_count": null,
   "metadata": {
    "collapsed": false
   },
   "outputs": [],
   "source": [
    "train_users = train_users.set_index('id')\n",
    "test_users = test_users.set_index('id')\n",
    "\n",
    "users.index.name = 'id'\n",
    "processed_train_users = users.loc[train_users.index]\n",
    "processed_test_users = users.loc[test_users.index]\n",
    "processed_test_users.drop(['country_destination'], inplace=True, axis=1)"
   ]
  },
  {
   "cell_type": "code",
   "execution_count": null,
   "metadata": {
    "collapsed": true
   },
   "outputs": [],
   "source": [
    "processed_train_users.to_csv(processed_data_path + 'processed_train_users.csv')\n",
    "processed_test_users.to_csv(processed_data_path + 'processed_test_users.csv')"
   ]
  },
  {
   "cell_type": "code",
   "execution_count": null,
   "metadata": {
    "collapsed": true
   },
   "outputs": [],
   "source": [
    "drop_list = [\n",
    "    'date_account_created',\n",
    "    'date_first_active',\n",
    "    'timestamp_first_active'\n",
    "]\n",
    "\n",
    "# Drop columns\n",
    "users = users.drop(drop_list, axis=1)"
   ]
  },
  {
   "cell_type": "code",
   "execution_count": null,
   "metadata": {
    "collapsed": true
   },
   "outputs": [],
   "source": [
    "# TODO: Try with StandardScaler\n",
    "# from sklearn.preprocessing import StandardScaler\n",
    "# scaler = StandardScaler()\n",
    "# scaler.fit_transform(users)"
   ]
  },
  {
   "cell_type": "code",
   "execution_count": null,
   "metadata": {
    "collapsed": false
   },
   "outputs": [],
   "source": [
    "# Encode categorical features\n",
    "categorical_features = [\n",
    "    'gender', 'signup_method', 'signup_flow', 'language', 'affiliate_channel',\n",
    "    'affiliate_provider', 'first_affiliate_tracked', 'signup_app',\n",
    "    'first_device_type', 'first_browser', 'most_used_device'\n",
    "]\n",
    "\n",
    "users = one_hot_encoding(users, categorical_features)"
   ]
  },
  {
   "cell_type": "code",
   "execution_count": null,
   "metadata": {
    "collapsed": false
   },
   "outputs": [],
   "source": [
    "processed_train_users = users.loc[train_users.index]\n",
    "processed_test_users = users.loc[test_users.index]\n",
    "processed_test_users.drop('country_destination', inplace=True, axis=1)"
   ]
  },
  {
   "cell_type": "code",
   "execution_count": null,
   "metadata": {
    "collapsed": true
   },
   "outputs": [],
   "source": [
    "processed_train_users.to_csv(processed_data_path + 'encoded_train_users.csv')\n",
    "processed_test_users.to_csv(processed_data_path + 'encoded_test_users.csv')"
   ]
  }
 ],
 "metadata": {
  "kernelspec": {
   "display_name": "Python 2",
   "language": "python",
   "name": "python2"
  },
  "language_info": {
   "codemirror_mode": {
    "name": "ipython",
    "version": 2
   },
   "file_extension": ".py",
   "mimetype": "text/x-python",
   "name": "python",
   "nbconvert_exporter": "python",
   "pygments_lexer": "ipython2",
   "version": "2.7.6"
  }
 },
 "nbformat": 4,
 "nbformat_minor": 0
}
