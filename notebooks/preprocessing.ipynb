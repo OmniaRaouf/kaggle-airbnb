{
 "cells": [
  {
   "cell_type": "code",
   "execution_count": 1,
   "metadata": {
    "collapsed": true
   },
   "outputs": [],
   "source": [
    "import numpy as np\n",
    "import pandas as pd\n",
    "import datetime\n",
    "from joblib import Parallel, delayed  \n",
    "import multiprocessing\n",
    "\n",
    "from utils.preprocessing import one_hot_encoding"
   ]
  },
  {
   "cell_type": "code",
   "execution_count": 2,
   "metadata": {
    "collapsed": false
   },
   "outputs": [],
   "source": [
    "path = '../data/raw/'\n",
    "train_users = pd.read_csv(path + 'train_users.csv')\n",
    "test_users = pd.read_csv(path + 'test_users.csv')\n",
    "sessions = pd.read_csv(path + 'sessions.csv')"
   ]
  },
  {
   "cell_type": "code",
   "execution_count": 3,
   "metadata": {
    "collapsed": true
   },
   "outputs": [],
   "source": [
    "# Join users\n",
    "users = pd.concat((train_users, test_users), axis=0, ignore_index=True)"
   ]
  },
  {
   "cell_type": "code",
   "execution_count": 4,
   "metadata": {
    "collapsed": true
   },
   "outputs": [],
   "source": [
    "# Drop useless column\n",
    "users = users.drop('date_first_booking', axis=1)"
   ]
  },
  {
   "cell_type": "code",
   "execution_count": 5,
   "metadata": {
    "collapsed": true
   },
   "outputs": [],
   "source": [
    "# Replace NaNs\n",
    "users['gender'].replace('-unknown-', np.nan, inplace=True)\n",
    "users['language'].replace('-unknown-', np.nan, inplace=True)\n",
    "sessions.replace('-unknown-', np.nan, inplace=True)"
   ]
  },
  {
   "cell_type": "code",
   "execution_count": 6,
   "metadata": {
    "collapsed": true
   },
   "outputs": [],
   "source": [
    "# Remove weird age values\n",
    "users.loc[users['age'] > 100, 'age'] = np.nan\n",
    "users.loc[users['age'] < 14, 'age'] = np.nan"
   ]
  },
  {
   "cell_type": "code",
   "execution_count": 7,
   "metadata": {
    "collapsed": true
   },
   "outputs": [],
   "source": [
    "# List categorical features\n",
    "categorical_features = [\n",
    "    'affiliate_channel',\n",
    "    'affiliate_provider',\n",
    "    'country_destination',\n",
    "    'first_affiliate_tracked',\n",
    "    'first_browser',\n",
    "    'first_device_type',\n",
    "    'gender',\n",
    "    'language',\n",
    "    'signup_app',\n",
    "    'signup_method'\n",
    "]\n",
    "\n",
    "# Change categorical features\n",
    "for categorical_feature in categorical_features:\n",
    "    users[categorical_feature] = users[categorical_feature].astype('category')"
   ]
  },
  {
   "cell_type": "code",
   "execution_count": 8,
   "metadata": {
    "collapsed": true
   },
   "outputs": [],
   "source": [
    "# Change type to date\n",
    "users['date_account_created'] = pd.to_datetime(users['date_account_created'])\n",
    "users['date_first_active'] = pd.to_datetime(users['timestamp_first_active'],\n",
    "                                            format='%Y%m%d%H%M%S')"
   ]
  },
  {
   "cell_type": "code",
   "execution_count": 9,
   "metadata": {
    "collapsed": true
   },
   "outputs": [],
   "source": [
    "def get_weekday(date):\n",
    "    return date.weekday()\n",
    "\n",
    "users['weekday_account_created'] = users['date_account_created'].apply(get_weekday)\n",
    "users['weekday_first_active'] = users['date_first_active'].apply(get_weekday)"
   ]
  },
  {
   "cell_type": "code",
   "execution_count": 10,
   "metadata": {
    "collapsed": true
   },
   "outputs": [],
   "source": [
    "# Split dates into day, month, year\n",
    "year_account_created = pd.DatetimeIndex(users['date_account_created']).year\n",
    "users['year_account_created'] = year_account_created\n",
    "month_account_created = pd.DatetimeIndex(users['date_account_created']).month\n",
    "users['month_account_created'] = month_account_created\n",
    "day_account_created = pd.DatetimeIndex(users['date_account_created']).day\n",
    "users['day_account_created'] = day_account_created\n",
    "year_first_active = pd.DatetimeIndex(users['date_first_active']).year\n",
    "users['year_first_active'] = year_first_active\n",
    "month_first_active = pd.DatetimeIndex(users['date_first_active']).month\n",
    "users['month_first_active'] = month_first_active\n",
    "day_first_active = pd.DatetimeIndex(users['date_first_active']).day\n",
    "users['day_first_active'] = day_first_active"
   ]
  },
  {
   "cell_type": "code",
   "execution_count": 11,
   "metadata": {
    "collapsed": true
   },
   "outputs": [],
   "source": [
    "def process_user_with_session(user, user_session):\n",
    "    # Get the user session\n",
    "    user_session_data = pd.Series()\n",
    "\n",
    "    # Length of the session\n",
    "    user_session_data['session_lenght'] = len(user_session)\n",
    "    user_session_data['id'] = user\n",
    "    \n",
    "    action = user_session.groupby('action')\n",
    "    action_secs_elapsed = action.secs_elapsed.sum()\n",
    "    action_secs_elapsed.rename(lambda x: x + '_secs_elapsed', inplace=True)\n",
    "    \n",
    "    user_session_data = user_session_data.append(action_secs_elapsed)\n",
    "    \n",
    "    action_type = user_session.groupby('action_type')\n",
    "    action_type_secs_elapsed = action_type.secs_elapsed.sum()\n",
    "    action_type_secs_elapsed.rename(lambda x: x + '_secs_elapsed', inplace=True)\n",
    "    \n",
    "    user_session_data = user_session_data.append(action_type_secs_elapsed)\n",
    "    \n",
    "    action_detail = user_session.groupby('action_detail')\n",
    "    action_detail_secs_elapsed = action_detail.secs_elapsed.sum()\n",
    "    action_detail_secs_elapsed.rename(lambda x: x + '_secs_elapsed', inplace=True)\n",
    "    \n",
    "    user_session_data = user_session_data.append(action_detail_secs_elapsed)\n",
    "    \n",
    "    device_type = user_session.groupby('device_type')\n",
    "    device_type_secs_elapsed = device_type.secs_elapsed.sum()\n",
    "    device_type_secs_elapsed.rename(lambda x: x + '_secs_elapsed', inplace=True)\n",
    "    \n",
    "    user_session_data = user_session_data.append(device_type_secs_elapsed)\n",
    "    \n",
    "    # Get the most used device\n",
    "    user_session_data['most_used_device'] = user_session['device_type'].max()\n",
    "    \n",
    "    return user_session_data.groupby(level=0).sum()"
   ]
  },
  {
   "cell_type": "code",
   "execution_count": 12,
   "metadata": {
    "collapsed": false
   },
   "outputs": [],
   "source": [
    "processed_sessions = Parallel(n_jobs=multiprocessing.cpu_count())(\n",
    "    delayed(process_user_with_session)(user, sessions.loc[sessions['user_id'] == user]) \n",
    "    for user in sessions['user_id'].unique()\n",
    ") \n",
    "user_sessions = pd.DataFrame(processed_sessions).set_index('id')"
   ]
  },
  {
   "cell_type": "code",
   "execution_count": 13,
   "metadata": {
    "collapsed": true
   },
   "outputs": [],
   "source": [
    "users = users.set_index('id')"
   ]
  },
  {
   "cell_type": "code",
   "execution_count": 14,
   "metadata": {
    "collapsed": false
   },
   "outputs": [],
   "source": [
    "users = pd.concat([users, user_sessions], axis=1)"
   ]
  },
  {
   "cell_type": "code",
   "execution_count": 15,
   "metadata": {
    "collapsed": false
   },
   "outputs": [],
   "source": [
    "# phones = ['Opera Phone', 'Blackberry', 'Windows Phone', 'Android App Unknown Phone/Tablet']\n",
    "# desktop = ['Mac Desktop', 'Windows Desktop', 'Linux Desktop', 'Chromebook']\n",
    "# sessions.device_type.replace(phones, 'Mobile Phone').value_counts()"
   ]
  },
  {
   "cell_type": "code",
   "execution_count": 16,
   "metadata": {
    "collapsed": true
   },
   "outputs": [],
   "source": [
    "# # Get the count of general session information\n",
    "# user_sessions = sessions.groupby('user_id')\n",
    "# general_session_info = user_sessions.count()\n",
    "# general_session_info.rename(columns=lambda x: x + '_count', inplace=True)\n",
    "# users = pd.concat([users, general_session_info], axis=1)"
   ]
  },
  {
   "cell_type": "code",
   "execution_count": 17,
   "metadata": {
    "collapsed": true
   },
   "outputs": [],
   "source": [
    "def summarize_secs_elapsed(user, secs_elapsed_by_user):\n",
    "    user_secs_elapsed = pd.Series()\n",
    "    user_secs_elapsed['id'] = user\n",
    "    \n",
    "    user_secs_elapsed['secs_elapsed_sum'] = secs_elapsed_by_user.sum()\n",
    "    user_secs_elapsed['secs_elapsed_mean'] = secs_elapsed_by_user.mean()\n",
    "    user_secs_elapsed['secs_elapsed_min'] = secs_elapsed_by_user.min()\n",
    "    user_secs_elapsed['secs_elapsed_max'] = secs_elapsed_by_user.max()\n",
    "    user_secs_elapsed['secs_elapsed_fitst_quantile'] = secs_elapsed_by_user.quantile(0.25)\n",
    "    user_secs_elapsed['secs_elapsed_third_quantile'] = secs_elapsed_by_user.quantile(0.75)\n",
    "    user_secs_elapsed['secs_elapsed_median'] = secs_elapsed_by_user.median()\n",
    "    user_secs_elapsed['secs_elapsed_std'] = secs_elapsed_by_user.std()\n",
    "    user_secs_elapsed['secs_elapsed_var'] = secs_elapsed_by_user.var()\n",
    "    user_secs_elapsed['secs_elapsed_skew'] = secs_elapsed_by_user.skew()\n",
    "    \n",
    "    return user_secs_elapsed"
   ]
  },
  {
   "cell_type": "code",
   "execution_count": 18,
   "metadata": {
    "collapsed": false
   },
   "outputs": [],
   "source": [
    "processed_secs_elapsed = Parallel(n_jobs=multiprocessing.cpu_count())(\n",
    "    delayed(summarize_secs_elapsed)(user, sessions.loc[sessions['user_id'] == user, 'secs_elapsed']) \n",
    "    for user in sessions['user_id'].unique()\n",
    ") \n",
    "processed_secs_elapsed = pd.DataFrame(processed_secs_elapsed).set_index('id')"
   ]
  },
  {
   "cell_type": "code",
   "execution_count": 19,
   "metadata": {
    "collapsed": false
   },
   "outputs": [],
   "source": [
    "users = pd.concat([users, processed_secs_elapsed], axis=1)"
   ]
  },
  {
   "cell_type": "code",
   "execution_count": 20,
   "metadata": {
    "collapsed": false
   },
   "outputs": [
    {
     "name": "stderr",
     "output_type": "stream",
     "text": [
      "/usr/local/lib/python2.7/dist-packages/ipykernel/__main__.py:6: SettingWithCopyWarning: \n",
      "A value is trying to be set on a copy of a slice from a DataFrame\n",
      "\n",
      "See the caveats in the documentation: http://pandas.pydata.org/pandas-docs/stable/indexing.html#indexing-view-versus-copy\n"
     ]
    }
   ],
   "source": [
    "train_users = train_users.set_index('id')\n",
    "test_users = test_users.set_index('id')\n",
    "\n",
    "processed_train_users = users.loc[train_users.index]\n",
    "processed_test_users = users.loc[test_users.index]\n",
    "processed_test_users.drop('country_destination', inplace=True, axis=1)\n",
    "\n",
    "path = '../data/processed/'\n",
    "processed_train_users.to_csv(path + 'train_users_without_encoding.csv')\n",
    "processed_test_users.to_csv(path + 'test_users_without_encoding.csv')"
   ]
  },
  {
   "cell_type": "code",
   "execution_count": 21,
   "metadata": {
    "collapsed": false
   },
   "outputs": [],
   "source": [
    "drop_list = [\n",
    "    'date_account_created',\n",
    "    'date_first_active',\n",
    "    'timestamp_first_active'\n",
    "]\n",
    "\n",
    "# Drop columns\n",
    "users = users.drop(drop_list, axis=1)\n",
    "\n",
    "# Encode categorical features\n",
    "categorical_features = [\n",
    "    'gender', 'signup_method', 'signup_flow', 'language', 'affiliate_channel',\n",
    "    'affiliate_provider', 'first_affiliate_tracked', 'signup_app',\n",
    "    'first_device_type', 'first_browser', 'most_used_device'\n",
    "]\n",
    "\n",
    "users = one_hot_encoding(users, categorical_features)"
   ]
  },
  {
   "cell_type": "code",
   "execution_count": 22,
   "metadata": {
    "collapsed": false
   },
   "outputs": [],
   "source": [
    "# from sklearn.preprocessing import StandardScaler\n",
    "\n",
    "# scaler = StandardScaler()\n",
    "\n",
    "# scaler.fit_transform(users)"
   ]
  },
  {
   "cell_type": "code",
   "execution_count": 23,
   "metadata": {
    "collapsed": false
   },
   "outputs": [
    {
     "name": "stderr",
     "output_type": "stream",
     "text": [
      "/usr/local/lib/python2.7/dist-packages/ipykernel/__main__.py:4: SettingWithCopyWarning: \n",
      "A value is trying to be set on a copy of a slice from a DataFrame\n",
      "\n",
      "See the caveats in the documentation: http://pandas.pydata.org/pandas-docs/stable/indexing.html#indexing-view-versus-copy\n"
     ]
    }
   ],
   "source": [
    "users.index.name = 'id'\n",
    "processed_train_users = users.loc[train_users.index]\n",
    "processed_test_users = users.loc[test_users.index]\n",
    "processed_test_users.drop('country_destination', inplace=True, axis=1)\n",
    "\n",
    "processed_train_users.to_csv(path + 'processed_train_users.csv')\n",
    "processed_test_users.to_csv(path + 'processed_test_users.csv')"
   ]
  }
 ],
 "metadata": {
  "kernelspec": {
   "display_name": "Python 2",
   "language": "python",
   "name": "python2"
  },
  "language_info": {
   "codemirror_mode": {
    "name": "ipython",
    "version": 2
   },
   "file_extension": ".py",
   "mimetype": "text/x-python",
   "name": "python",
   "nbconvert_exporter": "python",
   "pygments_lexer": "ipython2",
   "version": "2.7.6"
  }
 },
 "nbformat": 4,
 "nbformat_minor": 0
}
