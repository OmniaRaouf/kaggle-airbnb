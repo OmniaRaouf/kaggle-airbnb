{
 "cells": [
  {
   "cell_type": "markdown",
   "metadata": {},
   "source": [
    "# Preprocessing"
   ]
  },
  {
   "cell_type": "code",
   "execution_count": 102,
   "metadata": {
    "collapsed": true
   },
   "outputs": [],
   "source": [
    "import numpy as np\n",
    "import pandas as pd"
   ]
  },
  {
   "cell_type": "code",
   "execution_count": 103,
   "metadata": {
    "collapsed": false
   },
   "outputs": [],
   "source": [
    "train_users = pd.read_csv('../data/train_users_sample.csv')\n",
    "test_users = pd.read_csv('../data/test_users_sample.csv')\n",
    "sessions = pd.read_csv('../data/sessions_sample.csv')"
   ]
  },
  {
   "cell_type": "code",
   "execution_count": 104,
   "metadata": {
    "collapsed": false
   },
   "outputs": [],
   "source": [
    "users = pd.concat([train_users, test_users], axis=0, ignore_index=True)\n",
    "users.drop('date_first_booking', axis=1, inplace=True)"
   ]
  },
  {
   "cell_type": "code",
   "execution_count": 105,
   "metadata": {
    "collapsed": false
   },
   "outputs": [],
   "source": [
    "users.loc[users['age']>1000, 'age'] = 2015-users.loc[users['age']>1000, 'age']\n",
    "users.loc[(users['age']>100) | (users['age']<18), 'age'] = -1\n",
    "\n",
    "users['age'].fillna(-1, inplace=True)\n",
    "\n",
    "bins = [-1, 20, 25, 30, 40, 50, 60, 75, 100]\n",
    "users['age_group'] = np.digitize(users['age'], bins, right=True)"
   ]
  },
  {
   "cell_type": "code",
   "execution_count": 106,
   "metadata": {
    "collapsed": true
   },
   "outputs": [],
   "source": [
    "users['nans'] = np.sum([\n",
    "    (users['age'] == -1),\n",
    "    (users['gender'] == '-unknown-'),\n",
    "    (users['language'] == '-unknown-'),\n",
    "    (users['first_affiliate_tracked'] == 'untracked'),\n",
    "    (users['first_browser'] == '-unknown-')], axis=0)"
   ]
  },
  {
   "cell_type": "code",
   "execution_count": 107,
   "metadata": {
    "collapsed": false
   },
   "outputs": [],
   "source": [
    "users['date_account_created'] = pd.to_datetime(users['date_account_created'], errors='ignore')\n",
    "users['date_first_active'] = pd.to_datetime(users['timestamp_first_active'], format='%Y%m%d%H%M%S')\n",
    "\n",
    "# Convert to DatetimeIndex\n",
    "date_account_created = pd.DatetimeIndex(users['date_account_created'])\n",
    "date_first_active = pd.DatetimeIndex(users['date_first_active'])\n",
    "\n",
    "# Split dates into day, week, month, year\n",
    "users['day_account_created'] = date_account_created.day\n",
    "users['weekday_account_created'] = date_account_created.weekday\n",
    "users['week_account_created'] = date_account_created.week\n",
    "users['month_account_created'] = date_account_created.month\n",
    "users['year_account_created'] = date_account_created.year\n",
    "users['day_first_active'] = date_first_active.day\n",
    "users['weekday_first_active'] = date_first_active.weekday\n",
    "users['week_first_active'] = date_first_active.week\n",
    "users['month_first_active'] = date_first_active.month\n",
    "users['year_first_active'] = date_first_active.year\n",
    "\n",
    "users['time_lag'] = (date_account_created.values - date_first_active.values).astype(int)"
   ]
  },
  {
   "cell_type": "code",
   "execution_count": 108,
   "metadata": {
    "collapsed": false
   },
   "outputs": [],
   "source": [
    "# Drop columns\n",
    "drop_list = [\n",
    "    'date_account_created',\n",
    "    'date_first_active',\n",
    "    'timestamp_first_active'\n",
    "]\n",
    "\n",
    "users.drop(drop_list, axis=1, inplace=True)"
   ]
  },
  {
   "cell_type": "code",
   "execution_count": 109,
   "metadata": {
    "collapsed": true
   },
   "outputs": [],
   "source": [
    "sessions.rename(columns = {'user_id': 'id'}, inplace=True)\n",
    "\n",
    "action_count = sessions.groupby(['id', 'action'])['secs_elapsed'].agg(len).unstack()\n",
    "action_type_count = sessions.groupby(['id', 'action_type'])['secs_elapsed'].agg(len).unstack()\n",
    "action_detail_count = sessions.groupby(['id', 'action_detail'])['secs_elapsed'].agg(len).unstack()\n",
    "device_type_sum = sessions.groupby(['id', 'device_type'])['secs_elapsed'].agg(sum).unstack()\n",
    "\n",
    "sessions_data = pd.concat([action_count, action_type_count, action_detail_count, device_type_sum],axis=1)\n",
    "sessions_data.columns = sessions_data.columns.map(lambda x: str(x) + '_count')\n",
    "\n",
    "sessions_data['most_used_device'] = sessions.groupby('id')['device_type'].max()"
   ]
  },
  {
   "cell_type": "code",
   "execution_count": 110,
   "metadata": {
    "collapsed": false
   },
   "outputs": [],
   "source": [
    "users = users.join(sessions_data, on='id')"
   ]
  },
  {
   "cell_type": "code",
   "execution_count": 111,
   "metadata": {
    "collapsed": true
   },
   "outputs": [],
   "source": [
    "secs_elapsed = sessions.groupby('id')['secs_elapsed']\n",
    "\n",
    "secs_elapsed = secs_elapsed.agg(\n",
    "    {\n",
    "        'secs_elapsed_sum': np.sum,\n",
    "        'secs_elapsed_mean': np.mean,\n",
    "        'secs_elapsed_min': np.min,\n",
    "        'secs_elapsed_max': np.max,\n",
    "        'secs_elapsed_median': np.median,\n",
    "        'secs_elapsed_std': np.std,\n",
    "        'secs_elapsed_var': np.var,\n",
    "        'day_pauses': lambda x: (x > 86400).sum(),\n",
    "        'long_pauses': lambda x: (x > 300000).sum(),\n",
    "        'short_pauses': lambda x: (x < 3600).sum(),\n",
    "        'session_length' : np.count_nonzero\n",
    "    }\n",
    ")"
   ]
  },
  {
   "cell_type": "code",
   "execution_count": 112,
   "metadata": {
    "collapsed": false
   },
   "outputs": [],
   "source": [
    "users = users.join(secs_elapsed, on='id')"
   ]
  },
  {
   "cell_type": "code",
   "execution_count": 113,
   "metadata": {
    "collapsed": true
   },
   "outputs": [],
   "source": [
    "# Encode categorical features\n",
    "categorical_features = [\n",
    "    'gender', 'signup_method', 'signup_flow', 'language',\n",
    "    'affiliate_channel', 'affiliate_provider', 'first_affiliate_tracked',\n",
    "    'signup_app', 'first_device_type', 'first_browser', 'most_used_device'\n",
    "]"
   ]
  },
  {
   "cell_type": "code",
   "execution_count": 114,
   "metadata": {
    "collapsed": false
   },
   "outputs": [],
   "source": [
    "users = pd.get_dummies(users, columns=categorical_features)"
   ]
  },
  {
   "cell_type": "code",
   "execution_count": 115,
   "metadata": {
    "collapsed": true
   },
   "outputs": [],
   "source": [
    "users.set_index('id', inplace=True)"
   ]
  },
  {
   "cell_type": "code",
   "execution_count": 117,
   "metadata": {
    "collapsed": false
   },
   "outputs": [],
   "source": [
    "users.loc[train_users['id']].to_csv('../cache/train_users.csv')"
   ]
  },
  {
   "cell_type": "code",
   "execution_count": 118,
   "metadata": {
    "collapsed": false
   },
   "outputs": [],
   "source": [
    "users.loc[test_users['id']].drop('country_destination', axis=1).to_csv('../cache/test_users.csv')"
   ]
  }
 ],
 "metadata": {
  "kernelspec": {
   "display_name": "Python 3",
   "language": "python",
   "name": "python3"
  },
  "language_info": {
   "codemirror_mode": {
    "name": "ipython",
    "version": 3
   },
   "file_extension": ".py",
   "mimetype": "text/x-python",
   "name": "python",
   "nbconvert_exporter": "python",
   "pygments_lexer": "ipython3",
   "version": "3.4.3"
  }
 },
 "nbformat": 4,
 "nbformat_minor": 0
}
