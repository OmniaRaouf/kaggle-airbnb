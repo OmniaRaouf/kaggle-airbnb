{
 "cells": [
  {
   "cell_type": "code",
   "execution_count": 1,
   "metadata": {
    "collapsed": true
   },
   "outputs": [],
   "source": [
    "import sys\n",
    "import numpy as np\n",
    "import pandas as pd\n",
    "\n",
    "sys.path.append('..')"
   ]
  },
  {
   "cell_type": "code",
   "execution_count": 2,
   "metadata": {
    "collapsed": true
   },
   "outputs": [],
   "source": [
    "from utils.data_loading import load_users_data, load_sessions_data\n",
    "\n",
    "train_users, test_users = load_users_data()\n",
    "sessions = load_sessions_data()\n",
    "sessions.replace('-unknown-', np.nan, inplace=True)"
   ]
  },
  {
   "cell_type": "code",
   "execution_count": 3,
   "metadata": {
    "collapsed": true
   },
   "outputs": [],
   "source": [
    "users = pd.concat((train_users, test_users), axis=0, ignore_index=True)\n",
    "users = users.drop('date_first_booking', axis=1)"
   ]
  },
  {
   "cell_type": "code",
   "execution_count": 4,
   "metadata": {
    "collapsed": true
   },
   "outputs": [],
   "source": [
    "users['gender'].replace('-unknown-', np.nan, inplace=True)\n",
    "users['language'].replace('-unknown-', np.nan, inplace=True)"
   ]
  },
  {
   "cell_type": "code",
   "execution_count": 5,
   "metadata": {
    "collapsed": true
   },
   "outputs": [],
   "source": [
    "users.loc[users['age'] > 100, 'age'] = np.nan\n",
    "users.loc[users['age'] < 14, 'age'] = np.nan"
   ]
  },
  {
   "cell_type": "code",
   "execution_count": 6,
   "metadata": {
    "collapsed": true
   },
   "outputs": [],
   "source": [
    "categorical_features = [\n",
    "    'affiliate_channel',\n",
    "    'affiliate_provider',\n",
    "    'country_destination',\n",
    "    'first_affiliate_tracked',\n",
    "    'first_browser',\n",
    "    'first_device_type',\n",
    "    'gender',\n",
    "    'language',\n",
    "    'signup_app',\n",
    "    'signup_method'\n",
    "]\n",
    "\n",
    "for categorical_feature in categorical_features:\n",
    "    users[categorical_feature] = users[categorical_feature].astype('category')"
   ]
  },
  {
   "cell_type": "code",
   "execution_count": 7,
   "metadata": {
    "collapsed": false
   },
   "outputs": [],
   "source": [
    "users['date_account_created'] = pd.to_datetime(users['date_account_created'])\n",
    "users['date_first_active'] = pd.to_datetime(users['timestamp_first_active'], format='%Y%m%d%H%M%S')"
   ]
  },
  {
   "cell_type": "code",
   "execution_count": 8,
   "metadata": {
    "collapsed": true
   },
   "outputs": [],
   "source": [
    "weekdays = []\n",
    "for date in users.date_account_created:\n",
    "    weekdays.append(date.weekday())\n",
    "users['weekday_account_created'] = pd.Series(weekdays)\n",
    "\n",
    "weekdays = []\n",
    "for date in users.date_account_created:\n",
    "    weekdays.append(date.weekday())\n",
    "users['weekday_first_active'] = pd.Series(weekdays)\n",
    "\n",
    "users['year_account_created'] = pd.DatetimeIndex(users['date_account_created']).year\n",
    "users['month_account_created'] = pd.DatetimeIndex(users['date_account_created']).month\n",
    "users['day_account_created'] = pd.DatetimeIndex(users['date_account_created']).day\n",
    "\n",
    "users['year_first_active'] = pd.DatetimeIndex(users['timestamp_first_active']).year\n",
    "users['month_first_active'] = pd.DatetimeIndex(users['timestamp_first_active']).month\n",
    "users['day_first_active'] = pd.DatetimeIndex(users['timestamp_first_active']).day"
   ]
  },
  {
   "cell_type": "code",
   "execution_count": null,
   "metadata": {
    "collapsed": true
   },
   "outputs": [],
   "source": [
    "sessions_lengths = sessions['user_id'].value_counts()"
   ]
  },
  {
   "cell_type": "code",
   "execution_count": 35,
   "metadata": {
    "collapsed": false
   },
   "outputs": [
    {
     "name": "stdout",
     "output_type": "stream",
     "text": [
      "2722\n",
      "2644\n",
      "2476\n",
      "2424\n",
      "2362\n",
      "2335\n",
      "2323\n",
      "2264\n",
      "2264\n",
      "2246\n",
      "2137\n",
      "2085\n",
      "2019\n",
      "1938\n",
      "1923\n",
      "1919\n",
      "1876\n",
      "1861\n",
      "1811\n",
      "1797\n",
      "1792\n",
      "1780\n",
      "1779\n",
      "1753\n",
      "1752\n",
      "1732\n",
      "1701\n",
      "1685\n",
      "1614\n",
      "1612\n",
      "1574\n",
      "1572\n",
      "1562\n",
      "1548\n",
      "1538\n",
      "1526\n",
      "1518\n",
      "1511\n",
      "1491\n",
      "1482\n",
      "1458\n",
      "1455\n",
      "1422\n",
      "1410\n",
      "1410\n",
      "1409\n",
      "1406\n",
      "1405\n",
      "1399\n",
      "1390\n",
      "1386\n",
      "1382\n",
      "1379\n",
      "1375\n",
      "1367\n",
      "1365\n",
      "1363\n",
      "1350\n",
      "1337\n",
      "1332\n",
      "1332\n",
      "1331\n",
      "1327\n",
      "1320\n",
      "1317\n",
      "1308\n",
      "1298\n",
      "1275\n",
      "1268\n",
      "1267\n",
      "1260\n",
      "1256\n",
      "1254\n",
      "1250\n",
      "1246\n",
      "1246\n",
      "1243\n",
      "1241\n",
      "1234\n",
      "1234\n",
      "1234\n",
      "1232\n",
      "1231\n",
      "1226\n",
      "1226\n",
      "1220\n",
      "1216\n",
      "1216\n",
      "1207\n",
      "1204\n",
      "1203\n",
      "1198\n",
      "1197\n",
      "1196\n",
      "1190\n",
      "1186\n",
      "1185\n",
      "1184\n",
      "1184\n",
      "1183\n",
      "1182\n",
      "1182\n",
      "1179\n",
      "1169\n",
      "1169\n",
      "1166\n",
      "1164\n",
      "1148\n",
      "1146\n",
      "1145\n",
      "1138\n",
      "1135\n",
      "1130\n",
      "1129\n",
      "1127\n",
      "1124\n",
      "1113\n",
      "1113\n",
      "1112\n",
      "1109\n",
      "1107\n",
      "1105\n",
      "1105\n",
      "1103\n",
      "1102\n",
      "1102\n",
      "1101\n",
      "1101\n",
      "1096\n",
      "1094\n",
      "1090\n",
      "1089\n",
      "1088\n",
      "1088\n",
      "1087\n",
      "1083\n",
      "1083\n",
      "1081\n",
      "1079\n",
      "1076\n",
      "1075\n",
      "1073\n",
      "1073\n",
      "1073\n",
      "1069\n",
      "1069\n",
      "1067\n",
      "1066\n",
      "1065\n",
      "1062\n",
      "1062\n",
      "1062\n",
      "1059\n",
      "1058\n",
      "1058\n",
      "1057\n",
      "1057\n",
      "1057\n",
      "1056\n",
      "1051\n",
      "1050\n",
      "1048\n",
      "1045\n",
      "1043\n",
      "1042\n",
      "1040\n",
      "1039\n",
      "1039\n",
      "1037\n",
      "1037\n",
      "1036\n",
      "1035\n",
      "1033\n",
      "1032\n",
      "1032\n",
      "1032\n",
      "1027\n",
      "1026\n",
      "1025\n",
      "1025\n",
      "1022\n",
      "1020\n",
      "1019\n",
      "1019\n",
      "1014\n",
      "1014\n",
      "1013\n",
      "1011\n",
      "1010\n",
      "1009\n",
      "1003\n",
      "1003\n",
      "1002\n",
      "999\n",
      "998\n",
      "989\n",
      "989\n",
      "985\n",
      "976\n",
      "974\n",
      "974\n",
      "973\n",
      "973\n",
      "970\n",
      "970\n",
      "970\n",
      "969\n",
      "968\n",
      "968\n",
      "968\n",
      "968\n",
      "967\n",
      "967\n",
      "965\n",
      "965\n",
      "962\n"
     ]
    },
    {
     "ename": "KeyboardInterrupt",
     "evalue": "",
     "output_type": "error",
     "traceback": [
      "\u001b[1;31m---------------------------------------------------------------------------\u001b[0m",
      "\u001b[1;31mKeyboardInterrupt\u001b[0m                         Traceback (most recent call last)",
      "\u001b[1;32m<ipython-input-35-eb3b3f5794da>\u001b[0m in \u001b[0;36m<module>\u001b[1;34m()\u001b[0m\n\u001b[0;32m      1\u001b[0m \u001b[1;32mfor\u001b[0m \u001b[0muser\u001b[0m\u001b[1;33m,\u001b[0m \u001b[0msession_length\u001b[0m \u001b[1;32min\u001b[0m \u001b[0msessions_lengths\u001b[0m\u001b[1;33m.\u001b[0m\u001b[0miteritems\u001b[0m\u001b[1;33m(\u001b[0m\u001b[1;33m)\u001b[0m\u001b[1;33m:\u001b[0m\u001b[1;33m\u001b[0m\u001b[0m\n\u001b[1;32m----> 2\u001b[1;33m     \u001b[0musers\u001b[0m\u001b[1;33m.\u001b[0m\u001b[0mloc\u001b[0m\u001b[1;33m[\u001b[0m\u001b[0musers\u001b[0m\u001b[1;33m[\u001b[0m\u001b[1;34m'id'\u001b[0m\u001b[1;33m]\u001b[0m \u001b[1;33m==\u001b[0m \u001b[0muser\u001b[0m\u001b[1;33m,\u001b[0m \u001b[1;34m'session_length'\u001b[0m\u001b[1;33m]\u001b[0m \u001b[1;33m=\u001b[0m \u001b[0mint\u001b[0m\u001b[1;33m(\u001b[0m\u001b[0msession_length\u001b[0m\u001b[1;33m)\u001b[0m\u001b[1;33m\u001b[0m\u001b[0m\n\u001b[0m\u001b[0;32m      3\u001b[0m     \u001b[1;32mprint\u001b[0m \u001b[0mint\u001b[0m\u001b[1;33m(\u001b[0m\u001b[0msession_length\u001b[0m\u001b[1;33m)\u001b[0m\u001b[1;33m\u001b[0m\u001b[0m\n",
      "\u001b[1;32m/usr/local/lib/python2.7/dist-packages/pandas/core/ops.pyc\u001b[0m in \u001b[0;36mwrapper\u001b[1;34m(self, other, axis)\u001b[0m\n\u001b[0;32m    724\u001b[0m                 \u001b[0mother\u001b[0m \u001b[1;33m=\u001b[0m \u001b[0mnp\u001b[0m\u001b[1;33m.\u001b[0m\u001b[0masarray\u001b[0m\u001b[1;33m(\u001b[0m\u001b[0mother\u001b[0m\u001b[1;33m)\u001b[0m\u001b[1;33m\u001b[0m\u001b[0m\n\u001b[0;32m    725\u001b[0m \u001b[1;33m\u001b[0m\u001b[0m\n\u001b[1;32m--> 726\u001b[1;33m             \u001b[0mres\u001b[0m \u001b[1;33m=\u001b[0m \u001b[0mna_op\u001b[0m\u001b[1;33m(\u001b[0m\u001b[0mvalues\u001b[0m\u001b[1;33m,\u001b[0m \u001b[0mother\u001b[0m\u001b[1;33m)\u001b[0m\u001b[1;33m\u001b[0m\u001b[0m\n\u001b[0m\u001b[0;32m    727\u001b[0m             \u001b[1;32mif\u001b[0m \u001b[0misscalar\u001b[0m\u001b[1;33m(\u001b[0m\u001b[0mres\u001b[0m\u001b[1;33m)\u001b[0m\u001b[1;33m:\u001b[0m\u001b[1;33m\u001b[0m\u001b[0m\n\u001b[0;32m    728\u001b[0m                 raise TypeError('Could not compare %s type with Series'\n",
      "\u001b[1;32m/usr/local/lib/python2.7/dist-packages/pandas/core/ops.pyc\u001b[0m in \u001b[0;36mna_op\u001b[1;34m(x, y)\u001b[0m\n\u001b[0;32m    646\u001b[0m                     \u001b[0mresult\u001b[0m \u001b[1;33m=\u001b[0m \u001b[0mlib\u001b[0m\u001b[1;33m.\u001b[0m\u001b[0mvec_compare\u001b[0m\u001b[1;33m(\u001b[0m\u001b[0mx\u001b[0m\u001b[1;33m,\u001b[0m \u001b[0my\u001b[0m\u001b[1;33m,\u001b[0m \u001b[0mop\u001b[0m\u001b[1;33m)\u001b[0m\u001b[1;33m\u001b[0m\u001b[0m\n\u001b[0;32m    647\u001b[0m             \u001b[1;32melse\u001b[0m\u001b[1;33m:\u001b[0m\u001b[1;33m\u001b[0m\u001b[0m\n\u001b[1;32m--> 648\u001b[1;33m                 \u001b[0mresult\u001b[0m \u001b[1;33m=\u001b[0m \u001b[0mlib\u001b[0m\u001b[1;33m.\u001b[0m\u001b[0mscalar_compare\u001b[0m\u001b[1;33m(\u001b[0m\u001b[0mx\u001b[0m\u001b[1;33m,\u001b[0m \u001b[0my\u001b[0m\u001b[1;33m,\u001b[0m \u001b[0mop\u001b[0m\u001b[1;33m)\u001b[0m\u001b[1;33m\u001b[0m\u001b[0m\n\u001b[0m\u001b[0;32m    649\u001b[0m         \u001b[1;32melse\u001b[0m\u001b[1;33m:\u001b[0m\u001b[1;33m\u001b[0m\u001b[0m\n\u001b[0;32m    650\u001b[0m \u001b[1;33m\u001b[0m\u001b[0m\n",
      "\u001b[1;31mKeyboardInterrupt\u001b[0m: "
     ]
    }
   ],
   "source": [
    "for user, session_length in sessions_lengths.iteritems():\n",
    "    users.loc[users['id'] == user, 'session_length'] = int(session_length)"
   ]
  }
 ],
 "metadata": {
  "kernelspec": {
   "display_name": "Python 2",
   "language": "python",
   "name": "python2"
  },
  "language_info": {
   "codemirror_mode": {
    "name": "ipython",
    "version": 2
   },
   "file_extension": ".py",
   "mimetype": "text/x-python",
   "name": "python",
   "nbconvert_exporter": "python",
   "pygments_lexer": "ipython2",
   "version": "2.7.6"
  }
 },
 "nbformat": 4,
 "nbformat_minor": 0
}
