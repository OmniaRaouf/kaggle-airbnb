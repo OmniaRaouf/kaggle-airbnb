{
 "cells": [
  {
   "cell_type": "markdown",
   "metadata": {
    "focus": false,
    "id": "8fb6b2bc-15f3-4928-820e-06c00aeed580"
   },
   "source": [
    "# Preprocessing"
   ]
  },
  {
   "cell_type": "code",
   "execution_count": 1,
   "metadata": {
    "collapsed": true
   },
   "outputs": [],
   "source": [
    "import numpy as np\n",
    "import pandas as pd"
   ]
  },
  {
   "cell_type": "markdown",
   "metadata": {
    "collapsed": true,
    "focus": false,
    "id": "f1bd5b05-995a-4363-8cd8-6a31306770c2"
   },
   "source": [
    "Load the data, in this case a sample data. \n",
    "Working with a sample allow us to debug easier and faster!"
   ]
  },
  {
   "cell_type": "code",
   "execution_count": 2,
   "metadata": {
    "collapsed": false,
    "focus": false,
    "id": "fec9898c-4c6a-4e79-86c3-22f1f42b6466"
   },
   "outputs": [],
   "source": [
    "train_users = pd.read_csv('../data/train_users_sample.csv')\n",
    "test_users = pd.read_csv('../data/test_users_sample.csv')\n",
    "sessions = pd.read_csv('../data/sessions_sample.csv')"
   ]
  },
  {
   "cell_type": "markdown",
   "metadata": {},
   "source": [
    "Make a single DataFrame containing all the users:"
   ]
  },
  {
   "cell_type": "code",
   "execution_count": 3,
   "metadata": {
    "collapsed": true
   },
   "outputs": [],
   "source": [
    "users = pd.concat([train_users, test_users], axis=0, ignore_index=True)"
   ]
  },
  {
   "cell_type": "markdown",
   "metadata": {},
   "source": [
    "Drop useless column(test_users don't have it)"
   ]
  },
  {
   "cell_type": "code",
   "execution_count": 4,
   "metadata": {
    "collapsed": false,
    "focus": false,
    "id": "f7c25bcc-bf75-4631-b717-6331212dd4c1"
   },
   "outputs": [],
   "source": [
    "users.drop('date_first_booking', axis=1, inplace=True)"
   ]
  },
  {
   "cell_type": "markdown",
   "metadata": {},
   "source": [
    "## Age\n",
    "One of the most important features when making predictions, as we will see later, is the age. \n",
    "Being able to extract information about the users' age is essential to our future predictions.\n",
    "\n",
    "Some users introduced a year instead of their age, translate this year into their age:"
   ]
  },
  {
   "cell_type": "code",
   "execution_count": 5,
   "metadata": {
    "collapsed": true
   },
   "outputs": [],
   "source": [
    "user_with_year_age_mask = users['age'] > 1000\n",
    "users.loc[user_with_year_age_mask, 'age'] = 2015 - users.loc[user_with_year_age_mask, 'age']"
   ]
  },
  {
   "cell_type": "markdown",
   "metadata": {},
   "source": [
    "Set limits to age:"
   ]
  },
  {
   "cell_type": "code",
   "execution_count": 6,
   "metadata": {
    "collapsed": true
   },
   "outputs": [],
   "source": [
    "users.loc[(users['age'] > 100) | (users['age'] < 18), 'age'] = -1"
   ]
  },
  {
   "cell_type": "markdown",
   "metadata": {},
   "source": [
    "Fill NaNs with -1 to make it more noticiable:"
   ]
  },
  {
   "cell_type": "code",
   "execution_count": 7,
   "metadata": {
    "collapsed": true
   },
   "outputs": [],
   "source": [
    "users['age'].fillna(-1, inplace=True)"
   ]
  },
  {
   "cell_type": "markdown",
   "metadata": {},
   "source": [
    "The age, is really fine grained. We are going to make bins and fit each user in the proper age group:"
   ]
  },
  {
   "cell_type": "code",
   "execution_count": 8,
   "metadata": {
    "collapsed": false,
    "focus": false,
    "id": "1b7db5a3-b1a3-4c0f-a7c0-4796e6a1fc26"
   },
   "outputs": [],
   "source": [
    "bins = [-1, 20, 25, 30, 40, 50, 60, 75, 100]\n",
    "users['age_group'] = np.digitize(users['age'], bins, right=True)"
   ]
  },
  {
   "cell_type": "markdown",
   "metadata": {},
   "source": [
    "## NaNs\n",
    "With this snippet we can get the number of unknown things from a given user. \n",
    "This can be usefull for the classifier when deciding where this user is booking."
   ]
  },
  {
   "cell_type": "code",
   "execution_count": 9,
   "metadata": {
    "collapsed": true,
    "focus": false,
    "id": "a70ef43b-1568-4b20-92ab-b0875056a972"
   },
   "outputs": [],
   "source": [
    "users['nans'] = np.sum([\n",
    "    (users['age'] == -1),\n",
    "    (users['gender'] == '-unknown-'),\n",
    "    (users['language'] == '-unknown-'),\n",
    "    (users['first_affiliate_tracked'] == 'untracked'),\n",
    "    (users['first_browser'] == '-unknown-')\n",
    "], axis=0)"
   ]
  },
  {
   "cell_type": "markdown",
   "metadata": {},
   "source": [
    "## Date\n",
    "Cast the dates to proper format:"
   ]
  },
  {
   "cell_type": "code",
   "execution_count": 12,
   "metadata": {
    "collapsed": false,
    "focus": false,
    "id": "248e5a32-03de-4f42-8a27-71addcaaee34"
   },
   "outputs": [],
   "source": [
    "users['date_account_created'] = pd.to_datetime(users['date_account_created'], errors='ignore')\n",
    "users['date_first_active'] = pd.to_datetime(users['timestamp_first_active'], format='%Y%m%d%H%M%S')\n",
    "\n",
    "# Convert to DatetimeIndex\n",
    "date_account_created = pd.DatetimeIndex(users['date_account_created'])\n",
    "date_first_active = pd.DatetimeIndex(users['date_first_active'])\n",
    "\n",
    "# Split dates into day, week, month, year\n",
    "users['day_account_created'] = date_account_created.day\n",
    "users['weekday_account_created'] = date_account_created.weekday\n",
    "users['week_account_created'] = date_account_created.week\n",
    "users['month_account_created'] = date_account_created.month\n",
    "users['year_account_created'] = date_account_created.year\n",
    "users['day_first_active'] = date_first_active.day\n",
    "users['weekday_first_active'] = date_first_active.weekday\n",
    "users['week_first_active'] = date_first_active.week\n",
    "users['month_first_active'] = date_first_active.month\n",
    "users['year_first_active'] = date_first_active.year\n",
    "\n",
    "# Get the difference(time lag) between the date in which the account was created and when it was first active:\n",
    "users['time_lag'] = (date_account_created.values - date_first_active.values).astype(int)"
   ]
  },
  {
   "cell_type": "code",
   "execution_count": 13,
   "metadata": {
    "collapsed": false,
    "focus": false,
    "id": "8a9cfbda-c99e-4172-8129-0bd735ebfb2b"
   },
   "outputs": [],
   "source": [
    "# Drop duplicated columns\n",
    "drop_list = [\n",
    "    'date_account_created',\n",
    "    'date_first_active',\n",
    "    'timestamp_first_active'\n",
    "]\n",
    "\n",
    "users.drop(drop_list, axis=1, inplace=True)"
   ]
  },
  {
   "cell_type": "markdown",
   "metadata": {},
   "source": [
    "## Session Information\n",
    "\n",
    "There is a lot of information in the `sessions.csv` file. We will focus on get a count of each user action and some\n",
    "statistics about their seconds elapsed. Further preprocessing could be benneficial to the final predictions."
   ]
  },
  {
   "cell_type": "code",
   "execution_count": 14,
   "metadata": {
    "collapsed": true
   },
   "outputs": [],
   "source": [
    "sessions.rename(columns = {'user_id': 'id'}, inplace=True)"
   ]
  },
  {
   "cell_type": "markdown",
   "metadata": {},
   "source": [
    "### Frequency Count\n",
    "This simply counts the number of times an action is made by each user. One thing I learned from this \n",
    "competition is to really understand what you want to do and not begin to code an \n",
    "[over-engineered](https://github.com/davidgasquez/kaggle-airbnb/blob/4aa8bc904141720099610343b929f09ef60b246c/scripts/feature_engeenering.py#L75-L95) \n",
    "solution."
   ]
  },
  {
   "cell_type": "code",
   "execution_count": 15,
   "metadata": {
    "collapsed": true,
    "focus": true,
    "id": "2beb2d1e-888d-48a2-a10a-8e99566ecfe7"
   },
   "outputs": [],
   "source": [
    "action_count = sessions.groupby(['id', 'action'])['secs_elapsed'].agg(len).unstack()\n",
    "action_type_count = sessions.groupby(['id', 'action_type'])['secs_elapsed'].agg(len).unstack()\n",
    "action_detail_count = sessions.groupby(['id', 'action_detail'])['secs_elapsed'].agg(len).unstack()\n",
    "device_type_sum = sessions.groupby(['id', 'device_type'])['secs_elapsed'].agg(sum).unstack()\n",
    "\n",
    "sessions_data = pd.concat([action_count, action_type_count, action_detail_count, device_type_sum],axis=1)\n",
    "sessions_data.columns = sessions_data.columns.map(lambda x: str(x) + '_count')\n",
    "\n",
    "sessions_data['most_used_device'] = sessions.groupby('id')['device_type'].max()"
   ]
  },
  {
   "cell_type": "code",
   "execution_count": 16,
   "metadata": {
    "collapsed": false,
    "focus": false,
    "id": "ea20f255-a74e-4e10-ae69-3c69f9cd9c19"
   },
   "outputs": [],
   "source": [
    "users = users.join(sessions_data, on='id')"
   ]
  },
  {
   "cell_type": "code",
   "execution_count": 17,
   "metadata": {
    "collapsed": true,
    "focus": false,
    "id": "694dc518-3313-4dec-98d6-4b3747622603"
   },
   "outputs": [],
   "source": [
    "secs_elapsed = sessions.groupby('id')['secs_elapsed']\n",
    "\n",
    "secs_elapsed = secs_elapsed.agg(\n",
    "    {\n",
    "        'secs_elapsed_sum': np.sum,\n",
    "        'secs_elapsed_mean': np.mean,\n",
    "        'secs_elapsed_min': np.min,\n",
    "        'secs_elapsed_max': np.max,\n",
    "        'secs_elapsed_median': np.median,\n",
    "        'secs_elapsed_std': np.std,\n",
    "        'secs_elapsed_var': np.var,\n",
    "        'day_pauses': lambda x: (x > 86400).sum(),\n",
    "        'long_pauses': lambda x: (x > 300000).sum(),\n",
    "        'short_pauses': lambda x: (x < 3600).sum(),\n",
    "        'session_length' : np.count_nonzero\n",
    "    }\n",
    ")"
   ]
  },
  {
   "cell_type": "code",
   "execution_count": 18,
   "metadata": {
    "collapsed": false,
    "focus": false,
    "id": "2cc814a3-254b-40c6-80f8-0e9b92d5999f"
   },
   "outputs": [],
   "source": [
    "users = users.join(secs_elapsed, on='id')"
   ]
  },
  {
   "cell_type": "code",
   "execution_count": 19,
   "metadata": {
    "collapsed": true,
    "focus": false,
    "id": "febdbb34-890c-4124-820b-7eaa53bc6b94"
   },
   "outputs": [],
   "source": [
    "# Encode categorical features\n",
    "categorical_features = [\n",
    "    'gender', 'signup_method', 'signup_flow', 'language',\n",
    "    'affiliate_channel', 'affiliate_provider', 'first_affiliate_tracked',\n",
    "    'signup_app', 'first_device_type', 'first_browser', 'most_used_device'\n",
    "]"
   ]
  },
  {
   "cell_type": "code",
   "execution_count": 20,
   "metadata": {
    "collapsed": false,
    "focus": false,
    "id": "6a59efef-00ff-4bc7-a2f2-d2a899320187"
   },
   "outputs": [],
   "source": [
    "users = pd.get_dummies(users, columns=categorical_features)"
   ]
  },
  {
   "cell_type": "code",
   "execution_count": 21,
   "metadata": {
    "collapsed": true,
    "focus": false,
    "id": "9ab0948a-7a8e-427f-afee-f2e4205f4c6a"
   },
   "outputs": [],
   "source": [
    "users.set_index('id', inplace=True)"
   ]
  },
  {
   "cell_type": "code",
   "execution_count": 22,
   "metadata": {
    "collapsed": false,
    "focus": false,
    "id": "22644677-9ad1-482f-87f6-bfeddd08893c"
   },
   "outputs": [],
   "source": [
    "users.loc[train_users['id']].to_csv('../cache/train_users.csv')"
   ]
  },
  {
   "cell_type": "code",
   "execution_count": 23,
   "metadata": {
    "collapsed": false,
    "focus": false,
    "id": "8fab8cdb-0afc-4807-b4e8-b487214071f9"
   },
   "outputs": [],
   "source": [
    "users.loc[test_users['id']].drop('country_destination', axis=1).to_csv('../cache/test_users.csv')"
   ]
  }
 ],
 "metadata": {
  "kernelspec": {
   "display_name": "Python 3",
   "language": "python",
   "name": "python3"
  },
  "language_info": {
   "codemirror_mode": {
    "name": "ipython",
    "version": 3
   },
   "file_extension": ".py",
   "mimetype": "text/x-python",
   "name": "python",
   "nbconvert_exporter": "python",
   "pygments_lexer": "ipython3",
   "version": "3.4.3"
  }
 },
 "nbformat": 4,
 "nbformat_minor": 0
}
