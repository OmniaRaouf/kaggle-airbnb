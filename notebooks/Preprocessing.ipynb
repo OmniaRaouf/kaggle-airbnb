{
 "cells": [
  {
   "cell_type": "markdown",
   "metadata": {},
   "source": [
    "# Preprocessing"
   ]
  },
  {
   "cell_type": "code",
   "execution_count": 1,
   "metadata": {
    "collapsed": true
   },
   "outputs": [],
   "source": [
    "import numpy as np\n",
    "import pandas as pd\n",
    "\n",
    "from kairbnb.preprocessing import one_hot_encoding"
   ]
  },
  {
   "cell_type": "code",
   "execution_count": 2,
   "metadata": {
    "collapsed": true
   },
   "outputs": [],
   "source": [
    "train_users = pd.read_csv('../data/train_users.csv', nrows=10000)\n",
    "test_users = pd.read_csv('../data/test_users.csv', nrows=10000)\n",
    "sessions = pd.read_csv('../data/sessions.csv', nrows=10000)"
   ]
  },
  {
   "cell_type": "code",
   "execution_count": 3,
   "metadata": {
    "collapsed": true
   },
   "outputs": [],
   "source": [
    "users = pd.concat([train_users, test_users], axis=0, ignore_index=True)\n",
    "users.drop('date_first_booking', axis=1, inplace=True)"
   ]
  },
  {
   "cell_type": "code",
   "execution_count": 4,
   "metadata": {
    "collapsed": false
   },
   "outputs": [],
   "source": [
    "users.loc[users['age']>1000, 'age'] = 2015-users.loc[users['age']>1000, 'age']\n",
    "users.loc[(users['age']>100) | (users['age']<18), 'age'] = -1\n",
    "\n",
    "users['age'].fillna(-1, inplace=True)\n",
    "\n",
    "bins = [-1, 20, 25, 30, 40, 50, 60, 75, 100]\n",
    "users['age_group'] = np.digitize(users['age'], bins, right=True)\n",
    "\n",
    "users['age_unknown'] = (users['age'] == -1).astype(int)"
   ]
  },
  {
   "cell_type": "code",
   "execution_count": 5,
   "metadata": {
    "collapsed": true
   },
   "outputs": [],
   "source": [
    "users['nans'] = np.sum([\n",
    "    (users['age'] == -1),\n",
    "    (users['gender'] == '-unknown-'),\n",
    "    (users['language'] == '-unknown-'),\n",
    "    (users['first_affiliate_tracked'] == 'untracked'),\n",
    "    (users['first_browser'] == '-unknown-')], axis=0)"
   ]
  },
  {
   "cell_type": "code",
   "execution_count": 6,
   "metadata": {
    "collapsed": true
   },
   "outputs": [],
   "source": [
    "users['date_account_created'] = pd.to_datetime(users['date_account_created'], errors='ignore')\n",
    "users['date_first_active'] = pd.to_datetime(users['timestamp_first_active'], format='%Y%m%d%H%M%S')\n",
    "\n",
    "# Convert to DatetimeIndex\n",
    "date_account_created = pd.DatetimeIndex(users['date_account_created'])\n",
    "date_first_active = pd.DatetimeIndex(users['date_first_active'])\n",
    "\n",
    "# Split dates into day, week, month, year\n",
    "users['day_account_created'] = date_account_created.day\n",
    "users['weekday_account_created'] = date_account_created.weekday\n",
    "users['week_account_created'] = date_account_created.week\n",
    "users['month_account_created'] = date_account_created.month\n",
    "users['year_account_created'] = date_account_created.year\n",
    "users['day_first_active'] = date_first_active.day\n",
    "users['weekday_first_active'] = date_first_active.weekday\n",
    "users['week_first_active'] = date_first_active.week\n",
    "users['month_first_active'] = date_first_active.month\n",
    "users['year_first_active'] = date_first_active.year\n",
    "\n",
    "users['time_lag'] = date_account_created.values - date_first_active.values"
   ]
  },
  {
   "cell_type": "code",
   "execution_count": 7,
   "metadata": {
    "collapsed": false
   },
   "outputs": [],
   "source": [
    "# Drop columns\n",
    "drop_list = [\n",
    "    'date_account_created',\n",
    "    'date_first_active',\n",
    "    'timestamp_first_active'\n",
    "]\n",
    "\n",
    "users.drop(drop_list, axis=1, inplace=True)"
   ]
  },
  {
   "cell_type": "code",
   "execution_count": 8,
   "metadata": {
    "collapsed": true
   },
   "outputs": [],
   "source": [
    "sessions.rename(columns = {'user_id': 'id'}, inplace=True)\n",
    "\n",
    "sessions_data = sessions.groupby(['id', 'action'])['secs_elapsed'].agg(len).unstack()\n",
    "sessions_data.append(sessions.groupby(['id', 'action_type'])['secs_elapsed'].agg(len).unstack())\n",
    "sessions_data.append(sessions.groupby(['id', 'device_type'])['secs_elapsed'].agg(len).unstack())\n",
    "sessions_data.append(sessions.groupby(['id', 'action_detail'])['secs_elapsed'].agg(len).unstack())\n",
    "\n",
    "sessions_data.columns = sessions_data.columns.map(lambda x: str(x) + '_count')\n",
    "sessions_data['most_used_device'] = sessions.groupby('id')['device_type'].max()"
   ]
  },
  {
   "cell_type": "code",
   "execution_count": 9,
   "metadata": {
    "collapsed": false
   },
   "outputs": [],
   "source": [
    "users = users.join(sessions_data, on='id')"
   ]
  },
  {
   "cell_type": "code",
   "execution_count": 10,
   "metadata": {
    "collapsed": true
   },
   "outputs": [],
   "source": [
    "secs_elapsed = sessions.groupby('id')['secs_elapsed']\n",
    "\n",
    "secs_elapsed = secs_elapsed.agg(\n",
    "    {\n",
    "        'secs_elapsed_sum': np.sum,\n",
    "        'secs_elapsed_mean': np.mean,\n",
    "        'secs_elapsed_min': np.min,\n",
    "        'secs_elapsed_max': np.max,\n",
    "        'secs_elapsed_median': np.median,\n",
    "        'secs_elapsed_std': np.std,\n",
    "        'secs_elapsed_var': np.var,\n",
    "        'day_pauses': lambda x: (x > 86400).sum(),\n",
    "        'long_pauses': lambda x: (x > 300000).sum(),\n",
    "        'short_pauses': lambda x: (x < 3600).sum(),\n",
    "        'session_length' : np.size\n",
    "    }\n",
    ")"
   ]
  },
  {
   "cell_type": "code",
   "execution_count": 11,
   "metadata": {
    "collapsed": false
   },
   "outputs": [],
   "source": [
    "users = users.join(secs_elapsed, on='id')"
   ]
  },
  {
   "cell_type": "code",
   "execution_count": 12,
   "metadata": {
    "collapsed": false
   },
   "outputs": [],
   "source": [
    "# Encode categorical features\n",
    "categorical_features = [\n",
    "    'gender', 'signup_method', 'signup_flow', 'language',\n",
    "    'affiliate_channel', 'affiliate_provider', 'first_affiliate_tracked',\n",
    "    'signup_app', 'first_device_type', 'first_browser', 'most_used_device'\n",
    "]\n",
    "\n",
    "users = one_hot_encoding(users, categorical_features)"
   ]
  },
  {
   "cell_type": "code",
   "execution_count": 15,
   "metadata": {
    "collapsed": false
   },
   "outputs": [
    {
     "name": "stdout",
     "output_type": "stream",
     "text": [
      "<class 'pandas.core.frame.DataFrame'>\n",
      "Int64Index: 162096 entries, 0 to 162095\n",
      "Columns: 371 entries, age to first_browser_wOSBrowser\n",
      "dtypes: float64(355), int32(10), int64(3), object(2), timedelta64[ns](1)\n",
      "memory usage: 453.9+ MB\n"
     ]
    }
   ],
   "source": [
    "users.info()"
   ]
  },
  {
   "cell_type": "markdown",
   "metadata": {},
   "source": [
    "Pipeline with selectKbest"
   ]
  },
  {
   "cell_type": "markdown",
   "metadata": {},
   "source": [
    "Age same people country"
   ]
  }
 ],
 "metadata": {
  "kernelspec": {
   "display_name": "Python 3",
   "language": "python",
   "name": "python3"
  },
  "language_info": {
   "codemirror_mode": {
    "name": "ipython",
    "version": 3
   },
   "file_extension": ".py",
   "mimetype": "text/x-python",
   "name": "python",
   "nbconvert_exporter": "python",
   "pygments_lexer": "ipython3",
   "version": "3.4.3"
  }
 },
 "nbformat": 4,
 "nbformat_minor": 0
}
