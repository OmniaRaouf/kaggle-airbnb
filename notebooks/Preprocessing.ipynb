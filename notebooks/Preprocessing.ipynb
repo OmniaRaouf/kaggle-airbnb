{
 "cells": [
  {
   "cell_type": "code",
   "execution_count": null,
   "metadata": {
    "collapsed": true
   },
   "outputs": [],
   "source": [
    "import sys\n",
    "import numpy as np\n",
    "import pandas as pd\n",
    "\n",
    "sys.path.append('..')"
   ]
  },
  {
   "cell_type": "code",
   "execution_count": null,
   "metadata": {
    "collapsed": true
   },
   "outputs": [],
   "source": [
    "from utils.data_loading import load_users_data, load_sessions_data\n",
    "\n",
    "train_users, test_users = load_users_data()\n",
    "sessions = load_sessions_data()\n",
    "sessions.replace('-unknown-', np.nan, inplace=True)"
   ]
  },
  {
   "cell_type": "code",
   "execution_count": null,
   "metadata": {
    "collapsed": true
   },
   "outputs": [],
   "source": [
    "users = pd.concat((train_users, test_users), axis=0, ignore_index=True)\n",
    "users = users.drop('date_first_booking', axis=1)"
   ]
  },
  {
   "cell_type": "code",
   "execution_count": null,
   "metadata": {
    "collapsed": true
   },
   "outputs": [],
   "source": [
    "users['gender'].replace('-unknown-', np.nan, inplace=True)\n",
    "users['language'].replace('-unknown-', np.nan, inplace=True)"
   ]
  },
  {
   "cell_type": "code",
   "execution_count": null,
   "metadata": {
    "collapsed": true
   },
   "outputs": [],
   "source": [
    "users.loc[users['age'] > 100, 'age'] = np.nan\n",
    "users.loc[users['age'] < 14, 'age'] = np.nan"
   ]
  },
  {
   "cell_type": "code",
   "execution_count": null,
   "metadata": {
    "collapsed": true
   },
   "outputs": [],
   "source": [
    "categorical_features = [\n",
    "    'affiliate_channel',\n",
    "    'affiliate_provider',\n",
    "    'country_destination',\n",
    "    'first_affiliate_tracked',\n",
    "    'first_browser',\n",
    "    'first_device_type',\n",
    "    'gender',\n",
    "    'language',\n",
    "    'signup_app',\n",
    "    'signup_method'\n",
    "]\n",
    "\n",
    "for categorical_feature in categorical_features:\n",
    "    users[categorical_feature] = users[categorical_feature].astype('category')"
   ]
  },
  {
   "cell_type": "code",
   "execution_count": null,
   "metadata": {
    "collapsed": false
   },
   "outputs": [],
   "source": [
    "users['date_account_created'] = pd.to_datetime(users['date_account_created'])\n",
    "users['date_first_active'] = pd.to_datetime(users['timestamp_first_active'], format='%Y%m%d%H%M%S')"
   ]
  },
  {
   "cell_type": "code",
   "execution_count": null,
   "metadata": {
    "collapsed": true
   },
   "outputs": [],
   "source": [
    "weekdays = []\n",
    "for date in users.date_account_created:\n",
    "    weekdays.append(date.weekday())\n",
    "users['weekday_account_created'] = pd.Series(weekdays)\n",
    "\n",
    "weekdays = []\n",
    "for date in users.date_account_created:\n",
    "    weekdays.append(date.weekday())\n",
    "users['weekday_first_active'] = pd.Series(weekdays)\n",
    "\n",
    "users['year_account_created'] = pd.DatetimeIndex(users['date_account_created']).year\n",
    "users['month_account_created'] = pd.DatetimeIndex(users['date_account_created']).month\n",
    "users['day_account_created'] = pd.DatetimeIndex(users['date_account_created']).day\n",
    "\n",
    "users['year_first_active'] = pd.DatetimeIndex(users['timestamp_first_active']).year\n",
    "users['month_first_active'] = pd.DatetimeIndex(users['timestamp_first_active']).month\n",
    "users['day_first_active'] = pd.DatetimeIndex(users['timestamp_first_active']).day"
   ]
  },
  {
   "cell_type": "code",
   "execution_count": null,
   "metadata": {
    "collapsed": true
   },
   "outputs": [],
   "source": [
    "sessions_lengths = sessions['user_id'].value_counts()"
   ]
  },
  {
   "cell_type": "code",
   "execution_count": null,
   "metadata": {
    "collapsed": false
   },
   "outputs": [],
   "source": [
    "# for user, session_length in sessions_lengths.iteritems():\n",
    "#     users.loc[users['id'] == user, 'session_length'] = int(session_length)"
   ]
  },
  {
   "cell_type": "code",
   "execution_count": null,
   "metadata": {
    "collapsed": false
   },
   "outputs": [],
   "source": [
    "n = 5\n",
    "c = 0\n",
    "for user in sessions['user_id'].unique():\n",
    "    user_session = sessions.loc[sessions['user_id'] == user]\n",
    "\n",
    "    users.loc[users['id'] == user, 'session_length'] = int(len(user_session))\n",
    "\n",
    "    # Count numer of time repeating each actions\n",
    "    action_type = user_session['action_type'].value_counts()\n",
    "    for i in range(min(n, len(action_type.index))):\n",
    "        users.loc[users['id'] == user, action_type.index[i] + '_count'] = action_type.values[i]\n",
    "    \n",
    "    # Count numer of time repeating each actions\n",
    "    action = user_session['action'].value_counts()\n",
    "    for i in range(min(n, len(action.index))):\n",
    "        users.loc[users['id'] == user, action.index[i] + '_count'] = action.values[i]\n",
    "\n",
    "    # Count numer of time repeating each actions\n",
    "    action_detail = user_session['action_detail'].value_counts()\n",
    "    for i in range(min(n, len(action_detail.index))):\n",
    "        users.loc[users['id'] == user, action_detail.index[i] + '_count'] = action_detail.values[i]\n",
    "\n",
    "    if user_session['device_type'].value_counts().sum() is not 0:\n",
    "        users.loc[users['id'] == user, 'most_used_device'] = user_session['device_type'].value_counts().index[0]\n",
    "\n",
    "    if c % 1000 == 0:                                                                                            \n",
    "        print c\n",
    "    c = c + 1                                                                                                       "
   ]
  },
  {
   "cell_type": "code",
   "execution_count": null,
   "metadata": {
    "collapsed": true
   },
   "outputs": [],
   "source": [
    "users.to_csv('preprocessed.csv')"
   ]
  }
 ],
 "metadata": {
  "kernelspec": {
   "display_name": "Python 2",
   "language": "python",
   "name": "python2"
  },
  "language_info": {
   "codemirror_mode": {
    "name": "ipython",
    "version": 2
   },
   "file_extension": ".py",
   "mimetype": "text/x-python",
   "name": "python",
   "nbconvert_exporter": "python",
   "pygments_lexer": "ipython2",
   "version": "2.7.6"
  }
 },
 "nbformat": 4,
 "nbformat_minor": 0
}
