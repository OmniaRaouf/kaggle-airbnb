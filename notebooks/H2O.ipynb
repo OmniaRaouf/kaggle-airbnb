{
 "cells": [
  {
   "cell_type": "code",
   "execution_count": 1,
   "metadata": {
    "collapsed": false
   },
   "outputs": [],
   "source": [
    "import h2o\n",
    "import pandas as pd\n",
    "import numpy as np"
   ]
  },
  {
   "cell_type": "code",
   "execution_count": 37,
   "metadata": {
    "collapsed": false
   },
   "outputs": [],
   "source": [
    "# from sklearn.preprocessing import LabelEncoder\n",
    "# #Loading data\n",
    "# df_train = pd.read_csv('../data/raw/train_users.csv')\n",
    "# df_test = pd.read_csv('../data/raw/test_users.csv')\n",
    "# labels = df_train['country_destination'].values\n",
    "# df_train = df_train.drop(['country_destination'], axis=1)\n",
    "# id_test = df_test['id']\n",
    "# piv_train = df_train.shape[0]\n",
    "\n",
    "# #Creating a DataFrame with train+test data\n",
    "# df_all = pd.concat((df_train, df_test), axis=0, ignore_index=True)\n",
    "# #Removing id and date_first_booking\n",
    "# df_all = df_all.drop(['id', 'date_first_booking'], axis=1)\n",
    "# #Filling nan values\n",
    "# df_all.loc[df_all.age > 500, 'age'] = 2015 - df_all.age\n",
    "# df_all = df_all.fillna(-1)\n",
    "\n",
    "\n",
    "# #####Feature engineering#######\n",
    "# #date_account_created\n",
    "# dac = np.vstack(df_all.date_account_created.astype(str).apply(\n",
    "# lambda x: list(map(int, x.split('-')))).values)\n",
    "# df_all['dac_year'] = dac[:,0]\n",
    "# df_all['dac_month'] = dac[:,1]\n",
    "# df_all['dac_day'] = dac[:,2]\n",
    "# df_all = df_all.drop(['date_account_created'], axis=1)\n",
    "\n",
    "# #timestamp_first_active\n",
    "# tfa = np.vstack(df_all.timestamp_first_active.astype(str).apply(\n",
    "# lambda x: list(map(int, [x[:4],x[4:6],x[6:8],x[8:10],x[10:12],x[12:14]]))).values)\n",
    "# df_all['tfa_year'] = tfa[:,0]\n",
    "# df_all['tfa_month'] = tfa[:,1]\n",
    "# df_all['tfa_day'] = tfa[:,2]\n",
    "# df_all = df_all.drop(['timestamp_first_active'], axis=1)\n",
    "\n",
    "# #Age\n",
    "# av = df_all.age.values\n",
    "# df_all['age'] = np.where(np.logical_or(av<14, av>100), -1, av)\n",
    "\n",
    "# #One-hot-encoding features\n",
    "# ohe_feats = ['gender', 'signup_method', 'signup_flow', 'language',\n",
    "# 'affiliate_channel', 'affiliate_provider', 'first_affiliate_tracked',\n",
    "# 'signup_app', 'first_device_type', 'first_browser']\n",
    "# for f in ohe_feats:\n",
    "#     df_all_dummy = pd.get_dummies(df_all[f], prefix=f)\n",
    "#     df_all = df_all.drop([f], axis=1)\n",
    "#     df_all = pd.concat((df_all, df_all_dummy), axis=1)\n",
    "\n",
    "# #Splitting train and test\n",
    "# vals = df_all.values\n",
    "# X = vals[:piv_train]\n",
    "# le = LabelEncoder()\n",
    "# y = labels\n",
    "# X_test = vals[piv_train:]\n",
    "\n",
    "# X = pd.DataFrame(X)\n",
    "# X['y'] = pd.DataFrame(y)\n",
    "\n",
    "# X.to_csv('t.csv')\n",
    "\n",
    "# X_test = pd.DataFrame(X_test)\n",
    "# X_test['id'] = pd.DataFrame(id_test)\n",
    "# X_test.to_csv('t2.csv')"
   ]
  },
  {
   "cell_type": "code",
   "execution_count": 2,
   "metadata": {
    "collapsed": false
   },
   "outputs": [
    {
     "name": "stdout",
     "output_type": "stream",
     "text": [
      "\n",
      "\n",
      "No instance found at ip and port: localhost:54321. Trying to start local jar...\n",
      "\n",
      "\n",
      "JVM stdout: /tmp/tmpUJcSmY/h2o_david_started_from_python.out\n",
      "JVM stderr: /tmp/tmplSzycs/h2o_david_started_from_python.err\n",
      "Using ice_root: /tmp/tmp_temhx\n",
      "\n",
      "\n",
      "Java Version: java version \"1.7.0_91\"\n",
      "OpenJDK Runtime Environment (IcedTea 2.6.3) (7u91-2.6.3-0ubuntu0.14.04.1)\n",
      "OpenJDK 64-Bit Server VM (build 24.91-b01, mixed mode)\n",
      "\n",
      "\n",
      "Starting H2O JVM and connecting: ............ Connection successful!\n"
     ]
    },
    {
     "data": {
      "text/html": [
       "<div style=\"overflow:auto\"><table style=\"width:50%\"><tr><td>H2O cluster uptime: </td>\n",
       "<td>1 seconds 345 milliseconds </td></tr>\n",
       "<tr><td>H2O cluster version: </td>\n",
       "<td>3.6.0.3</td></tr>\n",
       "<tr><td>H2O cluster name: </td>\n",
       "<td>H2O_started_from_python</td></tr>\n",
       "<tr><td>H2O cluster total nodes: </td>\n",
       "<td>1</td></tr>\n",
       "<tr><td>H2O cluster total memory: </td>\n",
       "<td>1.72 GB</td></tr>\n",
       "<tr><td>H2O cluster total cores: </td>\n",
       "<td>4</td></tr>\n",
       "<tr><td>H2O cluster allowed cores: </td>\n",
       "<td>4</td></tr>\n",
       "<tr><td>H2O cluster healthy: </td>\n",
       "<td>True</td></tr>\n",
       "<tr><td>H2O Connection ip: </td>\n",
       "<td>127.0.0.1</td></tr>\n",
       "<tr><td>H2O Connection port: </td>\n",
       "<td>54321</td></tr></table></div>"
      ],
      "text/plain": [
       "--------------------------  --------------------------\n",
       "H2O cluster uptime:         1 seconds 345 milliseconds\n",
       "H2O cluster version:        3.6.0.3\n",
       "H2O cluster name:           H2O_started_from_python\n",
       "H2O cluster total nodes:    1\n",
       "H2O cluster total memory:   1.72 GB\n",
       "H2O cluster total cores:    4\n",
       "H2O cluster allowed cores:  4\n",
       "H2O cluster healthy:        True\n",
       "H2O Connection ip:          127.0.0.1\n",
       "H2O Connection port:        54321\n",
       "--------------------------  --------------------------"
      ]
     },
     "metadata": {},
     "output_type": "display_data"
    }
   ],
   "source": [
    "h2o.init()\n",
    "h2o.remove_all() "
   ]
  },
  {
   "cell_type": "code",
   "execution_count": null,
   "metadata": {
    "collapsed": false
   },
   "outputs": [],
   "source": [
    "df = h2o.import_file(\"../data/raw/train_users.csv\")"
   ]
  },
  {
   "cell_type": "code",
   "execution_count": null,
   "metadata": {
    "collapsed": true
   },
   "outputs": [],
   "source": [
    "df = df.drop('id')"
   ]
  },
  {
   "cell_type": "code",
   "execution_count": 40,
   "metadata": {
    "collapsed": false
   },
   "outputs": [
    {
     "name": "stdout",
     "output_type": "stream",
     "text": [
      "\n",
      "Parse Progress: [##################################################] 100%\n"
     ]
    }
   ],
   "source": [
    "df = h2o.import_file(\"../data/raw/train_users.csv\")"
   ]
  },
  {
   "cell_type": "code",
   "execution_count": 45,
   "metadata": {
    "collapsed": true
   },
   "outputs": [],
   "source": [
    "X = df.col_names[:-1]\n",
    "del X[2]\n",
    "\n",
    "y = df.col_names[-1]"
   ]
  },
  {
   "cell_type": "code",
   "execution_count": null,
   "metadata": {
    "collapsed": false
   },
   "outputs": [],
   "source": [
    "# from h2o.grid.grid_search import H2OGridSearch\n",
    "\n",
    "# ntrees_opt = 1\n",
    "# max_depth_opt = [2]\n",
    "# learn_rate_opt = [0.1,0.2]\n",
    "# hyper_parameters = {\"ntrees\": ntrees_opt, \"max_depth\":max_depth_opt, \"learn_rate\":learn_rate_opt, \"distribution\":\"multinomial\"}\n",
    "\n",
    "# gs = H2OGridSearch(H2OGradientBoostingEstimator, hyper_params=hyper_parameters, )\n",
    "\n",
    "# gs.train(X, y, training_frame=df)\n",
    "# print \"R2:\", dl.r2()"
   ]
  },
  {
   "cell_type": "markdown",
   "metadata": {},
   "source": [
    "### Deep Learning Model"
   ]
  },
  {
   "cell_type": "code",
   "execution_count": 46,
   "metadata": {
    "collapsed": false
   },
   "outputs": [],
   "source": [
    "from h2o.estimators.gbm import H2OGradientBoostingEstimator\n",
    "\n",
    "dl = H2OGradientBoostingEstimator(ntrees=43,\n",
    "                                  max_depth=6, \n",
    "                                  distribution='multinomial',\n",
    "                                  stopping_metric=\"logloss\",\n",
    "                                  learn_rate=0.25,\n",
    "                                  sample_rate=0.6,\n",
    "                                  balance_classes=True, \n",
    "                                  nfolds=0)"
   ]
  },
  {
   "cell_type": "code",
   "execution_count": 47,
   "metadata": {
    "collapsed": false
   },
   "outputs": [
    {
     "name": "stdout",
     "output_type": "stream",
     "text": [
      "\n",
      "gbm Model Build Progress: [##################################################] 100%\n"
     ]
    }
   ],
   "source": [
    "dl.train(X, y, training_frame=df)"
   ]
  },
  {
   "cell_type": "code",
   "execution_count": 48,
   "metadata": {
    "collapsed": false
   },
   "outputs": [
    {
     "name": "stdout",
     "output_type": "stream",
     "text": [
      "R2: 0.946753982205\n"
     ]
    }
   ],
   "source": [
    "print \"R2:\", dl.r2()"
   ]
  },
  {
   "cell_type": "markdown",
   "metadata": {},
   "source": [
    "The best model:\n",
    "\n",
    "dl = H2OGradientBoostingEstimator(ntrees=43,\n",
    "                                  max_depth=6, \n",
    "                                  distribution='multinomial',\n",
    "                                  stopping_metric=\"logloss\",\n",
    "                                  learn_rate=0.25,\n",
    "                                  sample_rate=0.6,\n",
    "                                  balance_classes=True, \n",
    "                                  nfolds=0)"
   ]
  },
  {
   "cell_type": "markdown",
   "metadata": {},
   "source": [
    "### Predictions"
   ]
  },
  {
   "cell_type": "code",
   "execution_count": 64,
   "metadata": {
    "collapsed": false
   },
   "outputs": [
    {
     "name": "stdout",
     "output_type": "stream",
     "text": [
      "\n",
      "Parse Progress: [##################################################] 100%\n"
     ]
    }
   ],
   "source": [
    "test = h2o.import_file(\"../data/raw/test_users.csv\")"
   ]
  },
  {
   "cell_type": "code",
   "execution_count": 71,
   "metadata": {
    "collapsed": false
   },
   "outputs": [],
   "source": [
    "pred = dl.predict(test.drop('id'))"
   ]
  },
  {
   "cell_type": "markdown",
   "metadata": {},
   "source": [
    "### Make CSV for submission"
   ]
  },
  {
   "cell_type": "code",
   "execution_count": 72,
   "metadata": {
    "collapsed": false
   },
   "outputs": [],
   "source": [
    "p_df = pred.as_data_frame()\n",
    "p_df = pd.DataFrame(p_df)\n",
    "p_df = p_df.transpose()\n",
    "p_df.columns = p_df.iloc[0]\n",
    "p_df = p_df.reindex(p_df.index.drop(0))\n",
    "p_df.drop('predict', axis=1, inplace=True)"
   ]
  },
  {
   "cell_type": "code",
   "execution_count": 73,
   "metadata": {
    "collapsed": true
   },
   "outputs": [],
   "source": [
    "ids = pd.DataFrame(test.as_data_frame())\n",
    "ids = ids.transpose()\n",
    "ids.columns = ids.iloc[0]\n",
    "ids = ids.reindex(ids.index.drop(0))"
   ]
  },
  {
   "cell_type": "code",
   "execution_count": 75,
   "metadata": {
    "collapsed": false
   },
   "outputs": [],
   "source": [
    "A = []\n",
    "for item in xrange(p_df.shape[0]):\n",
    "    s = p_df.iloc[item]\n",
    "    s = s.astype(float)\n",
    "    s = s.sort_values(ascending=False)\n",
    "    for i in xrange(5):\n",
    "        user_id = ids.iloc[item]['id']\n",
    "        dest = list(s.index[0:5])[i]\n",
    "        A.append([user_id, dest])"
   ]
  },
  {
   "cell_type": "code",
   "execution_count": 76,
   "metadata": {
    "collapsed": false
   },
   "outputs": [],
   "source": [
    "sub = pd.DataFrame(A, columns = ['id', 'country'])"
   ]
  },
  {
   "cell_type": "markdown",
   "metadata": {},
   "source": [
    "Write CSV file:"
   ]
  },
  {
   "cell_type": "code",
   "execution_count": 77,
   "metadata": {
    "collapsed": false
   },
   "outputs": [],
   "source": [
    "sub.to_csv('../data/submissions/sub_h2o.csv',index=False)"
   ]
  },
  {
   "cell_type": "code",
   "execution_count": null,
   "metadata": {
    "collapsed": false
   },
   "outputs": [],
   "source": [
    "h2o.shutdown()"
   ]
  }
 ],
 "metadata": {
  "kernelspec": {
   "display_name": "Python 2",
   "language": "python",
   "name": "python2"
  },
  "language_info": {
   "codemirror_mode": {
    "name": "ipython",
    "version": 2
   },
   "file_extension": ".py",
   "mimetype": "text/x-python",
   "name": "python",
   "nbconvert_exporter": "python",
   "pygments_lexer": "ipython2",
   "version": "2.7.6"
  }
 },
 "nbformat": 4,
 "nbformat_minor": 0
}
