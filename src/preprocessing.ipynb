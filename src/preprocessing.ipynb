{
 "cells": [
  {
   "cell_type": "code",
   "execution_count": 67,
   "metadata": {
    "collapsed": true
   },
   "outputs": [],
   "source": [
    "import numpy as np\n",
    "import pandas as pd\n",
    "import datetime\n",
    "\n",
    "from utils.preprocessing import one_hot_encoding"
   ]
  },
  {
   "cell_type": "code",
   "execution_count": 108,
   "metadata": {
    "collapsed": false
   },
   "outputs": [],
   "source": [
    "path = '../data/raw/'\n",
    "train_users = pd.read_csv(path + 'train_users.csv', nrows=100000)\n",
    "test_users = pd.read_csv(path + 'test_users.csv', nrows=100000)\n",
    "sessions = pd.read_csv(path + 'sessions.csv', nrows=40000)"
   ]
  },
  {
   "cell_type": "code",
   "execution_count": 99,
   "metadata": {
    "collapsed": true
   },
   "outputs": [],
   "source": [
    "# Join users\n",
    "users = pd.concat((train_users, test_users), axis=0, ignore_index=True)"
   ]
  },
  {
   "cell_type": "code",
   "execution_count": 100,
   "metadata": {
    "collapsed": true
   },
   "outputs": [],
   "source": [
    "# Drop useless column\n",
    "users = users.drop('date_first_booking', axis=1)"
   ]
  },
  {
   "cell_type": "code",
   "execution_count": 101,
   "metadata": {
    "collapsed": true
   },
   "outputs": [],
   "source": [
    "# Replace NaNs\n",
    "users['gender'].replace('-unknown-', np.nan, inplace=True)\n",
    "users['language'].replace('-unknown-', np.nan, inplace=True)\n",
    "sessions.replace('-unknown-', np.nan, inplace=True)"
   ]
  },
  {
   "cell_type": "code",
   "execution_count": 102,
   "metadata": {
    "collapsed": true
   },
   "outputs": [],
   "source": [
    "# Remove weird age values\n",
    "users.loc[users['age'] > 100, 'age'] = np.nan\n",
    "users.loc[users['age'] < 14, 'age'] = np.nan"
   ]
  },
  {
   "cell_type": "code",
   "execution_count": 103,
   "metadata": {
    "collapsed": true
   },
   "outputs": [],
   "source": [
    "# List categorical features\n",
    "categorical_features = [\n",
    "    'affiliate_channel',\n",
    "    'affiliate_provider',\n",
    "    'country_destination',\n",
    "    'first_affiliate_tracked',\n",
    "    'first_browser',\n",
    "    'first_device_type',\n",
    "    'gender',\n",
    "    'language',\n",
    "    'signup_app',\n",
    "    'signup_method'\n",
    "]\n",
    "\n",
    "# Change categorical features\n",
    "for categorical_feature in categorical_features:\n",
    "    users[categorical_feature] = users[categorical_feature].astype('category')"
   ]
  },
  {
   "cell_type": "code",
   "execution_count": 104,
   "metadata": {
    "collapsed": true
   },
   "outputs": [],
   "source": [
    "# Change type to date\n",
    "users['date_account_created'] = pd.to_datetime(users['date_account_created'])\n",
    "users['date_first_active'] = pd.to_datetime(users['timestamp_first_active'],\n",
    "                                            format='%Y%m%d%H%M%S')"
   ]
  },
  {
   "cell_type": "code",
   "execution_count": 105,
   "metadata": {
    "collapsed": false
   },
   "outputs": [],
   "source": [
    "def get_weekday(date):\n",
    "    return date.weekday()\n",
    "\n",
    "users['weekday_account_created'] = users['date_account_created'].apply(get_weekday)\n",
    "users['weekday_first_active'] = users['date_first_active'].apply(get_weekday)"
   ]
  },
  {
   "cell_type": "code",
   "execution_count": 106,
   "metadata": {
    "collapsed": true
   },
   "outputs": [],
   "source": [
    "# Split dates into day, month, year\n",
    "year_account_created = pd.DatetimeIndex(users['date_account_created']).year\n",
    "users['year_account_created'] = year_account_created\n",
    "month_account_created = pd.DatetimeIndex(users['date_account_created']).month\n",
    "users['month_account_created'] = month_account_created\n",
    "day_account_created = pd.DatetimeIndex(users['date_account_created']).day\n",
    "users['day_account_created'] = day_account_created\n",
    "year_first_active = pd.DatetimeIndex(users['date_first_active']).year\n",
    "users['year_first_active'] = year_first_active\n",
    "month_first_active = pd.DatetimeIndex(users['date_first_active']).month\n",
    "users['month_first_active'] = month_first_active\n",
    "day_first_active = pd.DatetimeIndex(users['date_first_active']).day\n",
    "users['day_first_active'] = day_first_active"
   ]
  },
  {
   "cell_type": "code",
   "execution_count": 107,
   "metadata": {
    "collapsed": false
   },
   "outputs": [],
   "source": [
    "user_sessions = pd.DataFrame()\n",
    "\n",
    "for user in sessions['user_id'].unique():\n",
    "    \n",
    "    # Get the user session\n",
    "    user_session = sessions.loc[sessions['user_id'] == user]\n",
    "\n",
    "    # Length of the session\n",
    "    users.loc[users['id'] == user, 'session_length'] = int(len(user_session))\n",
    "    \n",
    "    action_type = user_session.groupby('action')\n",
    "    action_type_secs_elapsed = action_type.secs_elapsed.sum()\n",
    "    action_type_secs_elapsed.rename(lambda x: x + '_secs_elapsed', inplace=True)\n",
    "    action_type_secs_elapsed['id'] = user\n",
    "    \n",
    "    user_sessions = user_sessions.append(action_type_secs_elapsed)\n",
    "    \n",
    "    action_type = user_session.groupby('action_type')\n",
    "    action_type_secs_elapsed = action_type.secs_elapsed.sum()\n",
    "    action_type_secs_elapsed.rename(lambda x: x + '_secs_elapsed', inplace=True)\n",
    "    action_type_secs_elapsed['id'] = user\n",
    "    \n",
    "    user_sessions = user_sessions.append(action_type_secs_elapsed)\n",
    "    \n",
    "    action_type = user_session.groupby('action_detail')\n",
    "    action_type_secs_elapsed = action_type.secs_elapsed.sum()\n",
    "    action_type_secs_elapsed.rename(lambda x: x + '_secs_elapsed', inplace=True)\n",
    "    action_type_secs_elapsed['id'] = user\n",
    "    \n",
    "    user_sessions = user_sessions.append(action_type_secs_elapsed)\n",
    "    \n",
    "    action_type = user_session.groupby('device_type')\n",
    "    action_type_secs_elapsed = action_type.secs_elapsed.sum()\n",
    "    action_type_secs_elapsed.rename(lambda x: x + '_secs_elapsed', inplace=True)\n",
    "    action_type_secs_elapsed['id'] = user\n",
    "    \n",
    "    user_sessions = user_sessions.append(action_type_secs_elapsed)\n",
    "    \n",
    "    # Get the most used device\n",
    "    if user_session['device_type'].value_counts().sum() is not 0:\n",
    "        most_used_device = user_session['device_type'].value_counts().index[0]\n",
    "        users.loc[users['id'] == user, 'most_used_device'] = most_used_device\n",
    "\n",
    "user_sessions = user_sessions.groupby('id').sum()"
   ]
  },
  {
   "cell_type": "code",
   "execution_count": null,
   "metadata": {
    "collapsed": true
   },
   "outputs": [],
   "source": [
    "users = users.set_index('id')"
   ]
  },
  {
   "cell_type": "code",
   "execution_count": null,
   "metadata": {
    "collapsed": false
   },
   "outputs": [],
   "source": [
    "users = pd.concat([users, user_sessions], axis=1)"
   ]
  },
  {
   "cell_type": "code",
   "execution_count": null,
   "metadata": {
    "collapsed": false
   },
   "outputs": [],
   "source": [
    "# # The constant N it's used to limit the values we get from the session data.\n",
    "# N = 100\n",
    "\n",
    "# for user in sessions['user_id'].unique():\n",
    "#     # Get the user session\n",
    "#     user_session = sessions.loc[sessions['user_id'] == user]\n",
    "#     \n",
    "#     # Length of the session\n",
    "#     users.loc[users['id'] == user, 'session_length'] = int(len(user_session))\n",
    "# \n",
    "#     # Save the number of times the user repeated his N top action_types\n",
    "#     action_type = user_session['action_type'].value_counts()\n",
    "#     for i in range(min(N, len(action_type.index))):\n",
    "#         new_column = action_type.index[i] + '_count'\n",
    "#         users.loc[users['id'] == user, new_column] = action_type.values[i]\n",
    "#         print action_type.values[i]\n",
    "# \n",
    "#     # Count numer of times the user repeated his top N actions\n",
    "#     action = user_session['action'].value_counts()\n",
    "#     for i in range(min(N, len(action.index))):\n",
    "#         new_column = action.index[i] + '_count'\n",
    "#         users.loc[users['id'] == user, new_column] = action.values[i]\n",
    "# \n",
    "#     # The same with action detail\n",
    "#     action_detail = user_session['action_detail'].value_counts()\n",
    "#     for i in range(min(N, len(action_detail.index))):\n",
    "#         new_column = action_detail.index[i] + '_count'\n",
    "#         users.loc[users['id'] == user, new_column] = action_detail.values[i]\n",
    "# \n",
    "#     # Get the most used device\n",
    "#     if user_session['device_type'].value_counts().sum() is not 0:\n",
    "#         most_used_device = user_session['device_type'].value_counts().index[0]\n",
    "#         users.loc[users['id'] == user, 'most_used_device'] = most_used_device"
   ]
  },
  {
   "cell_type": "code",
   "execution_count": null,
   "metadata": {
    "collapsed": false
   },
   "outputs": [],
   "source": [
    "# phones = ['Opera Phone', 'Blackberry', 'Windows Phone', 'Android App Unknown Phone/Tablet']\n",
    "# desktop = ['Mac Desktop', 'Windows Desktop', 'Linux Desktop', 'Chromebook']\n",
    "# sessions.device_type.replace(phones, 'Mobile Phone').value_counts()"
   ]
  },
  {
   "cell_type": "code",
   "execution_count": null,
   "metadata": {
    "collapsed": true
   },
   "outputs": [],
   "source": [
    "# Get the count of general session information\n",
    "user_sessions = sessions.groupby('user_id')\n",
    "s = user_sessions.count()\n",
    "s.rename(columns=lambda x: x + '_count', inplace=True)\n",
    "users = pd.concat([users, s], axis=1)"
   ]
  },
  {
   "cell_type": "code",
   "execution_count": null,
   "metadata": {
    "collapsed": false
   },
   "outputs": [],
   "source": [
    "# Elapsed seconds sum\n",
    "secs_elapsed_sum = sessions.groupby('user_id')['secs_elapsed'].sum()\n",
    "secs_elapsed_sum.name = 'secs_elapsed_sum'\n",
    "users = pd.concat([users, secs_elapsed_sum], axis=1)\n",
    "\n",
    "# Elapsed seconds mean\n",
    "secs_elapsed_average = sessions.groupby('user_id')['secs_elapsed'].mean()\n",
    "secs_elapsed_average.name = 'secs_elapsed_average'\n",
    "users = pd.concat([users, secs_elapsed_average], axis=1)\n",
    "\n",
    "# Elapsed seconds min\n",
    "min_secs_elapsed = sessions.groupby('user_id')['secs_elapsed'].min()\n",
    "min_secs_elapsed.name = 'min_secs_elapsed'\n",
    "users = pd.concat([users, min_secs_elapsed], axis=1)\n",
    "\n",
    "# Elapsed seconds max\n",
    "max_secs_elapsed = sessions.groupby('user_id')['secs_elapsed'].max()\n",
    "max_secs_elapsed.name = 'max_secs_elapsed'\n",
    "users = pd.concat([users, max_secs_elapsed], axis=1)\n",
    "\n",
    "# Elapsed seconds first_quantile\n",
    "first_quantile = sessions.groupby('user_id')['secs_elapsed'].quantile(0.25)\n",
    "first_quantile.name = 'secs_elapsed_first_quantile'\n",
    "users = pd.concat([users, first_quantile], axis=1)\n",
    "\n",
    "# Elapsed seconds second_quantile\n",
    "second_quantile = sessions.groupby('user_id')['secs_elapsed'].quantile(0.5)\n",
    "second_quantile.name = 'secs_elapsed_second_quantile'\n",
    "users = pd.concat([users, second_quantile], axis=1)\n",
    "\n",
    "# Elapsed seconds third_quantile\n",
    "third_quantile = sessions.groupby('user_id')['secs_elapsed'].quantile(0.75)\n",
    "third_quantile.name = 'secs_elapsed_third_quantile'\n",
    "users = pd.concat([users, third_quantile], axis=1)\n",
    "\n",
    "# Elapsed seconds fourth_quantile\n",
    "fourth_quantile = sessions.groupby('user_id')['secs_elapsed'].quantile(0.9)\n",
    "fourth_quantile.name = 'secs_elapsed_fourth_quantile'\n",
    "users = pd.concat([users, fourth_quantile], axis=1)\n",
    "\n",
    "# Elapsed seconds median\n",
    "median = sessions.groupby('user_id')['secs_elapsed'].median()\n",
    "median.name = 'secs_elapsed_median'\n",
    "users = pd.concat([users, median], axis=1)\n",
    "\n",
    "# Elapsed seconds std\n",
    "std = sessions.groupby('user_id')['secs_elapsed'].std()\n",
    "std.name = 'secs_elapsed_std'\n",
    "users = pd.concat([users, std], axis=1)\n",
    "\n",
    "# Elapsed seconds var\n",
    "var = sessions.groupby('user_id')['secs_elapsed'].var()\n",
    "var.name = 'secs_elapsed_var'\n",
    "users = pd.concat([users, var], axis=1)\n",
    "\n",
    "# Elapsed seconds skew\n",
    "skew = sessions.groupby('user_id')['secs_elapsed'].skew()\n",
    "skew.name = 'secs_elapsed_skew'\n",
    "users = pd.concat([users, skew], axis=1)"
   ]
  },
  {
   "cell_type": "code",
   "execution_count": null,
   "metadata": {
    "collapsed": true
   },
   "outputs": [],
   "source": [
    "# Number of elapsed seconds greater than 1 day\n",
    "query = sessions['secs_elapsed'] > 86400\n",
    "day_pauses = sessions.loc[query].groupby('user_id').count()['secs_elapsed']\n",
    "day_pauses.name = 'day_pauses'\n",
    "users = pd.concat([users, day_pauses], axis=1)"
   ]
  },
  {
   "cell_type": "code",
   "execution_count": null,
   "metadata": {
    "collapsed": true
   },
   "outputs": [],
   "source": [
    "# Number of elapsed seconds lesser than 1 hour\n",
    "query = sessions['secs_elapsed'] < 3600\n",
    "short_sessions = sessions.loc[query].groupby('user_id').count()['secs_elapsed']\n",
    "short_sessions.name = 'short_sessions'\n",
    "users = pd.concat([users, short_sessions], axis=1)\n",
    "\n",
    "# Users not returning in a big time\n",
    "query = sessions['secs_elapsed'] > 300000\n",
    "long_sessions = sessions.loc[query].groupby('user_id').count()['secs_elapsed']\n",
    "long_sessions.name = 'long_sessions'\n",
    "users = pd.concat([users, long_sessions], axis=1)\n",
    "\n",
    "# First value\n",
    "first_secs_elapsed = sessions.groupby('user_id')['secs_elapsed'].first()\n",
    "first_secs_elapsed.name = 'first_secs_elapsed'\n",
    "users = pd.concat([users, first_secs_elapsed], axis=1)\n",
    "\n",
    "# Last value\n",
    "last_secs_elapsed = sessions.groupby('user_id')['secs_elapsed'].last()\n",
    "last_secs_elapsed.name = 'last_secs_elapsed'\n",
    "users = pd.concat([users, last_secs_elapsed], axis=1)"
   ]
  },
  {
   "cell_type": "code",
   "execution_count": null,
   "metadata": {
    "collapsed": true
   },
   "outputs": [],
   "source": [
    "train_users = train_users.set_index('id')\n",
    "test_users = test_users.set_index('id')\n",
    "\n",
    "processed_train_users = users.loc[train_users.index]\n",
    "processed_test_users = users.loc[test_users.index]\n",
    "processed_test_users.drop('country_destination', inplace=True, axis=1)\n",
    "\n",
    "path = '../data/processed/'\n",
    "processed_train_users.to_csv(path + 'train_users_without_encoding.csv')\n",
    "processed_test_users.to_csv(path + 'test_users_without_encoding.csv')"
   ]
  },
  {
   "cell_type": "code",
   "execution_count": null,
   "metadata": {
    "collapsed": false
   },
   "outputs": [],
   "source": [
    "drop_list = [\n",
    "    'date_account_created',\n",
    "    'date_first_active',\n",
    "    'timestamp_first_active'\n",
    "]\n",
    "\n",
    "# Drop columns\n",
    "users = users.drop(drop_list, axis=1)\n",
    "\n",
    "# Encode categorical features\n",
    "categorical_features = [\n",
    "    'gender', 'signup_method', 'signup_flow', 'language', 'affiliate_channel',\n",
    "    'affiliate_provider', 'first_affiliate_tracked', 'signup_app',\n",
    "    'first_device_type', 'first_browser', 'most_used_device'\n",
    "]\n",
    "\n",
    "users = one_hot_encoding(users, categorical_features)"
   ]
  },
  {
   "cell_type": "code",
   "execution_count": null,
   "metadata": {
    "collapsed": false
   },
   "outputs": [],
   "source": [
    "# from sklearn.preprocessing import StandardScaler\n",
    "\n",
    "# scaler = StandardScaler()\n",
    "\n",
    "# scaler.fit_transform(users)"
   ]
  },
  {
   "cell_type": "code",
   "execution_count": null,
   "metadata": {
    "collapsed": true
   },
   "outputs": [],
   "source": [
    "users.index.name = 'id'\n",
    "processed_train_users = users.loc[train_users.index]\n",
    "processed_test_users = users.loc[test_users.index]\n",
    "processed_test_users.drop('country_destination', inplace=True, axis=1)\n",
    "\n",
    "processed_train_users.to_csv(path + 'processed_train_users.csv')\n",
    "processed_test_users.to_csv(path + 'processed_test_users.csv')"
   ]
  }
 ],
 "metadata": {
  "kernelspec": {
   "display_name": "Python 2",
   "language": "python",
   "name": "python2"
  },
  "language_info": {
   "codemirror_mode": {
    "name": "ipython",
    "version": 2
   },
   "file_extension": ".py",
   "mimetype": "text/x-python",
   "name": "python",
   "nbconvert_exporter": "python",
   "pygments_lexer": "ipython2",
   "version": "2.7.6"
  }
 },
 "nbformat": 4,
 "nbformat_minor": 0
}
