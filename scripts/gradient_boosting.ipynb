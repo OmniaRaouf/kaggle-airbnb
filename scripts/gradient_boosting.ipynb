{
 "cells": [
  {
   "cell_type": "markdown",
   "metadata": {},
   "source": [
    "# Gradient Boosting Model"
   ]
  },
  {
   "cell_type": "code",
   "execution_count": 5,
   "metadata": {
    "collapsed": true
   },
   "outputs": [],
   "source": [
    "import pandas as pd\n",
    "import numpy as np\n",
    "import datetime\n",
    "from sklearn.preprocessing import LabelEncoder\n",
    "from sklearn.cross_validation import cross_val_score\n",
    "from xgboost.sklearn import XGBClassifier\n",
    "\n",
    "from utils.metrics import ndcg_scorer"
   ]
  },
  {
   "cell_type": "code",
   "execution_count": 6,
   "metadata": {
    "collapsed": true
   },
   "outputs": [],
   "source": [
    "def generate_submission(y_pred, test_users_ids, label_encoder):\n",
    "    \"\"\"Create a valid submission file given the predictions.\"\"\"\n",
    "    ids = []\n",
    "    cts = []\n",
    "    for i in range(len(test_users_ids)):\n",
    "        idx = test_users_ids[i]\n",
    "        ids += [idx] * 5\n",
    "        sorted_countries = np.argsort(y_pred[i])[::-1]\n",
    "        cts += label_encoder.inverse_transform(sorted_countries)[:5].tolist()\n",
    "\n",
    "    sub = pd.DataFrame(np.column_stack((ids, cts)), columns=['id', 'country'])\n",
    "    return sub"
   ]
  },
  {
   "cell_type": "code",
   "execution_count": 7,
   "metadata": {
    "collapsed": true
   },
   "outputs": [],
   "source": [
    "path = '../data/processed/'\n",
    "train_users = pd.read_csv(path + 'encoded_train_users.csv', nrows=10000)\n",
    "test_users = pd.read_csv(path + 'encoded_test_users.csv', nrows=10000)"
   ]
  },
  {
   "cell_type": "code",
   "execution_count": 8,
   "metadata": {
    "collapsed": true
   },
   "outputs": [],
   "source": [
    "y_train = train_users['country_destination']\n",
    "train_users.drop('country_destination', axis=1, inplace=True)\n",
    "train_users.drop('id', axis=1, inplace=True)\n",
    "train_users = train_users.fillna(-1)\n",
    "\n",
    "x_train = train_users.values\n",
    "\n",
    "test_users_ids = test_users['id']\n",
    "test_users.drop('id', axis=1, inplace=True)\n",
    "test_users = test_users.fillna(-1)\n",
    "\n",
    "x_test = test_users.values\n",
    "\n",
    "label_encoder = LabelEncoder()\n",
    "encoded_y_train = label_encoder.fit_transform(y_train)"
   ]
  },
  {
   "cell_type": "code",
   "execution_count": 11,
   "metadata": {
    "collapsed": true
   },
   "outputs": [],
   "source": [
    "clf = XGBClassifier(\n",
    "    max_depth=10,\n",
    "    learning_rate=0.18,\n",
    "    n_estimators=30,\n",
    "    gamma=0,\n",
    "    min_child_weight=1,\n",
    "    max_delta_step=0,\n",
    "    subsample=1,\n",
    "    colsample_bytree=1,\n",
    "    colsample_bylevel=1,\n",
    "    reg_alpha=0,\n",
    "    reg_lambda=1,\n",
    "    scale_pos_weight=1,\n",
    "    base_score=0.5,\n",
    "    missing=None,\n",
    "    silent=True,\n",
    "    nthread=-1,\n",
    "    seed=42\n",
    ")\n",
    "\n",
    "clf.fit(x_train, encoded_y_train)\n",
    "y_pred = clf.predict_proba(x_test)"
   ]
  },
  {
   "cell_type": "code",
   "execution_count": 12,
   "metadata": {
    "collapsed": false
   },
   "outputs": [
    {
     "name": "stdout",
     "output_type": "stream",
     "text": [
      "[CV] no parameters to be set .........................................\n",
      "[CV] ................ no parameters to be set, score=0.674606 -  24.4s\n",
      "[CV] no parameters to be set .........................................\n",
      "[CV] ................ no parameters to be set, score=0.473992 -  24.4s\n",
      "[CV] no parameters to be set .........................................\n",
      "[CV] ................ no parameters to be set, score=0.680919 -  27.8s\n",
      "[CV] no parameters to be set .........................................\n",
      "[CV] ................ no parameters to be set, score=0.635626 -  25.9s"
     ]
    },
    {
     "name": "stderr",
     "output_type": "stream",
     "text": [
      "[Parallel(n_jobs=1)]: Done   1 tasks       | elapsed:   24.4s\n",
      "[Parallel(n_jobs=1)]: Done   4 tasks       | elapsed:  1.7min\n"
     ]
    },
    {
     "name": "stdout",
     "output_type": "stream",
     "text": [
      "\n",
      "[CV] no parameters to be set .........................................\n",
      "[CV] ................ no parameters to be set, score=0.713322 -  27.1s\n",
      "Parameters: {'reg_alpha': 0, 'colsample_bytree': 1, 'silent': True, 'colsample_bylevel': 1, 'scale_pos_weight': 1, 'learning_rate': 0.18, 'missing': None, 'max_delta_step': 0, 'nthread': -1, 'base_score': 0.5, 'n_estimators': 30, 'subsample': 1, 'reg_lambda': 1, 'seed': 42, 'min_child_weight': 1, 'objective': 'multi:softprob', 'max_depth': 10, 'gamma': 0}\n",
      "Score: 0.635692883924\n"
     ]
    },
    {
     "name": "stderr",
     "output_type": "stream",
     "text": [
      "[Parallel(n_jobs=1)]: Done   5 out of   5 | elapsed:  2.2min finished\n"
     ]
    }
   ],
   "source": [
    "ndcg = cross_val_score(clf, x_train, encoded_y_train,\n",
    "                       verbose=10, cv=5, scoring=ndcg_scorer)\n",
    "\n",
    "print 'Parameters:', clf.get_params()\n",
    "print 'Score:', ndcg.mean()"
   ]
  },
  {
   "cell_type": "code",
   "execution_count": null,
   "metadata": {
    "collapsed": true
   },
   "outputs": [],
   "source": [
    "submission = generate_submission(y_pred, test_users_ids, label_encoder)\n",
    "\n",
    "date = datetime.datetime.now().strftime(\"%m-%d-%H:%M:%S\")\n",
    "name = __file__.split('.')[0] + '_' + str(date) + '.csv'\n",
    "submission.to_csv('../data/submissions/' + name, index=False)"
   ]
  }
 ],
 "metadata": {
  "kernelspec": {
   "display_name": "Python 2",
   "language": "python",
   "name": "python2"
  },
  "language_info": {
   "codemirror_mode": {
    "name": "ipython",
    "version": 2
   },
   "file_extension": ".py",
   "mimetype": "text/x-python",
   "name": "python",
   "nbconvert_exporter": "python",
   "pygments_lexer": "ipython2",
   "version": "2.7.6"
  }
 },
 "nbformat": 4,
 "nbformat_minor": 0
}
