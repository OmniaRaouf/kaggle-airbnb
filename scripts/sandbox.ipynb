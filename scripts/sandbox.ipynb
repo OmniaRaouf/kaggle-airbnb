{
 "cells": [
  {
   "cell_type": "code",
   "execution_count": 7,
   "metadata": {
    "collapsed": true
   },
   "outputs": [],
   "source": [
    "import pandas as pd\n",
    "from sklearn.preprocessing import LabelEncoder\n",
    "from sklearn.cross_validation import cross_val_score\n",
    "from sklearn.cross_validation import KFold\n",
    "\n",
    "from utils.metrics import ndcg_scorer"
   ]
  },
  {
   "cell_type": "code",
   "execution_count": 8,
   "metadata": {
    "collapsed": false
   },
   "outputs": [],
   "source": [
    "train_users = pd.read_csv('../data/processed/ohe_count_processed_train_users.csv', nrows=10)\n",
    "train_users.fillna(-1, inplace=True)\n",
    "y_train = train_users['country_destination']\n",
    "train_users.drop('country_destination', axis=1, inplace=True)\n",
    "train_users.drop('id', axis=1, inplace=True)\n",
    "x_train = train_users.values\n",
    "label_encoder = LabelEncoder()\n",
    "encoded_y_train = label_encoder.fit_transform(y_train)\n",
    "\n",
    "from sklearn.ensemble import RandomForestClassifier\n",
    "rf = RandomForestClassifier(random_state=41)\n",
    "clf = CustomOneVsOneClassifier(rf)"
   ]
  },
  {
   "cell_type": "code",
   "execution_count": 9,
   "metadata": {
    "collapsed": false
   },
   "outputs": [
    {
     "name": "stdout",
     "output_type": "stream",
     "text": [
      "Classes: 3 [0 1 2]\n"
     ]
    }
   ],
   "source": [
    "classes_ = np.unique(encoded_y_train)\n",
    "n_classes = classes_.shape[0]\n",
    "print 'Classes:', n_classes, classes_"
   ]
  },
  {
   "cell_type": "code",
   "execution_count": 11,
   "metadata": {
    "collapsed": false
   },
   "outputs": [],
   "source": [
    "# kf = KFold(len(x_train), n_folds=5, random_state=42)\n",
    "\n",
    "# score = cross_val_score(clf, x_train, encoded_y_train,\n",
    "#                         cv=kf, scoring=ndcg_scorer)"
   ]
  },
  {
   "cell_type": "code",
   "execution_count": 40,
   "metadata": {
    "collapsed": false
   },
   "outputs": [
    {
     "data": {
      "text/plain": [
       "array([[ 1.83333333,  1.06666667,  0.1       ],\n",
       "       [ 1.86666667,  1.        ,  0.13333333],\n",
       "       [ 0.56666667,  2.26666667,  0.16666667],\n",
       "       [-0.5       ,  1.        ,  2.5       ],\n",
       "       [-0.46666667,  2.2       ,  1.26666667],\n",
       "       [ 0.6       ,  2.33333333,  0.06666667],\n",
       "       [ 0.53333333,  2.3       ,  0.16666667],\n",
       "       [-0.5       ,  2.3       ,  1.2       ],\n",
       "       [ 0.5       ,  2.33333333,  0.16666667],\n",
       "       [ 0.5       ,  2.33333333,  0.16666667]])"
      ]
     },
     "execution_count": 40,
     "metadata": {},
     "output_type": "execute_result"
    }
   ],
   "source": [
    "clf.fit(x_train, encoded_y_train)\n",
    "clf.predict_proba(x_train)"
   ]
  },
  {
   "cell_type": "code",
   "execution_count": 39,
   "metadata": {
    "collapsed": false
   },
   "outputs": [],
   "source": [
    "from __future__ import division\n",
    "\n",
    "import numpy as np\n",
    "\n",
    "from sklearn.multiclass import OneVsOneClassifier\n",
    "from sklearn.multiclass import _fit_binary, check_is_fitted, is_regressor\n",
    "from sklearn.externals.joblib import Parallel, delayed\n",
    "from utils.unbalanced_dataset import SMOTE\n",
    "from utils.unbalanced_dataset import SMOTEENN\n",
    "\n",
    "def _predict_binary(estimator, X):\n",
    "    \"\"\"Make predictions using a single binary estimator.\"\"\"\n",
    "    if is_regressor(estimator):\n",
    "        return estimator.predict(X)\n",
    "    try:\n",
    "        score = np.ravel(estimator.decision_function(X))\n",
    "    except (AttributeError, NotImplementedError):\n",
    "        # probabilities of the positive class\n",
    "        score = estimator.predict_proba(X)[:, 1]\n",
    "    return score\n",
    "\n",
    "\n",
    "def _ovr_decision_function(predictions, confidences, n_classes):\n",
    "    n_samples = predictions.shape[0]\n",
    "    votes = np.zeros((n_samples, n_classes))\n",
    "    sum_of_confidences = np.zeros((n_samples, n_classes))\n",
    "\n",
    "    k = 0\n",
    "    for i in range(n_classes):\n",
    "        for j in range(i + 1, n_classes):\n",
    "            sum_of_confidences[:, i] -= confidences[:, k]\n",
    "            sum_of_confidences[:, j] += confidences[:, k]\n",
    "            votes[predictions[:, k] == 0, i] += 1\n",
    "            votes[predictions[:, k] == 1, j] += 1\n",
    "            k += 1\n",
    "            \n",
    "    max_confidences = sum_of_confidences.max()\n",
    "    min_confidences = sum_of_confidences.min()\n",
    "\n",
    "    if max_confidences == min_confidences:\n",
    "        return votes\n",
    "\n",
    "    # Scale the sum_of_confidences to (-0.5, 0.5) and add it with votes.\n",
    "    # The motivation is to use confidence levels as a way to break ties in\n",
    "    # the votes without switching any decision made based on a difference\n",
    "    # of 1 vote.\n",
    "    eps = np.finfo(sum_of_confidences.dtype).eps\n",
    "    max_abs_confidence = max(abs(max_confidences), abs(min_confidences))\n",
    "    scale = (0.5 - eps) / max_abs_confidence\n",
    "    return votes + sum_of_confidences * scale\n",
    "\n",
    "def _fit_ovo_binary(estimator, X, y, i, j, sampling=None, verbose=False):\n",
    "    \"\"\"Fit a single binary estimator (one-vs-one).\"\"\"\n",
    "    cond = np.logical_or(y == i, y == j)\n",
    "    y = y[cond]\n",
    "    y_binary = np.empty(y.shape, np.int)\n",
    "    y_binary[y == i] = 0\n",
    "    y_binary[y == j] = 1\n",
    "    ind = np.arange(X.shape[0])\n",
    "    X_values = X[ind[cond]]\n",
    "    y_values = y_binary\n",
    "\n",
    "    if sampling:\n",
    "        ones = np.count_nonzero(y_values == 1)\n",
    "        zeros = np.count_nonzero(y_values == 0)\n",
    "\n",
    "        if sampling == 'SMOTE':\n",
    "            ratio = abs(ones - zeros) / min(ones, zeros)\n",
    "            smote = SMOTE(ratio=ratio, verbose=verbose)\n",
    "\n",
    "        if sampling == 'SMOTEENN':\n",
    "            ratio = (abs(ones - zeros) / min(ones, zeros)) * 0.3\n",
    "            smote = SMOTEENN(ratio=ratio, verbose=verbose)\n",
    "\n",
    "        X_values, y_values = smote.fit_transform(X_values, y_values)\n",
    "\n",
    "    return _fit_binary(estimator, X_values, y_values, classes=[i, j])\n",
    "\n",
    "\n",
    "class CustomOneVsOneClassifier(OneVsOneClassifier):\n",
    "\n",
    "    def __init__(self, estimator, n_jobs=1, sampling=None, verbose=False):\n",
    "        self.estimator = estimator\n",
    "        self.n_jobs = n_jobs\n",
    "        self.sampling = sampling\n",
    "        self.verbose = verbose\n",
    "\n",
    "    def predict_proba(self, X):\n",
    "        return self.decision_function(X)\n",
    "\n",
    "    def fit(self, X, y):\n",
    "        y = np.asarray(y)\n",
    "\n",
    "        self.classes_ = np.unique(y)\n",
    "        n_classes = self.classes_.shape[0]\n",
    "\n",
    "        self.estimators_ = Parallel(n_jobs=self.n_jobs)(\n",
    "            delayed(_fit_ovo_binary)(\n",
    "                self.estimator, X, y, self.classes_[i], self.classes_[j],\n",
    "                sampling=self.sampling, verbose=self.verbose\n",
    "            ) for i in range(n_classes) for j in range(i + 1, n_classes))\n",
    "\n",
    "        return self\n",
    "    \n",
    "    def decision_function(self, X):\n",
    "        check_is_fitted(self, 'estimators_')\n",
    "\n",
    "        predictions = np.vstack([est.predict(X) for est in self.estimators_]).T\n",
    "        confidences = np.vstack([_predict_binary(est, X) for est in self.estimators_]).T\n",
    "        return _ovr_decision_function(predictions, confidences,\n",
    "                                      len(self.classes_))"
   ]
  }
 ],
 "metadata": {
  "kernelspec": {
   "display_name": "Python 2",
   "language": "python",
   "name": "python2"
  },
  "language_info": {
   "codemirror_mode": {
    "name": "ipython",
    "version": 2
   },
   "file_extension": ".py",
   "mimetype": "text/x-python",
   "name": "python",
   "nbconvert_exporter": "python",
   "pygments_lexer": "ipython2",
   "version": "2.7.6"
  }
 },
 "nbformat": 4,
 "nbformat_minor": 0
}
