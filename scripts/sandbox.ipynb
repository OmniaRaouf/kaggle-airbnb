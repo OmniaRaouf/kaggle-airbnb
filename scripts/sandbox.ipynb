{
 "cells": [
  {
   "cell_type": "code",
   "execution_count": 5,
   "metadata": {
    "collapsed": true
   },
   "outputs": [],
   "source": [
    "import pandas as pd\n",
    "import numpy as np\n",
    "from sklearn.preprocessing import LabelEncoder\n",
    "from sklearn.cross_validation import cross_val_score\n",
    "from sklearn.cross_validation import KFold\n",
    "from utils.multiclassification import CustomOneVsOneClassifier\n",
    "\n",
    "from utils.metrics import ndcg_scorer"
   ]
  },
  {
   "cell_type": "code",
   "execution_count": 24,
   "metadata": {
    "collapsed": false
   },
   "outputs": [],
   "source": [
    "train_users = pd.read_csv('../data/processed/ohe_count_processed_train_users.csv', nrows=10000)\n",
    "train_users.fillna(-1, inplace=True)\n",
    "y_train = train_users['country_destination']\n",
    "train_users.drop('country_destination', axis=1, inplace=True)\n",
    "train_users.drop('id', axis=1, inplace=True)\n",
    "x_train = train_users.values\n",
    "label_encoder = LabelEncoder()\n",
    "encoded_y_train = label_encoder.fit_transform(y_train)\n",
    "\n",
    "from sklearn.ensemble import RandomForestClassifier\n",
    "rf = RandomForestClassifier(random_state=41)\n",
    "clf = CustomOneVsOneClassifier(rf, sampling='SMOTEENN')"
   ]
  },
  {
   "cell_type": "code",
   "execution_count": 25,
   "metadata": {
    "collapsed": false
   },
   "outputs": [
    {
     "name": "stdout",
     "output_type": "stream",
     "text": [
      "Classes: 12 [ 0  1  2  3  4  5  6  7  8  9 10 11]\n"
     ]
    }
   ],
   "source": [
    "classes_ = np.unique(encoded_y_train)\n",
    "n_classes = classes_.shape[0]\n",
    "print 'Classes:', n_classes, classes_"
   ]
  },
  {
   "cell_type": "code",
   "execution_count": null,
   "metadata": {
    "collapsed": false
   },
   "outputs": [],
   "source": [
    "# kf = KFold(len(x_train), n_folds=5, random_state=42)\n",
    "\n",
    "# score = cross_val_score(clf, x_train, encoded_y_train,\n",
    "#                         cv=kf, scoring=ndcg_scorer)\n",
    "# print score.mean()"
   ]
  },
  {
   "cell_type": "code",
   "execution_count": 26,
   "metadata": {
    "collapsed": false
   },
   "outputs": [
    {
     "data": {
      "text/plain": [
       "array([[  1.59813084e+00,   2.73364486e+00,   3.77102804e+00, ...,\n",
       "         -1.86915888e-02,   1.14065421e+01,   8.32710280e+00],\n",
       "       [  5.98130841e-01,   4.76635514e+00,   3.75233645e+00, ...,\n",
       "         -4.67289720e-03,   1.14158879e+01,   7.37383178e+00],\n",
       "       [  5.98130841e-01,   4.75233645e+00,   2.77102804e+00, ...,\n",
       "          9.34579439e-03,   1.14485981e+01,   9.35981308e+00],\n",
       "       ..., \n",
       "       [  5.70093458e-01,   3.71028037e+00,   2.76635514e+00, ...,\n",
       "         -4.67289720e-03,   1.04345794e+01,   8.32710280e+00],\n",
       "       [ -4.48598131e-01,   4.76168224e+00,   2.73831776e+00, ...,\n",
       "          1.02803738e+00,   1.03971963e+01,   8.33644860e+00],\n",
       "       [  1.56074766e+00,   3.72429907e+00,   1.71028037e+00, ...,\n",
       "         -3.73831776e-02,   9.37383178e+00,   8.35046729e+00]])"
      ]
     },
     "execution_count": 26,
     "metadata": {},
     "output_type": "execute_result"
    }
   ],
   "source": [
    "clf.fit(x_train, encoded_y_train)\n",
    "clf.predict_proba(x_train)"
   ]
  },
  {
   "cell_type": "code",
   "execution_count": null,
   "metadata": {
    "collapsed": false
   },
   "outputs": [],
   "source": [
    "from __future__ import division\n",
    "\n",
    "import numpy as np\n",
    "\n",
    "from sklearn.multiclass import OneVsOneClassifier\n",
    "from sklearn.multiclass import _fit_binary, check_is_fitted, _predict_binary, _ovr_decision_function\n",
    "from sklearn.externals.joblib import Parallel, delayed\n",
    "from utils.unbalanced_dataset import SMOTE\n",
    "from utils.unbalanced_dataset import SMOTEENN\n",
    "\n",
    "\n",
    "def _confidence_matrix(confidences, n_classes):\n",
    "    confidence_matrix = np.zeros((n_classes, n_classes))\n",
    "    \n",
    "    # Sum by antimsimetrical matrix columns\n",
    "\n",
    "    return confidence_matrix\n",
    "\n",
    "def _generate_instances(X_values, y_values, sampling=None, ratio=1, verbose=False):\n",
    "        if sampling == 'SMOTE':\n",
    "            smote = SMOTE(ratio=ratio, verbose=verbose)\n",
    "\n",
    "        if sampling == 'SMOTEENN':\n",
    "            ratio = ratio * 0.3\n",
    "            smote = SMOTEENN(ratio=ratio, verbose=verbose)\n",
    "\n",
    "        return smote.fit_transform(X_values, y_values)\n",
    "\n",
    "def _fit_ovo_binary(estimator, X, y, i, j, sampling=None, verbose=False):\n",
    "    \"\"\"Fit a single binary estimator (one-vs-one).\"\"\"\n",
    "    cond = np.logical_or(y == i, y == j)\n",
    "    y = y[cond]\n",
    "    y_binary = np.empty(y.shape, np.int)\n",
    "    y_binary[y == i] = 0\n",
    "    y_binary[y == j] = 1\n",
    "    ind = np.arange(X.shape[0])\n",
    "    X_values = X[ind[cond]]\n",
    "    y_values = y_binary\n",
    "\n",
    "    if sampling:\n",
    "        ones = np.count_nonzero(y_values == 1)\n",
    "        zeros = np.count_nonzero(y_values == 0)\n",
    "        ratio = abs(ones - zeros) / min(ones, zeros)\n",
    "        X_values, y_values = _generate_instances(X_values, y_values, sampling=sampling, ratio=ratio)\n",
    "        \n",
    "    return _fit_binary(estimator, X_values, y_values, classes=[i, j])\n",
    "\n",
    "\n",
    "class CustomOneVsOneClassifier(OneVsOneClassifier):\n",
    "\n",
    "    def __init__(self, estimator, n_jobs=1, sampling=None, strategy='vote', verbose=False):\n",
    "        self.estimator = estimator\n",
    "        self.n_jobs = n_jobs\n",
    "        self.sampling = sampling\n",
    "        self.verbose = verbose\n",
    "        self.strategy = strategy\n",
    "    \n",
    "\n",
    "    def predict_proba(self, X):\n",
    "        return self.decision_function(X)\n",
    "\n",
    "    def fit(self, X, y):\n",
    "\n",
    "        if self.strategy is not None:\n",
    "            valid_presets = ('vote', 'weighted_vote', 'dynamic_vote', 'relative_competence')\n",
    "            if self.strategy not in valid_presets:\n",
    "                raise ValueError('Strategy %s is not valid. '\n",
    "                                 'Allowed values are: vote, weighted_vote,'\n",
    "                                 ' dynamic_vote and relative_competence.'\n",
    "                                  % (self.strategy))\n",
    "                \n",
    "        if self.sampling is not None:\n",
    "            valid_presets = ('SMOTE', 'SMOTEENN')\n",
    "            if self.sampling not in valid_presets:\n",
    "                raise ValueError('Sampling %s is not valid. '\n",
    "                                 'Allowed values are: SMOTE, SMOTEENN.'\n",
    "                                  % (self.sampling))\n",
    "        \n",
    "        y = np.asarray(y)\n",
    "\n",
    "        self.classes_ = np.unique(y)\n",
    "        n_classes = self.classes_.shape[0]\n",
    "\n",
    "        self.estimators_ = Parallel(n_jobs=self.n_jobs)(\n",
    "            delayed(_fit_ovo_binary)(\n",
    "                self.estimator, X, y, self.classes_[i], self.classes_[j],\n",
    "                sampling=self.sampling, verbose=self.verbose\n",
    "            ) for i in range(n_classes) for j in range(i + 1, n_classes))\n",
    "\n",
    "        return self\n",
    "    \n",
    "    def decision_function(self, X):\n",
    "        check_is_fitted(self, 'estimators_')\n",
    "\n",
    "        predictions = np.vstack([est.predict(X) for est in self.estimators_]).T\n",
    "        confidences = np.vstack([_predict_binary(est, X) for est in self.estimators_]).T\n",
    "        \n",
    "        if self.strategy == 'weighted_vote': \n",
    "            # Compute matrix for each confidence\n",
    "            # Flatten confidences in axis 1 with sum\n",
    "            # return confidences_sum\n",
    "            raise NotImplementedError('Strategy weighted_vote not implemented.')\n",
    "            \n",
    "        elif self.strategy == 'dynamic_vote':\n",
    "            # _dinamic_ovo(score_matrix, X, y)\n",
    "            raise NotImplementedError('Strategy dynamic_vote not implemented.')\n",
    "        \n",
    "        elif self.strategy == 'relative_competence':\n",
    "            raise NotImplementedError('Strategy relative_competence not implemented.')\n",
    "        \n",
    "        elif self.strategy== 'vote':\n",
    "            return _ovr_decision_function(predictions, confidences,\n",
    "                                      len(self.classes_))"
   ]
  }
 ],
 "metadata": {
  "kernelspec": {
   "display_name": "Python 2",
   "language": "python",
   "name": "python2"
  },
  "language_info": {
   "codemirror_mode": {
    "name": "ipython",
    "version": 2
   },
   "file_extension": ".py",
   "mimetype": "text/x-python",
   "name": "python",
   "nbconvert_exporter": "python",
   "pygments_lexer": "ipython2",
   "version": "2.7.6"
  }
 },
 "nbformat": 4,
 "nbformat_minor": 0
}
