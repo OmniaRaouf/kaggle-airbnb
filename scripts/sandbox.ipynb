{
 "cells": [
  {
   "cell_type": "code",
   "execution_count": 52,
   "metadata": {
    "collapsed": false
   },
   "outputs": [],
   "source": [
    "import pandas as pd\n",
    "from xgboost.sklearn import XGBClassifier\n",
    "from sklearn.preprocessing import LabelEncoder\n",
    "from sklearn.cross_validation import cross_val_score, cross_val_predict\n",
    "from sklearn.cross_validation import KFold\n",
    "from utils.metrics import ndcg_scorer\n",
    "from sklearn.cluster import KMeans\n",
    "from sklearn.ensemble import ExtraTreesClassifier, RandomForestClassifier, BaggingClassifier\n",
    "from sklearn.linear_model import PassiveAggressiveClassifier\n",
    "\n",
    "path = '../data/processed/'\n",
    "train_users = pd.read_csv(path + 'processed_train_users.csv', nrows=20000)\n",
    "train_users.fillna(-1, inplace=True)\n",
    "y_train = train_users['country_destination']\n",
    "train_users.drop(['country_destination', 'id'], axis=1, inplace=True)\n",
    "\n",
    "x_train = train_users.values\n",
    "label_encoder = LabelEncoder()\n",
    "encoded_y_train = label_encoder.fit_transform(y_train)\n",
    "kf = KFold(len(x_train), n_folds=10, random_state=42)"
   ]
  },
  {
   "cell_type": "code",
   "execution_count": 53,
   "metadata": {
    "collapsed": false
   },
   "outputs": [
    {
     "name": "stdout",
     "output_type": "stream",
     "text": [
      "CPU times: user 2min 32s, sys: 580 ms, total: 2min 33s\n",
      "Wall time: 42.2 s\n",
      "0.776040731894\n"
     ]
    }
   ],
   "source": [
    "%time score = cross_val_score(xgb, x_train, encoded_y_train, cv=kf, scoring=ndcg_scorer)\n",
    "print score.mean()"
   ]
  },
  {
   "cell_type": "code",
   "execution_count": null,
   "metadata": {
    "collapsed": true
   },
   "outputs": [],
   "source": [
    "test = pd.DataFrame()\n",
    "\n",
    "xgb = XGBClassifier(nthread=-1, seed=42)\n",
    "test['preds_xgb'] = cross_val_predict(xgb, x_train, encoded_y_train, cv=kf)\n",
    "\n",
    "# m = KMeans(4, n_jobs=-1, random_state=42)\n",
    "# cluster = m.fit_predict(train_users)\n",
    "# test['cluster'] = cluster\n",
    "\n",
    "xtree = ExtraTreesClassifier(n_jobs=-1)\n",
    "test['preds_xtree'] = cross_val_predict(xgb, x_train, encoded_y_train, cv=kf)\n",
    "\n",
    "xtree = RandomForestClassifier(n_jobs=-1)\n",
    "test['preds_rf'] = cross_val_predict(xtree, x_train, encoded_y_train, cv=kf)\n",
    "\n",
    "xtree = PassiveAggressiveClassifier(n_jobs=-1)\n",
    "test['preds_pa'] = cross_val_predict(xtree, x_train, encoded_y_train, cv=kf)"
   ]
  },
  {
   "cell_type": "code",
   "execution_count": null,
   "metadata": {
    "collapsed": false
   },
   "outputs": [],
   "source": [
    "xgb = XGBClassifier(n_estimators=5, max_depth=5, nthread=-1, seed=42)\n",
    "%time score = cross_val_score(xgb, test, encoded_y_train, cv=kf, scoring=ndcg_scorer)\n",
    "print score.mean()"
   ]
  },
  {
   "cell_type": "code",
   "execution_count": null,
   "metadata": {
    "collapsed": true
   },
   "outputs": [],
   "source": [
    "b = BaggingClassifier(xgb, n_jobs=-1, warm_start=True)\n",
    "b.fit(x_train[:-2000], encoded_y_train[:-2000])\n",
    "b."
   ]
  }
 ],
 "metadata": {
  "kernelspec": {
   "display_name": "Python 2",
   "language": "python",
   "name": "python2"
  },
  "language_info": {
   "codemirror_mode": {
    "name": "ipython",
    "version": 2
   },
   "file_extension": ".py",
   "mimetype": "text/x-python",
   "name": "python",
   "nbconvert_exporter": "python",
   "pygments_lexer": "ipython2",
   "version": "2.7.6"
  }
 },
 "nbformat": 4,
 "nbformat_minor": 0
}
