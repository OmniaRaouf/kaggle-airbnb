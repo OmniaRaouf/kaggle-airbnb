{
 "cells": [
  {
   "cell_type": "code",
   "execution_count": 2,
   "metadata": {
    "collapsed": true
   },
   "outputs": [],
   "source": [
    "#!/usr/bin/env python\n",
    "\n",
    "import pandas as pd\n",
    "from sklearn.preprocessing import LabelEncoder\n",
    "from xgboost.sklearn import XGBClassifier\n",
    "\n",
    "from utils.io import generate_submission\n",
    "from utils.multiclassification import CustomOneVsOneClassifier"
   ]
  },
  {
   "cell_type": "code",
   "execution_count": 6,
   "metadata": {
    "collapsed": false
   },
   "outputs": [],
   "source": [
    "path = '../data/processed/'\n",
    "prefix = 'ohe_count_processed_'\n",
    "train_users = pd.read_csv(path + prefix + 'train_users.csv', nrows=1000)\n",
    "test_users = pd.read_csv(path + prefix + 'test_users.csv', nrows=1000)\n",
    "\n",
    "y_train = train_users['country_destination']\n",
    "train_users.drop(['country_destination', 'id'], axis=1, inplace=True)\n",
    "train_users = train_users.fillna(-1)\n",
    "x_train = train_users.values\n",
    "label_encoder = LabelEncoder()\n",
    "encoded_y_train = label_encoder.fit_transform(y_train)\n",
    "\n",
    "test_users_ids = test_users['id']\n",
    "test_users.drop('id', axis=1, inplace=True)\n",
    "test_users = test_users.fillna(-1)\n",
    "x_test = test_users.values\n",
    "\n",
    "xgb = XGBClassifier(\n",
    "    max_depth=6,\n",
    "    learning_rate=0.17,\n",
    "    n_estimators=40,\n",
    "    gamma=0,\n",
    "    min_child_weight=1,\n",
    "    max_delta_step=0,\n",
    "    subsample=1,\n",
    "    colsample_bytree=1,\n",
    "    colsample_bylevel=1,\n",
    "    reg_alpha=0,\n",
    "    reg_lambda=1,\n",
    "    scale_pos_weight=1,\n",
    "    base_score=0.5,\n",
    "    missing=None,\n",
    "    silent=True,\n",
    "    nthread=-1,\n",
    "    seed=42\n",
    ")"
   ]
  },
  {
   "cell_type": "code",
   "execution_count": 9,
   "metadata": {
    "collapsed": false
   },
   "outputs": [],
   "source": [
    "clf = CustomOneVsOneClassifier(xgb, strategy='dynamic_vote', verbose=True)\n",
    "clf.fit(x_train, encoded_y_train)\n",
    "y_pred = clf.predict_proba(x_test)\n",
    "generate_submission(y_pred, test_users_ids, label_encoder, name='dynamic_ovo')"
   ]
  }
 ],
 "metadata": {
  "kernelspec": {
   "display_name": "Python 2",
   "language": "python",
   "name": "python2"
  },
  "language_info": {
   "codemirror_mode": {
    "name": "ipython",
    "version": 2
   },
   "file_extension": ".py",
   "mimetype": "text/x-python",
   "name": "python",
   "nbconvert_exporter": "python",
   "pygments_lexer": "ipython2",
   "version": "2.7.6"
  }
 },
 "nbformat": 4,
 "nbformat_minor": 0
}
