{
 "cells": [
  {
   "cell_type": "code",
   "execution_count": 44,
   "metadata": {
    "collapsed": true
   },
   "outputs": [],
   "source": [
    "import pandas as pd\n",
    "import numpy as np\n",
    "from sklearn.ensemble import RandomForestClassifier\n",
    "from xgboost.sklearn import XGBClassifier\n",
    "from sklearn.preprocessing import LabelEncoder\n",
    "from sklearn.cross_validation import cross_val_score\n",
    "from xgboost.sklearn import XGBClassifier\n",
    "from sklearn.cross_validation import KFold\n",
    "from sklearn.feature_selection import SelectFromModel\n",
    "\n",
    "from utils.metrics import ndcg_scorer"
   ]
  },
  {
   "cell_type": "code",
   "execution_count": 45,
   "metadata": {
    "collapsed": false
   },
   "outputs": [],
   "source": [
    "path = '../data/processed/'\n",
    "train_users = pd.read_csv(path + 'ohe_count_processed_train_users.csv', nrows=50000)\n",
    "y_train = train_users['country_destination']\n",
    "train_users.drop('country_destination', axis=1, inplace=True)\n",
    "train_users.drop('id', axis=1, inplace=True)\n",
    "train_users = train_users.fillna(-1)\n",
    "x_train = train_users.values\n",
    "label_encoder = LabelEncoder()\n",
    "encoded_y_train = label_encoder.fit_transform(y_train)"
   ]
  },
  {
   "cell_type": "code",
   "execution_count": 46,
   "metadata": {
    "collapsed": true
   },
   "outputs": [],
   "source": [
    "clf = XGBClassifier(n_estimators=1, nthread=-1, seed=42)\n",
    "kf = KFold(len(x_train), n_folds=5, random_state=42)"
   ]
  },
  {
   "cell_type": "code",
   "execution_count": 47,
   "metadata": {
    "collapsed": false
   },
   "outputs": [
    {
     "name": "stdout",
     "output_type": "stream",
     "text": [
      "CPU times: user 22.5 s, sys: 420 ms, total: 23 s\n",
      "Wall time: 6.33 s\n",
      "Score: 0.789645788298\n"
     ]
    }
   ],
   "source": [
    "%time score = cross_val_score(clf, x_train, encoded_y_train, cv=kf, scoring=ndcg_scorer)\n",
    "print 'Score:', score.mean()"
   ]
  },
  {
   "cell_type": "code",
   "execution_count": 48,
   "metadata": {
    "collapsed": true
   },
   "outputs": [],
   "source": [
    "class CustomXGB(XGBClassifier):\n",
    "\n",
    "    @property\n",
    "    def feature_importances_(self):\n",
    "        \"\"\"Return the feature importances (the higher, the more important the\n",
    "           feature).\n",
    "        Returns\n",
    "        -------\n",
    "        feature_importances_ : array, shape = [n_features]\n",
    "        \"\"\"\n",
    "        booster = self.booster()\n",
    "        scores = booster.get_fscore()\n",
    "        all_scores = pd.Series(np.zeros(x_train.shape[1]))\n",
    "        scores = pd.Series(scores)\n",
    "        scores.index = scores.index.map(lambda x: x[1:]).astype(int)\n",
    "        final_scores = all_scores + scores\n",
    "        importances = final_scores.fillna(0).values\n",
    "        return importances"
   ]
  },
  {
   "cell_type": "code",
   "execution_count": 49,
   "metadata": {
    "collapsed": false
   },
   "outputs": [],
   "source": [
    "custom = CustomXGB(n_estimators=1, seed=42, nthread=-1)\n",
    "model = SelectFromModel(custom)\n",
    "X_new = model.fit_transform(x_train, encoded_y_train)"
   ]
  },
  {
   "cell_type": "code",
   "execution_count": 50,
   "metadata": {
    "collapsed": false
   },
   "outputs": [
    {
     "name": "stdout",
     "output_type": "stream",
     "text": [
      "CPU times: user 7.04 s, sys: 0 ns, total: 7.04 s\n",
      "Wall time: 3.33 s\n",
      "Score: 0.790054510573\n"
     ]
    }
   ],
   "source": [
    "%time score = cross_val_score(clf, X_new, encoded_y_train, cv=kf, scoring=ndcg_scorer)\n",
    "print 'Score:', score.mean()"
   ]
  }
 ],
 "metadata": {
  "kernelspec": {
   "display_name": "Python 2",
   "language": "python",
   "name": "python2"
  },
  "language_info": {
   "codemirror_mode": {
    "name": "ipython",
    "version": 2
   },
   "file_extension": ".py",
   "mimetype": "text/x-python",
   "name": "python",
   "nbconvert_exporter": "python",
   "pygments_lexer": "ipython2",
   "version": "2.7.6"
  }
 },
 "nbformat": 4,
 "nbformat_minor": 0
}
