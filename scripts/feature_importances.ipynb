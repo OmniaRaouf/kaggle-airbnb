{
 "cells": [
  {
   "cell_type": "code",
   "execution_count": 114,
   "metadata": {
    "collapsed": true
   },
   "outputs": [],
   "source": [
    "import pandas as pd\n",
    "import numpy as np\n",
    "from sklearn.preprocessing import LabelEncoder\n",
    "from xgboost.sklearn import XGBClassifier"
   ]
  },
  {
   "cell_type": "code",
   "execution_count": 121,
   "metadata": {
    "collapsed": false
   },
   "outputs": [],
   "source": [
    "path = '../data/processed/'\n",
    "train_users = pd.read_csv(path + 'processed_train_users.csv', nrows=10000)\n",
    "y_train = train_users['country_destination']\n",
    "train_users.drop('country_destination', axis=1, inplace=True)\n",
    "train_users.drop('id', axis=1, inplace=True)\n",
    "x_train = train_users.fillna(-1)\n",
    "label_encoder = LabelEncoder()\n",
    "encoded_y_train = label_encoder.fit_transform(y_train)"
   ]
  },
  {
   "cell_type": "code",
   "execution_count": 124,
   "metadata": {
    "collapsed": false
   },
   "outputs": [
    {
     "data": {
      "text/plain": [
       "XGBClassifier(base_score=0.5, colsample_bylevel=1, colsample_bytree=1,\n",
       "       gamma=0, learning_rate=0.1, max_delta_step=0, max_depth=10,\n",
       "       min_child_weight=1, missing=None, n_estimators=5, nthread=-1,\n",
       "       objective='multi:softprob', reg_alpha=0, reg_lambda=1,\n",
       "       scale_pos_weight=1, seed=42, silent=True, subsample=1)"
      ]
     },
     "execution_count": 124,
     "metadata": {},
     "output_type": "execute_result"
    }
   ],
   "source": [
    "clf = XGBClassifier(\n",
    "    max_depth=10,\n",
    "    learning_rate=0.1,\n",
    "    n_estimators=1,\n",
    "    gamma=0,\n",
    "    min_child_weight=1,\n",
    "    max_delta_step=0,\n",
    "    subsample=1,\n",
    "    colsample_bytree=1,\n",
    "    colsample_bylevel=1,\n",
    "    reg_alpha=0,\n",
    "    reg_lambda=1,\n",
    "    scale_pos_weight=1,\n",
    "    base_score=0.5,\n",
    "    missing=None,\n",
    "    silent=True,\n",
    "    nthread=-1,\n",
    "    seed=42\n",
    ")\n",
    "\n",
    "clf.fit(x_train, encoded_y_train)"
   ]
  },
  {
   "cell_type": "code",
   "execution_count": 125,
   "metadata": {
    "collapsed": false
   },
   "outputs": [
    {
     "name": "stdout",
     "output_type": "stream",
     "text": [
      "Scores processed: {'day_account_created': 1142, 'first_affiliate_tracked_tracked-other': 41, 'first_device_type_Desktop (Other)': 10, 'day_first_active': 122, 'affiliate_provider_vast': 51, 'gender_OTHER': 10, 'first_browser_Mobile Safari': 26, 'first_affiliate_tracked_omg': 63, 'affiliate_channel_sem-brand': 53, 'affiliate_provider_bing': 27, 'affiliate_provider_craigslist': 44, 'affiliate_channel_seo': 66, 'affiliate_channel_other': 56, 'affiliate_channel_content': 45, 'first_browser_Android Browser': 21, 'first_browser_Chrome': 113, 'language_en': 44, 'language_zh': 9, 'first_device_type_Windows Desktop': 78, 'affiliate_provider_google': 82, 'affiliate_provider_facebook': 9, 'age': 1007, 'language_es': 15, 'signup_method_basic': 105, 'month_first_active': 97, 'weekday_account_created': 694, 'first_browser_-unknown-': 51, 'first_device_type_Other/Unknown': 68, 'first_device_type_iPad': 88, 'signup_flow_6': 25, 'year_account_created': 126, 'signup_flow_3': 94, 'signup_flow_2': 96, 'signup_flow_1': 20, 'signup_flow_0': 101, 'first_affiliate_tracked_untracked': 127, 'signup_flow_8': 10, 'affiliate_channel_remarketing': 6, 'first_device_type_Android Tablet': 5, 'gender_FEMALE': 139, 'affiliate_channel_sem-non-brand': 96, 'first_device_type_Android Phone': 13, 'first_device_type_iPhone': 46, 'language_ko': 8, 'gender_MALE': 173, 'first_browser_Firefox': 127, 'affiliate_channel_direct': 131, 'month_account_created': 746, 'year_first_active': 16, 'first_device_type_Mac Desktop': 112, 'language_fr': 5, 'first_browser_IE': 55, 'first_affiliate_tracked_linked': 87, 'affiliate_provider_direct': 25, 'affiliate_provider_other': 17, 'first_browser_Chrome Mobile': 15, 'first_browser_Safari': 95, 'language_de': 5}\n"
     ]
    }
   ],
   "source": [
    "processed = clf.booster().get_fscore().keys()\n",
    "print 'Scores processed:', clf.booster().get_fscore()"
   ]
  },
  {
   "cell_type": "code",
   "execution_count": 112,
   "metadata": {
    "collapsed": true
   },
   "outputs": [],
   "source": [
    "path = '../data/processed/'\n",
    "train_users = pd.read_csv(path + 'ohe_count_processed_train_users.csv', nrows=10000)\n",
    "y_train = train_users['country_destination']\n",
    "train_users.drop('country_destination', axis=1, inplace=True)\n",
    "train_users.drop('id', axis=1, inplace=True)\n",
    "x_train = train_users.fillna(-1)\n",
    "label_encoder = LabelEncoder()\n",
    "encoded_y_train = label_encoder.fit_transform(y_train)"
   ]
  },
  {
   "cell_type": "code",
   "execution_count": 93,
   "metadata": {
    "collapsed": false
   },
   "outputs": [
    {
     "data": {
      "text/plain": [
       "XGBClassifier(base_score=0.5, colsample_bylevel=1, colsample_bytree=1,\n",
       "       gamma=0, learning_rate=0.18, max_delta_step=0, max_depth=7,\n",
       "       min_child_weight=1, missing=None, n_estimators=80, nthread=-1,\n",
       "       objective='multi:softprob', reg_alpha=0, reg_lambda=1,\n",
       "       scale_pos_weight=1, seed=42, silent=True, subsample=1)"
      ]
     },
     "execution_count": 93,
     "metadata": {},
     "output_type": "execute_result"
    }
   ],
   "source": [
    "clf.fit(x_train, encoded_y_train)"
   ]
  },
  {
   "cell_type": "code",
   "execution_count": 94,
   "metadata": {
    "collapsed": false
   },
   "outputs": [
    {
     "name": "stdout",
     "output_type": "stream",
     "text": [
      "Scores count: {'day_account_created': 4432, 'month_account_created': 3101, 'first_affiliate_tracked_tracked-other': 149, 'first_device_type_Desktop (Other)': 51, 'signup_flow_8.0': 62, 'first_browser_AOL Explorer': 28, 'day_first_active': 1562, 'affiliate_provider_vast': 185, 'first_browser_Firefox': 526, 'first_browser_IE Mobile': 17, 'gender_OTHER': 53, 'affiliate_channel_sem-brand': 217, 'first_device_type_Mac Desktop': 529, 'language_nl': 19, 'language_ja': 17, 'first_browser_Chrome': 645, 'first_browser_Mobile Safari': 174, 'first_affiliate_tracked_omg': 353, 'affiliate_channel_seo': 307, 'affiliate_provider_bing': 78, 'affiliate_provider_craigslist': 270, 'affiliate_provider_facebook': 52, 'affiliate_channel_other': 347, 'affiliate_channel_content': 244, 'language_it': 8, 'first_affiliate_tracked_untracked': 661, 'language_en': 120, 'language_zh': 56, 'first_device_type_Windows Desktop': 473, 'affiliate_provider_google': 380, 'first_affiliate_tracked_marketing': 11, 'language_es': 75, 'affiliate_channel_remarketing': 40, 'first_browser_IE': 274, 'first_browser_Silk': 21, 'first_browser_-unknown-': 220, 'first_device_type_Other/Unknown': 335, 'first_device_type_iPad': 270, 'weekday_first_active': 768, 'year_account_created': 524, 'first_browser_Opera': 21, 'first_browser_Android Browser': 87, 'signup_flow_6.0': 110, 'first_browser_Chromium': 1, 'signup_method_basic': 677, 'signup_flow_1.0': 143, 'gender_FEMALE': 678, 'affiliate_channel_sem-non-brand': 434, 'first_device_type_Android Phone': 121, 'first_device_type_iPhone': 202, 'language_ko': 47, 'language_sv': 1, 'gender_MALE': 670, 'signup_flow_2.0': 645, 'first_affiliate_tracked_product': 13, 'signup_flow_3.0': 614, 'weekday_account_created': 2546, 'affiliate_channel_direct': 394, 'affiliate_provider_direct': 280, 'age': 5415, 'first_device_type_Android Tablet': 62, 'signup_flow_0.0': 577, 'language_fr': 34, 'month_first_active': 818, 'first_affiliate_tracked_linked': 539, 'year_first_active': 183, 'affiliate_provider_other': 198, 'first_browser_Chrome Mobile': 77, 'first_browser_Safari': 544, 'language_de': 36}\n"
     ]
    }
   ],
   "source": [
    "count = clf.booster().get_fscore().keys()\n",
    "print 'Scores count:', clf.booster().get_fscore()"
   ]
  },
  {
   "cell_type": "code",
   "execution_count": 95,
   "metadata": {
    "collapsed": false
   },
   "outputs": [
    {
     "name": "stdout",
     "output_type": "stream",
     "text": [
      "diffs set(['signup_flow_6', 'signup_flow_3', 'signup_flow_2', 'signup_flow_1', 'signup_flow_0', 'signup_flow_8', 'language_ru'])\n"
     ]
    }
   ],
   "source": [
    "print 'diffs', set(processed) - set(count)"
   ]
  },
  {
   "cell_type": "code",
   "execution_count": 96,
   "metadata": {
    "collapsed": false
   },
   "outputs": [
    {
     "name": "stdout",
     "output_type": "stream",
     "text": [
      "diffs2 set(['signup_flow_3.0', 'signup_flow_6.0', 'signup_flow_8.0', 'weekday_first_active', 'signup_flow_0.0', 'signup_flow_1.0', 'language_sv', 'signup_flow_2.0'])\n"
     ]
    }
   ],
   "source": [
    "print 'diffs2', set(count) - set(processed)"
   ]
  },
  {
   "cell_type": "code",
   "execution_count": 107,
   "metadata": {
    "collapsed": false
   },
   "outputs": [
    {
     "data": {
      "text/plain": [
       "1    1648\n",
       "3    1633\n",
       "2    1619\n",
       "0    1572\n",
       "4    1360\n",
       "5    1108\n",
       "6    1060\n",
       "Name: weekday_first_active, dtype: int64"
      ]
     },
     "execution_count": 107,
     "metadata": {},
     "output_type": "execute_result"
    }
   ],
   "source": [
    "a"
   ]
  }
 ],
 "metadata": {
  "kernelspec": {
   "display_name": "Python 2",
   "language": "python",
   "name": "python2"
  },
  "language_info": {
   "codemirror_mode": {
    "name": "ipython",
    "version": 2
   },
   "file_extension": ".py",
   "mimetype": "text/x-python",
   "name": "python",
   "nbconvert_exporter": "python",
   "pygments_lexer": "ipython2",
   "version": "2.7.6"
  }
 },
 "nbformat": 4,
 "nbformat_minor": 0
}
