{
 "cells": [
  {
   "cell_type": "code",
   "execution_count": 22,
   "metadata": {
    "collapsed": true
   },
   "outputs": [],
   "source": [
    "import numpy as np\n",
    "from __future__ import division"
   ]
  },
  {
   "cell_type": "code",
   "execution_count": 45,
   "metadata": {
    "collapsed": true
   },
   "outputs": [],
   "source": [
    "def get_weight_matrix(distances):\n",
    "    n_classes = len(distances)\n",
    "    matrix = np.zeros((n_classes,n_classes))\n",
    "    \n",
    "    for i in range(n_classes):\n",
    "        for j in range(n_classes):\n",
    "            if i == j:\n",
    "                continue\n",
    "            \n",
    "            numerator = distances[i] * distances[i]\n",
    "            denominator = numerator + (distances[j] * distances[j])\n",
    "            matrix[i][j] = numerator / denominator\n",
    "            \n",
    "    return matrix"
   ]
  },
  {
   "cell_type": "code",
   "execution_count": 44,
   "metadata": {
    "collapsed": false
   },
   "outputs": [],
   "source": [
    "R = np.array(\n",
    "    [\n",
    "        [0, 0.55, 0.45, 0.8, 0.9],\n",
    "        [0.45, 0, 0.55, 1, 0.8],\n",
    "        [0.55, 0.45, 0, 0.45, 0.40],\n",
    "        [0.2, 0, 0.55, 0, 0.10],\n",
    "        [0.1, 0.2, 0.6, 0.9, 0] \n",
    "    ]).T\n",
    "\n",
    "d = np.array([0.8, 0.9, 0.6, 1.2, 1.6])"
   ]
  },
  {
   "cell_type": "code",
   "execution_count": 46,
   "metadata": {
    "collapsed": false
   },
   "outputs": [],
   "source": [
    "w = get_weight_matrix(d)"
   ]
  },
  {
   "cell_type": "code",
   "execution_count": 47,
   "metadata": {
    "collapsed": true
   },
   "outputs": [],
   "source": [
    "rw = R * w"
   ]
  },
  {
   "cell_type": "code",
   "execution_count": 49,
   "metadata": {
    "collapsed": false
   },
   "outputs": [
    {
     "data": {
      "text/plain": [
       "array([ 1.74308753,  1.61556659,  1.37422339,  0.23553846,  0.46604382])"
      ]
     },
     "execution_count": 49,
     "metadata": {},
     "output_type": "execute_result"
    }
   ],
   "source": [
    "rw.sum(axis=0)"
   ]
  },
  {
   "cell_type": "code",
   "execution_count": 15,
   "metadata": {
    "collapsed": false
   },
   "outputs": [
    {
     "data": {
      "text/plain": [
       "array([ 2.7 ,  2.8 ,  1.85,  0.85,  1.8 ])"
      ]
     },
     "execution_count": 15,
     "metadata": {},
     "output_type": "execute_result"
    }
   ],
   "source": [
    "np.sum(m, axis=0)"
   ]
  }
 ],
 "metadata": {
  "kernelspec": {
   "display_name": "Python 2",
   "language": "python",
   "name": "python2"
  },
  "language_info": {
   "codemirror_mode": {
    "name": "ipython",
    "version": 2
   },
   "file_extension": ".py",
   "mimetype": "text/x-python",
   "name": "python",
   "nbconvert_exporter": "python",
   "pygments_lexer": "ipython2",
   "version": "2.7.6"
  }
 },
 "nbformat": 4,
 "nbformat_minor": 0
}
